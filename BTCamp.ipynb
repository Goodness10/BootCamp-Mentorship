{
 "cells": [
  {
   "cell_type": "code",
   "execution_count": 1,
   "metadata": {},
   "outputs": [],
   "source": [
    "import numpy as np\n",
    "import pandas as pd\n",
    "import matplotlib.pyplot as plt\n",
    "import seaborn as sns"
   ]
  },
  {
   "cell_type": "code",
   "execution_count": 2,
   "metadata": {},
   "outputs": [],
   "source": [
    "train = pd.read_csv('C:/Users/USER/Desktop/DSN Hackathon/Bootcamp Qualification/Train (2).csv')\n",
    "test_given = pd.read_csv('C:/Users/USER/Desktop/DSN Hackathon/Bootcamp Qualification/Test (2).csv')\n",
    "sample_submission = pd.read_csv('C:/Users/USER/Desktop/DSN Hackathon/Bootcamp Qualification/SampleSubmission (2).csv')"
   ]
  },
  {
   "cell_type": "code",
   "execution_count": 3,
   "metadata": {},
   "outputs": [
    {
     "name": "stdout",
     "output_type": "stream",
     "text": [
      "<class 'pandas.core.frame.DataFrame'>\n",
      "RangeIndex: 56000 entries, 0 to 55999\n",
      "Data columns (total 52 columns):\n",
      " #   Column          Non-Null Count  Dtype  \n",
      "---  ------          --------------  -----  \n",
      " 0   Applicant_ID    56000 non-null  object \n",
      " 1   form_field1     53471 non-null  float64\n",
      " 2   form_field2     52156 non-null  float64\n",
      " 3   form_field3     55645 non-null  float64\n",
      " 4   form_field4     55645 non-null  float64\n",
      " 5   form_field5     55645 non-null  float64\n",
      " 6   form_field6     42640 non-null  float64\n",
      " 7   form_field7     50837 non-null  float64\n",
      " 8   form_field8     42640 non-null  float64\n",
      " 9   form_field9     47992 non-null  float64\n",
      " 10  form_field10    55645 non-null  float64\n",
      " 11  form_field11    24579 non-null  float64\n",
      " 12  form_field12    46105 non-null  float64\n",
      " 13  form_field13    50111 non-null  float64\n",
      " 14  form_field14    56000 non-null  int64  \n",
      " 15  form_field15    33525 non-null  float64\n",
      " 16  form_field16    42964 non-null  float64\n",
      " 17  form_field17    44849 non-null  float64\n",
      " 18  form_field18    45598 non-null  float64\n",
      " 19  form_field19    55996 non-null  float64\n",
      " 20  form_field20    55645 non-null  float64\n",
      " 21  form_field21    40146 non-null  float64\n",
      " 22  form_field22    35600 non-null  float64\n",
      " 23  form_field23    27877 non-null  float64\n",
      " 24  form_field24    42703 non-null  float64\n",
      " 25  form_field25    50550 non-null  float64\n",
      " 26  form_field26    48562 non-null  float64\n",
      " 27  form_field27    46701 non-null  float64\n",
      " 28  form_field28    55645 non-null  float64\n",
      " 29  form_field29    55645 non-null  float64\n",
      " 30  form_field30    30491 non-null  float64\n",
      " 31  form_field31    16592 non-null  float64\n",
      " 32  form_field32    50550 non-null  float64\n",
      " 33  form_field33    54744 non-null  float64\n",
      " 34  form_field34    55645 non-null  float64\n",
      " 35  form_field35    32852 non-null  float64\n",
      " 36  form_field36    54005 non-null  float64\n",
      " 37  form_field37    50550 non-null  float64\n",
      " 38  form_field38    55645 non-null  float64\n",
      " 39  form_field39    51789 non-null  float64\n",
      " 40  form_field40    12271 non-null  float64\n",
      " 41  form_field41    17771 non-null  float64\n",
      " 42  form_field42    54677 non-null  float64\n",
      " 43  form_field43    55432 non-null  float64\n",
      " 44  form_field44    50617 non-null  float64\n",
      " 45  form_field45    24683 non-null  float64\n",
      " 46  form_field46    40096 non-null  float64\n",
      " 47  form_field47    56000 non-null  object \n",
      " 48  form_field48    35111 non-null  float64\n",
      " 49  form_field49    55645 non-null  float64\n",
      " 50  form_field50    44944 non-null  float64\n",
      " 51  default_status  56000 non-null  object \n",
      "dtypes: float64(48), int64(1), object(3)\n",
      "memory usage: 22.2+ MB\n"
     ]
    }
   ],
   "source": [
    "train.info()"
   ]
  },
  {
   "cell_type": "code",
   "execution_count": 4,
   "metadata": {},
   "outputs": [
    {
     "data": {
      "text/plain": [
       "form_field19    0.000071\n",
       "form_field49    0.006339\n",
       "form_field29    0.006339\n",
       "form_field3     0.006339\n",
       "form_field4     0.006339\n",
       "form_field5     0.006339\n",
       "form_field20    0.006339\n",
       "form_field10    0.006339\n",
       "form_field28    0.006339\n",
       "form_field38    0.006339\n",
       "form_field34    0.006339\n",
       "form_field43    0.010143\n",
       "form_field33    0.022429\n",
       "form_field42    0.023625\n",
       "form_field36    0.035625\n",
       "form_field1     0.045161\n",
       "form_field2     0.068643\n",
       "form_field39    0.075196\n",
       "form_field7     0.092196\n",
       "form_field44    0.096125\n",
       "form_field32    0.097321\n",
       "form_field37    0.097321\n",
       "form_field25    0.097321\n",
       "form_field13    0.105161\n",
       "form_field26    0.132821\n",
       "form_field9     0.143000\n",
       "form_field27    0.166054\n",
       "form_field12    0.176696\n",
       "form_field18    0.185750\n",
       "form_field50    0.197429\n",
       "form_field17    0.199125\n",
       "form_field16    0.232786\n",
       "form_field24    0.237446\n",
       "form_field6     0.238571\n",
       "form_field8     0.238571\n",
       "form_field21    0.283107\n",
       "form_field46    0.284000\n",
       "form_field22    0.364286\n",
       "form_field48    0.373018\n",
       "form_field15    0.401339\n",
       "form_field35    0.413357\n",
       "form_field30    0.455518\n",
       "form_field23    0.502196\n",
       "form_field45    0.559232\n",
       "form_field11    0.561089\n",
       "form_field41    0.682661\n",
       "form_field31    0.703714\n",
       "form_field40    0.780875\n",
       "dtype: float64"
      ]
     },
     "execution_count": 4,
     "metadata": {},
     "output_type": "execute_result"
    }
   ],
   "source": [
    "null = train.isna().sum()/len(train)\n",
    "null[null>0].sort_values()"
   ]
  },
  {
   "cell_type": "code",
   "execution_count": 5,
   "metadata": {},
   "outputs": [],
   "source": [
    "# Encoding categorical variables\n",
    "train['form_field47'].replace('charge',1, inplace=True)\n",
    "train['form_field47'].replace('lending',0, inplace=True)\n",
    "train['default_status'].replace('yes',1, inplace=True)\n",
    "train['default_status'].replace('no',0, inplace=True)\n",
    "\n",
    "test_given['form_field47'].replace('charge',1, inplace=True)\n",
    "test_given['form_field47'].replace('lending',0, inplace=True)\n"
   ]
  },
  {
   "cell_type": "code",
   "execution_count": 6,
   "metadata": {},
   "outputs": [],
   "source": [
    "#from sklearn.ensemble import RandomForestClassifier\n",
    "#model = RandomForestClassifier()\n",
    "#model.fit(X,Y)\n",
    "#importance = model.feature_importances_\n",
    "#for i,v in enumerate(importance):\n",
    "#    print('Feature: %0d, Score: %.5f' % (i,v))"
   ]
  },
  {
   "cell_type": "code",
   "execution_count": 7,
   "metadata": {},
   "outputs": [],
   "source": [
    "#plt.bar([i for i in range(len(importance))], importance)\n",
    "#plt.show()"
   ]
  },
  {
   "cell_type": "code",
   "execution_count": 8,
   "metadata": {},
   "outputs": [],
   "source": [
    "X = train.drop(['Applicant_ID','form_field23','form_field45','form_field11','form_field41','form_field40', 'form_field4','form_field17','form_field18','form_field30','form_field31','form_field35','form_field39','default_status'], axis=1)\n",
    "Y = train.iloc[:,-1]\n",
    "\n",
    "test_given_new = test_given.drop(['Applicant_ID','form_field23','form_field45','form_field11','form_field41','form_field40', 'form_field4','form_field17','form_field18','form_field30','form_field31','form_field35','form_field39'], axis=1)"
   ]
  },
  {
   "cell_type": "code",
   "execution_count": 9,
   "metadata": {},
   "outputs": [
    {
     "data": {
      "text/plain": [
       "form_field3     0.006083\n",
       "form_field4     0.006083\n",
       "form_field5     0.006083\n",
       "form_field49    0.006083\n",
       "form_field38    0.006125\n",
       "form_field28    0.006125\n",
       "form_field29    0.006125\n",
       "form_field20    0.006125\n",
       "form_field10    0.006125\n",
       "form_field34    0.006125\n",
       "form_field43    0.010417\n",
       "form_field33    0.020625\n",
       "form_field42    0.024083\n",
       "form_field36    0.037625\n",
       "form_field1     0.046250\n",
       "form_field2     0.071208\n",
       "form_field39    0.076208\n",
       "form_field7     0.092958\n",
       "form_field32    0.094000\n",
       "form_field37    0.094000\n",
       "form_field25    0.094000\n",
       "form_field44    0.098417\n",
       "form_field13    0.102625\n",
       "form_field26    0.132167\n",
       "form_field9     0.141667\n",
       "form_field27    0.162917\n",
       "form_field12    0.174292\n",
       "form_field18    0.182042\n",
       "form_field17    0.195625\n",
       "form_field50    0.199875\n",
       "form_field16    0.228083\n",
       "form_field6     0.233500\n",
       "form_field8     0.233500\n",
       "form_field24    0.233542\n",
       "form_field21    0.279458\n",
       "form_field46    0.286875\n",
       "form_field22    0.363500\n",
       "form_field48    0.371750\n",
       "form_field15    0.399667\n",
       "form_field35    0.411083\n",
       "form_field30    0.454500\n",
       "form_field23    0.505208\n",
       "form_field11    0.558250\n",
       "form_field45    0.564083\n",
       "form_field41    0.681208\n",
       "form_field31    0.700417\n",
       "form_field40    0.784500\n",
       "dtype: float64"
      ]
     },
     "execution_count": 9,
     "metadata": {},
     "output_type": "execute_result"
    }
   ],
   "source": [
    "X_null = test_given.isna().sum()/len(test_given)\n",
    "X_null[X_null>0].sort_values()"
   ]
  },
  {
   "cell_type": "code",
   "execution_count": 10,
   "metadata": {},
   "outputs": [],
   "source": [
    "X.replace(np.nan,-999, inplace=True)\n",
    "test_given_new.replace(np.nan,-999, inplace=True)"
   ]
  },
  {
   "cell_type": "code",
   "execution_count": 11,
   "metadata": {},
   "outputs": [],
   "source": [
    "#Splitting into test and train set\n",
    "from sklearn.model_selection import train_test_split\n",
    "X_train, X_test, Y_train, Y_test = train_test_split(X,Y,test_size=0.2, random_state = 0)"
   ]
  },
  {
   "cell_type": "code",
   "execution_count": 12,
   "metadata": {},
   "outputs": [],
   "source": [
    "#X.isna().sum()"
   ]
  },
  {
   "cell_type": "code",
   "execution_count": 13,
   "metadata": {},
   "outputs": [
    {
     "name": "stdout",
     "output_type": "stream",
     "text": [
      "0:\tlearn: 0.5323351\ttotal: 115ms\tremaining: 22.8s\n",
      "1:\tlearn: 0.4957681\ttotal: 164ms\tremaining: 16.2s\n",
      "2:\tlearn: 0.4766687\ttotal: 211ms\tremaining: 13.9s\n",
      "3:\tlearn: 0.4660769\ttotal: 258ms\tremaining: 12.7s\n",
      "4:\tlearn: 0.4552426\ttotal: 301ms\tremaining: 11.7s\n",
      "5:\tlearn: 0.4491829\ttotal: 372ms\tremaining: 12s\n",
      "6:\tlearn: 0.4465277\ttotal: 408ms\tremaining: 11.3s\n",
      "7:\tlearn: 0.4440085\ttotal: 445ms\tremaining: 10.7s\n",
      "8:\tlearn: 0.4412585\ttotal: 486ms\tremaining: 10.3s\n",
      "9:\tlearn: 0.4390698\ttotal: 533ms\tremaining: 10.1s\n",
      "10:\tlearn: 0.4369579\ttotal: 579ms\tremaining: 9.94s\n",
      "11:\tlearn: 0.4354312\ttotal: 622ms\tremaining: 9.74s\n",
      "12:\tlearn: 0.4343165\ttotal: 669ms\tremaining: 9.62s\n",
      "13:\tlearn: 0.4332184\ttotal: 711ms\tremaining: 9.44s\n",
      "14:\tlearn: 0.4323274\ttotal: 758ms\tremaining: 9.35s\n",
      "15:\tlearn: 0.4314028\ttotal: 797ms\tremaining: 9.16s\n",
      "16:\tlearn: 0.4305312\ttotal: 833ms\tremaining: 8.96s\n",
      "17:\tlearn: 0.4297007\ttotal: 874ms\tremaining: 8.84s\n",
      "18:\tlearn: 0.4292827\ttotal: 933ms\tremaining: 8.89s\n",
      "19:\tlearn: 0.4288560\ttotal: 970ms\tremaining: 8.73s\n",
      "20:\tlearn: 0.4283471\ttotal: 1s\tremaining: 8.55s\n",
      "21:\tlearn: 0.4278087\ttotal: 1.04s\tremaining: 8.41s\n",
      "22:\tlearn: 0.4271737\ttotal: 1.07s\tremaining: 8.28s\n",
      "23:\tlearn: 0.4267997\ttotal: 1.12s\tremaining: 8.22s\n",
      "24:\tlearn: 0.4264485\ttotal: 1.16s\tremaining: 8.1s\n",
      "25:\tlearn: 0.4258564\ttotal: 1.19s\tremaining: 7.97s\n",
      "26:\tlearn: 0.4252848\ttotal: 1.22s\tremaining: 7.82s\n",
      "27:\tlearn: 0.4248550\ttotal: 1.25s\tremaining: 7.69s\n",
      "28:\tlearn: 0.4244906\ttotal: 1.29s\tremaining: 7.59s\n",
      "29:\tlearn: 0.4241851\ttotal: 1.34s\tremaining: 7.58s\n",
      "30:\tlearn: 0.4238957\ttotal: 1.37s\tremaining: 7.48s\n",
      "31:\tlearn: 0.4236041\ttotal: 1.4s\tremaining: 7.37s\n",
      "32:\tlearn: 0.4231429\ttotal: 1.44s\tremaining: 7.27s\n",
      "33:\tlearn: 0.4229084\ttotal: 1.47s\tremaining: 7.18s\n",
      "34:\tlearn: 0.4223906\ttotal: 1.51s\tremaining: 7.13s\n",
      "35:\tlearn: 0.4216414\ttotal: 1.55s\tremaining: 7.07s\n",
      "36:\tlearn: 0.4213595\ttotal: 1.58s\tremaining: 6.97s\n",
      "37:\tlearn: 0.4211462\ttotal: 1.62s\tremaining: 6.9s\n",
      "38:\tlearn: 0.4209503\ttotal: 1.65s\tremaining: 6.83s\n",
      "39:\tlearn: 0.4206970\ttotal: 1.69s\tremaining: 6.78s\n",
      "40:\tlearn: 0.4204852\ttotal: 1.74s\tremaining: 6.73s\n",
      "41:\tlearn: 0.4202981\ttotal: 1.76s\tremaining: 6.64s\n",
      "42:\tlearn: 0.4199174\ttotal: 1.8s\tremaining: 6.56s\n",
      "43:\tlearn: 0.4189236\ttotal: 1.83s\tremaining: 6.48s\n",
      "44:\tlearn: 0.4186297\ttotal: 1.86s\tremaining: 6.4s\n",
      "45:\tlearn: 0.4183641\ttotal: 1.9s\tremaining: 6.35s\n",
      "46:\tlearn: 0.4181585\ttotal: 1.93s\tremaining: 6.29s\n",
      "47:\tlearn: 0.4179428\ttotal: 1.96s\tremaining: 6.21s\n",
      "48:\tlearn: 0.4177275\ttotal: 1.99s\tremaining: 6.13s\n",
      "49:\tlearn: 0.4175831\ttotal: 2.02s\tremaining: 6.06s\n",
      "50:\tlearn: 0.4174514\ttotal: 2.06s\tremaining: 6.03s\n",
      "51:\tlearn: 0.4173344\ttotal: 2.11s\tremaining: 6.01s\n",
      "52:\tlearn: 0.4171548\ttotal: 2.14s\tremaining: 5.93s\n",
      "53:\tlearn: 0.4168142\ttotal: 2.17s\tremaining: 5.85s\n",
      "54:\tlearn: 0.4166839\ttotal: 2.19s\tremaining: 5.78s\n",
      "55:\tlearn: 0.4165392\ttotal: 2.22s\tremaining: 5.7s\n",
      "56:\tlearn: 0.4164024\ttotal: 2.24s\tremaining: 5.62s\n",
      "57:\tlearn: 0.4162613\ttotal: 2.27s\tremaining: 5.55s\n",
      "58:\tlearn: 0.4161553\ttotal: 2.3s\tremaining: 5.5s\n",
      "59:\tlearn: 0.4160008\ttotal: 2.33s\tremaining: 5.45s\n",
      "60:\tlearn: 0.4159036\ttotal: 2.36s\tremaining: 5.38s\n",
      "61:\tlearn: 0.4156187\ttotal: 2.39s\tremaining: 5.32s\n",
      "62:\tlearn: 0.4154428\ttotal: 2.41s\tremaining: 5.25s\n",
      "63:\tlearn: 0.4153313\ttotal: 2.44s\tremaining: 5.18s\n",
      "64:\tlearn: 0.4152234\ttotal: 2.46s\tremaining: 5.12s\n",
      "65:\tlearn: 0.4151403\ttotal: 2.49s\tremaining: 5.06s\n",
      "66:\tlearn: 0.4150261\ttotal: 2.52s\tremaining: 5s\n",
      "67:\tlearn: 0.4149215\ttotal: 2.55s\tremaining: 4.95s\n",
      "68:\tlearn: 0.4148112\ttotal: 2.58s\tremaining: 4.9s\n",
      "69:\tlearn: 0.4146716\ttotal: 2.61s\tremaining: 4.85s\n",
      "70:\tlearn: 0.4145408\ttotal: 2.65s\tremaining: 4.81s\n",
      "71:\tlearn: 0.4143737\ttotal: 2.67s\tremaining: 4.75s\n",
      "72:\tlearn: 0.4142317\ttotal: 2.7s\tremaining: 4.69s\n",
      "73:\tlearn: 0.4141270\ttotal: 2.72s\tremaining: 4.64s\n",
      "74:\tlearn: 0.4139694\ttotal: 2.75s\tremaining: 4.59s\n",
      "75:\tlearn: 0.4138243\ttotal: 2.79s\tremaining: 4.56s\n",
      "76:\tlearn: 0.4136603\ttotal: 2.82s\tremaining: 4.51s\n",
      "77:\tlearn: 0.4134720\ttotal: 2.85s\tremaining: 4.45s\n",
      "78:\tlearn: 0.4133954\ttotal: 2.88s\tremaining: 4.41s\n",
      "79:\tlearn: 0.4133252\ttotal: 2.91s\tremaining: 4.37s\n",
      "80:\tlearn: 0.4132641\ttotal: 2.94s\tremaining: 4.33s\n",
      "81:\tlearn: 0.4131247\ttotal: 2.98s\tremaining: 4.3s\n",
      "82:\tlearn: 0.4130464\ttotal: 3.01s\tremaining: 4.24s\n",
      "83:\tlearn: 0.4129642\ttotal: 3.04s\tremaining: 4.2s\n",
      "84:\tlearn: 0.4128458\ttotal: 3.07s\tremaining: 4.15s\n",
      "85:\tlearn: 0.4127472\ttotal: 3.1s\tremaining: 4.11s\n",
      "86:\tlearn: 0.4126645\ttotal: 3.13s\tremaining: 4.06s\n",
      "87:\tlearn: 0.4126105\ttotal: 3.15s\tremaining: 4.01s\n",
      "88:\tlearn: 0.4125051\ttotal: 3.18s\tremaining: 3.96s\n",
      "89:\tlearn: 0.4124519\ttotal: 3.2s\tremaining: 3.91s\n",
      "90:\tlearn: 0.4123783\ttotal: 3.23s\tremaining: 3.87s\n",
      "91:\tlearn: 0.4123071\ttotal: 3.26s\tremaining: 3.83s\n",
      "92:\tlearn: 0.4122438\ttotal: 3.28s\tremaining: 3.77s\n",
      "93:\tlearn: 0.4121655\ttotal: 3.3s\tremaining: 3.72s\n",
      "94:\tlearn: 0.4121004\ttotal: 3.32s\tremaining: 3.67s\n",
      "95:\tlearn: 0.4120123\ttotal: 3.34s\tremaining: 3.62s\n",
      "96:\tlearn: 0.4119369\ttotal: 3.36s\tremaining: 3.56s\n",
      "97:\tlearn: 0.4118772\ttotal: 3.38s\tremaining: 3.52s\n",
      "98:\tlearn: 0.4117875\ttotal: 3.4s\tremaining: 3.47s\n",
      "99:\tlearn: 0.4117405\ttotal: 3.42s\tremaining: 3.42s\n",
      "100:\tlearn: 0.4116522\ttotal: 3.46s\tremaining: 3.39s\n",
      "101:\tlearn: 0.4116157\ttotal: 3.48s\tremaining: 3.35s\n",
      "102:\tlearn: 0.4115722\ttotal: 3.5s\tremaining: 3.3s\n",
      "103:\tlearn: 0.4115055\ttotal: 3.52s\tremaining: 3.25s\n",
      "104:\tlearn: 0.4114568\ttotal: 3.54s\tremaining: 3.2s\n",
      "105:\tlearn: 0.4113123\ttotal: 3.56s\tremaining: 3.16s\n",
      "106:\tlearn: 0.4111966\ttotal: 3.58s\tremaining: 3.11s\n",
      "107:\tlearn: 0.4111328\ttotal: 3.61s\tremaining: 3.07s\n",
      "108:\tlearn: 0.4110855\ttotal: 3.64s\tremaining: 3.04s\n",
      "109:\tlearn: 0.4110416\ttotal: 3.67s\tremaining: 3s\n",
      "110:\tlearn: 0.4110048\ttotal: 3.69s\tremaining: 2.96s\n",
      "111:\tlearn: 0.4109579\ttotal: 3.71s\tremaining: 2.92s\n",
      "112:\tlearn: 0.4109065\ttotal: 3.74s\tremaining: 2.88s\n",
      "113:\tlearn: 0.4108490\ttotal: 3.76s\tremaining: 2.84s\n",
      "114:\tlearn: 0.4108190\ttotal: 3.8s\tremaining: 2.81s\n",
      "115:\tlearn: 0.4107899\ttotal: 3.82s\tremaining: 2.77s\n",
      "116:\tlearn: 0.4107185\ttotal: 3.84s\tremaining: 2.72s\n",
      "117:\tlearn: 0.4106729\ttotal: 3.86s\tremaining: 2.68s\n",
      "118:\tlearn: 0.4105932\ttotal: 3.88s\tremaining: 2.64s\n",
      "119:\tlearn: 0.4105098\ttotal: 3.9s\tremaining: 2.6s\n",
      "120:\tlearn: 0.4104353\ttotal: 3.91s\tremaining: 2.56s\n",
      "121:\tlearn: 0.4103908\ttotal: 3.93s\tremaining: 2.51s\n",
      "122:\tlearn: 0.4103551\ttotal: 3.95s\tremaining: 2.47s\n",
      "123:\tlearn: 0.4103002\ttotal: 3.97s\tremaining: 2.43s\n",
      "124:\tlearn: 0.4102649\ttotal: 3.99s\tremaining: 2.39s\n",
      "125:\tlearn: 0.4102023\ttotal: 4.01s\tremaining: 2.35s\n",
      "126:\tlearn: 0.4101320\ttotal: 4.02s\tremaining: 2.31s\n",
      "127:\tlearn: 0.4100943\ttotal: 4.05s\tremaining: 2.28s\n",
      "128:\tlearn: 0.4100689\ttotal: 4.07s\tremaining: 2.24s\n",
      "129:\tlearn: 0.4100113\ttotal: 4.08s\tremaining: 2.2s\n",
      "130:\tlearn: 0.4099717\ttotal: 4.11s\tremaining: 2.16s\n",
      "131:\tlearn: 0.4099193\ttotal: 4.12s\tremaining: 2.12s\n",
      "132:\tlearn: 0.4098663\ttotal: 4.14s\tremaining: 2.09s\n",
      "133:\tlearn: 0.4098020\ttotal: 4.17s\tremaining: 2.05s\n",
      "134:\tlearn: 0.4096831\ttotal: 4.18s\tremaining: 2.01s\n",
      "135:\tlearn: 0.4096529\ttotal: 4.21s\tremaining: 1.98s\n",
      "136:\tlearn: 0.4096193\ttotal: 4.22s\tremaining: 1.94s\n",
      "137:\tlearn: 0.4095779\ttotal: 4.24s\tremaining: 1.91s\n",
      "138:\tlearn: 0.4095345\ttotal: 4.26s\tremaining: 1.87s\n",
      "139:\tlearn: 0.4094092\ttotal: 4.28s\tremaining: 1.83s\n",
      "140:\tlearn: 0.4093708\ttotal: 4.3s\tremaining: 1.8s\n",
      "141:\tlearn: 0.4093392\ttotal: 4.32s\tremaining: 1.76s\n",
      "142:\tlearn: 0.4092974\ttotal: 4.33s\tremaining: 1.73s\n",
      "143:\tlearn: 0.4092602\ttotal: 4.35s\tremaining: 1.69s\n",
      "144:\tlearn: 0.4092234\ttotal: 4.37s\tremaining: 1.66s\n",
      "145:\tlearn: 0.4091924\ttotal: 4.39s\tremaining: 1.62s\n",
      "146:\tlearn: 0.4091310\ttotal: 4.4s\tremaining: 1.59s\n",
      "147:\tlearn: 0.4090874\ttotal: 4.42s\tremaining: 1.55s\n",
      "148:\tlearn: 0.4090500\ttotal: 4.44s\tremaining: 1.52s\n",
      "149:\tlearn: 0.4090197\ttotal: 4.46s\tremaining: 1.49s\n",
      "150:\tlearn: 0.4089784\ttotal: 4.47s\tremaining: 1.45s\n",
      "151:\tlearn: 0.4089516\ttotal: 4.5s\tremaining: 1.42s\n",
      "152:\tlearn: 0.4089357\ttotal: 4.52s\tremaining: 1.39s\n",
      "153:\tlearn: 0.4088908\ttotal: 4.54s\tremaining: 1.35s\n",
      "154:\tlearn: 0.4088616\ttotal: 4.55s\tremaining: 1.32s\n",
      "155:\tlearn: 0.4087960\ttotal: 4.57s\tremaining: 1.29s\n",
      "156:\tlearn: 0.4087467\ttotal: 4.59s\tremaining: 1.26s\n",
      "157:\tlearn: 0.4087156\ttotal: 4.61s\tremaining: 1.22s\n",
      "158:\tlearn: 0.4086879\ttotal: 4.62s\tremaining: 1.19s\n",
      "159:\tlearn: 0.4086574\ttotal: 4.64s\tremaining: 1.16s\n",
      "160:\tlearn: 0.4086195\ttotal: 4.66s\tremaining: 1.13s\n"
     ]
    },
    {
     "name": "stdout",
     "output_type": "stream",
     "text": [
      "161:\tlearn: 0.4085881\ttotal: 4.68s\tremaining: 1.1s\n",
      "162:\tlearn: 0.4085585\ttotal: 4.7s\tremaining: 1.07s\n",
      "163:\tlearn: 0.4085246\ttotal: 4.72s\tremaining: 1.03s\n",
      "164:\tlearn: 0.4084932\ttotal: 4.74s\tremaining: 1s\n",
      "165:\tlearn: 0.4084593\ttotal: 4.75s\tremaining: 973ms\n",
      "166:\tlearn: 0.4084249\ttotal: 4.77s\tremaining: 942ms\n",
      "167:\tlearn: 0.4084032\ttotal: 4.79s\tremaining: 912ms\n",
      "168:\tlearn: 0.4083809\ttotal: 4.8s\tremaining: 881ms\n",
      "169:\tlearn: 0.4083513\ttotal: 4.82s\tremaining: 851ms\n",
      "170:\tlearn: 0.4083205\ttotal: 4.85s\tremaining: 822ms\n",
      "171:\tlearn: 0.4082771\ttotal: 4.88s\tremaining: 794ms\n",
      "172:\tlearn: 0.4082440\ttotal: 4.9s\tremaining: 764ms\n",
      "173:\tlearn: 0.4082149\ttotal: 4.92s\tremaining: 735ms\n",
      "174:\tlearn: 0.4081898\ttotal: 4.94s\tremaining: 706ms\n",
      "175:\tlearn: 0.4081647\ttotal: 4.96s\tremaining: 676ms\n",
      "176:\tlearn: 0.4081011\ttotal: 4.97s\tremaining: 647ms\n",
      "177:\tlearn: 0.4080702\ttotal: 4.99s\tremaining: 617ms\n",
      "178:\tlearn: 0.4080342\ttotal: 5.01s\tremaining: 588ms\n",
      "179:\tlearn: 0.4079900\ttotal: 5.03s\tremaining: 558ms\n",
      "180:\tlearn: 0.4079447\ttotal: 5.04s\tremaining: 529ms\n",
      "181:\tlearn: 0.4079105\ttotal: 5.06s\tremaining: 501ms\n",
      "182:\tlearn: 0.4078877\ttotal: 5.08s\tremaining: 472ms\n",
      "183:\tlearn: 0.4078654\ttotal: 5.1s\tremaining: 443ms\n",
      "184:\tlearn: 0.4078333\ttotal: 5.11s\tremaining: 415ms\n",
      "185:\tlearn: 0.4077824\ttotal: 5.13s\tremaining: 386ms\n",
      "186:\tlearn: 0.4077521\ttotal: 5.15s\tremaining: 358ms\n",
      "187:\tlearn: 0.4077397\ttotal: 5.17s\tremaining: 330ms\n",
      "188:\tlearn: 0.4077176\ttotal: 5.19s\tremaining: 302ms\n",
      "189:\tlearn: 0.4076822\ttotal: 5.21s\tremaining: 274ms\n",
      "190:\tlearn: 0.4076578\ttotal: 5.23s\tremaining: 246ms\n",
      "191:\tlearn: 0.4076308\ttotal: 5.25s\tremaining: 219ms\n",
      "192:\tlearn: 0.4075964\ttotal: 5.27s\tremaining: 191ms\n",
      "193:\tlearn: 0.4075677\ttotal: 5.29s\tremaining: 164ms\n",
      "194:\tlearn: 0.4075365\ttotal: 5.31s\tremaining: 136ms\n",
      "195:\tlearn: 0.4075145\ttotal: 5.32s\tremaining: 109ms\n",
      "196:\tlearn: 0.4074925\ttotal: 5.34s\tremaining: 81.3ms\n",
      "197:\tlearn: 0.4074663\ttotal: 5.36s\tremaining: 54.1ms\n",
      "198:\tlearn: 0.4074391\ttotal: 5.37s\tremaining: 27ms\n",
      "199:\tlearn: 0.4074147\ttotal: 5.39s\tremaining: 0us\n"
     ]
    },
    {
     "data": {
      "text/plain": [
       "<catboost.core.CatBoostClassifier at 0xb6abd08>"
      ]
     },
     "execution_count": 13,
     "metadata": {},
     "output_type": "execute_result"
    }
   ],
   "source": [
    "from catboost import CatBoostClassifier\n",
    "\n",
    "classifier_cat = CatBoostClassifier(max_depth =1.0, iterations = 200, learning_rate = 0.5)\n",
    "classifier_cat.fit(X_train, Y_train)"
   ]
  },
  {
   "cell_type": "code",
   "execution_count": 14,
   "metadata": {},
   "outputs": [
    {
     "data": {
      "text/plain": [
       "array([0.21678569, 0.47766942, 0.30947927, ..., 0.35537702, 0.2016005 ,\n",
       "       0.09970353])"
      ]
     },
     "execution_count": 14,
     "metadata": {},
     "output_type": "execute_result"
    }
   ],
   "source": [
    "Y_pred_cat = classifier_cat.predict(X_test)\n",
    "Y_pred_proba3_cat = classifier_cat.predict_proba(X_test)[:,1]\n",
    "Y_pred_proba3_cat"
   ]
  },
  {
   "cell_type": "code",
   "execution_count": 15,
   "metadata": {},
   "outputs": [
    {
     "data": {
      "text/plain": [
       "0.8319919096883488"
      ]
     },
     "execution_count": 15,
     "metadata": {},
     "output_type": "execute_result"
    }
   ],
   "source": [
    "from sklearn.metrics import roc_curve\n",
    "from sklearn.metrics import roc_auc_score\n",
    "\n",
    "auc2_cat = roc_auc_score(Y_test,Y_pred_proba3_cat)\n",
    "auc2_cat"
   ]
  },
  {
   "cell_type": "code",
   "execution_count": 16,
   "metadata": {},
   "outputs": [
    {
     "data": {
      "text/plain": [
       "array([0.46886468, 0.26057341, 0.34181534, ..., 0.38485335, 0.56051337,\n",
       "       0.18033422])"
      ]
     },
     "execution_count": 16,
     "metadata": {},
     "output_type": "execute_result"
    }
   ],
   "source": [
    "Y_pred_proba_sta = classifier_cat.predict_proba(test_given_new)[:,1]\n",
    "Y_pred_proba_sta"
   ]
  },
  {
   "cell_type": "code",
   "execution_count": 17,
   "metadata": {},
   "outputs": [],
   "source": [
    "id = test_given['Applicant_ID']\n",
    "#id\n",
    "\n",
    "sub = pd.DataFrame(id, columns=['Applicant_ID'])\n",
    "sub['default_status'] = Y_pred_proba_sta\n",
    "sub\n",
    "\n",
    "sub.to_csv('Comp_submission(catboost-999).csv', index=False)"
   ]
  },
  {
   "cell_type": "code",
   "execution_count": 18,
   "metadata": {},
   "outputs": [
    {
     "data": {
      "text/plain": [
       "GradientBoostingClassifier(ccp_alpha=0.0, criterion='friedman_mse', init=None,\n",
       "                           learning_rate=0.1, loss='deviance', max_depth=3,\n",
       "                           max_features=None, max_leaf_nodes=None,\n",
       "                           min_impurity_decrease=0.0, min_impurity_split=None,\n",
       "                           min_samples_leaf=1, min_samples_split=2,\n",
       "                           min_weight_fraction_leaf=0.0, n_estimators=200,\n",
       "                           n_iter_no_change=None, presort='deprecated',\n",
       "                           random_state=None, subsample=1.0, tol=0.0001,\n",
       "                           validation_fraction=0.1, verbose=0,\n",
       "                           warm_start=False)"
      ]
     },
     "execution_count": 18,
     "metadata": {},
     "output_type": "execute_result"
    }
   ],
   "source": [
    "#Using gradientboosting(best)\n",
    "from sklearn.ensemble import AdaBoostClassifier, RandomForestClassifier,GradientBoostingClassifier\n",
    "from sklearn.metrics import confusion_matrix\n",
    "\n",
    "classifier_grad = GradientBoostingClassifier(n_estimators = 200)\n",
    "classifier_grad.fit(X_train, Y_train)"
   ]
  },
  {
   "cell_type": "code",
   "execution_count": 22,
   "metadata": {},
   "outputs": [
    {
     "data": {
      "text/plain": [
       "array([[0.18335501],\n",
       "       [0.53308363],\n",
       "       [0.37357428],\n",
       "       ...,\n",
       "       [0.405452  ],\n",
       "       [0.18417906],\n",
       "       [0.08304993]])"
      ]
     },
     "execution_count": 22,
     "metadata": {},
     "output_type": "execute_result"
    }
   ],
   "source": [
    "Y_pred_grad = classifier_grad.predict(X_test)\n",
    "Y_pred_proba_grad = classifier_grad.predict_proba(X_test)[:,1]\n",
    "Y_pred_proba_grad.reshape(-1,1)"
   ]
  },
  {
   "cell_type": "code",
   "execution_count": 23,
   "metadata": {},
   "outputs": [
    {
     "data": {
      "text/plain": [
       "0.8333435224968916"
      ]
     },
     "execution_count": 23,
     "metadata": {},
     "output_type": "execute_result"
    }
   ],
   "source": [
    "from sklearn.metrics import roc_curve\n",
    "from sklearn.metrics import roc_auc_score\n",
    "\n",
    "auc_sta = roc_auc_score(Y_test,Y_pred_proba_grad)\n",
    "auc_sta"
   ]
  },
  {
   "cell_type": "code",
   "execution_count": 25,
   "metadata": {},
   "outputs": [
    {
     "name": "stdout",
     "output_type": "stream",
     "text": [
      "Accuracy: 0.8101785714285714\n",
      "Precision: 0.6627906976744186\n",
      "Recall: 0.4410464259395726\n",
      "F1: 0.529646017699115\n"
     ]
    }
   ],
   "source": [
    "#Classification report\n",
    "from sklearn import metrics\n",
    "print('Accuracy:', metrics.accuracy_score(Y_test,Y_pred_grad))\n",
    "print('Precision:', metrics.precision_score(Y_test,Y_pred_grad))\n",
    "print('Recall:', metrics.recall_score(Y_test,Y_pred_grad))\n",
    "print('F1:', metrics.f1_score(Y_test,Y_pred_grad))\n"
   ]
  },
  {
   "cell_type": "code",
   "execution_count": 26,
   "metadata": {},
   "outputs": [
    {
     "data": {
      "text/plain": [
       "array([0.44616608, 0.27476173, 0.37704787, ..., 0.29726805, 0.50859224,\n",
       "       0.23420865])"
      ]
     },
     "execution_count": 26,
     "metadata": {},
     "output_type": "execute_result"
    }
   ],
   "source": [
    "# to predict using the test set given\n",
    "Y_pred_proba_grad = classifier_grad.predict_proba(test_given_new)[:,1]\n",
    "Y_pred_proba_grad"
   ]
  },
  {
   "cell_type": "code",
   "execution_count": 27,
   "metadata": {},
   "outputs": [],
   "source": [
    "#file for submission\n",
    "id = test_given['Applicant_ID']\n",
    "#id\n",
    "\n",
    "sub = pd.DataFrame(id, columns=['Applicant_ID'])\n",
    "sub['default_status'] = Y_pred_proba_grad\n",
    "sub\n",
    "\n",
    "sub.to_csv('Comp_submission(gradboost-999).csv', index=False)"
   ]
  },
  {
   "cell_type": "code",
   "execution_count": null,
   "metadata": {},
   "outputs": [],
   "source": []
  }
 ],
 "metadata": {
  "kernelspec": {
   "display_name": "Python 3",
   "language": "python",
   "name": "python3"
  },
  "language_info": {
   "codemirror_mode": {
    "name": "ipython",
    "version": 3
   },
   "file_extension": ".py",
   "mimetype": "text/x-python",
   "name": "python",
   "nbconvert_exporter": "python",
   "pygments_lexer": "ipython3",
   "version": "3.7.6"
  }
 },
 "nbformat": 4,
 "nbformat_minor": 4
}
