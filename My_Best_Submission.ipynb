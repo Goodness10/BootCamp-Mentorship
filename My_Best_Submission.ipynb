{
 "cells": [
  {
   "cell_type": "code",
   "execution_count": 1,
   "metadata": {},
   "outputs": [],
   "source": [
    "import numpy as np\n",
    "import pandas as pd\n",
    "import matplotlib.pyplot as plt\n",
    "import seaborn as sns"
   ]
  },
  {
   "cell_type": "code",
   "execution_count": 2,
   "metadata": {},
   "outputs": [],
   "source": [
    "train = pd.read_csv('C:/Users/USER/Desktop/DSN Hackathon/Bootcamp Qualification/Train (2).csv')\n",
    "test_given = pd.read_csv('C:/Users/USER/Desktop/DSN Hackathon/Bootcamp Qualification/Test (2).csv')\n",
    "sample_submission = pd.read_csv('C:/Users/USER/Desktop/DSN Hackathon/Bootcamp Qualification/SampleSubmission (2).csv')"
   ]
  },
  {
   "cell_type": "code",
   "execution_count": 3,
   "metadata": {},
   "outputs": [
    {
     "name": "stdout",
     "output_type": "stream",
     "text": [
      "<class 'pandas.core.frame.DataFrame'>\n",
      "RangeIndex: 56000 entries, 0 to 55999\n",
      "Data columns (total 52 columns):\n",
      " #   Column          Non-Null Count  Dtype  \n",
      "---  ------          --------------  -----  \n",
      " 0   Applicant_ID    56000 non-null  object \n",
      " 1   form_field1     53471 non-null  float64\n",
      " 2   form_field2     52156 non-null  float64\n",
      " 3   form_field3     55645 non-null  float64\n",
      " 4   form_field4     55645 non-null  float64\n",
      " 5   form_field5     55645 non-null  float64\n",
      " 6   form_field6     42640 non-null  float64\n",
      " 7   form_field7     50837 non-null  float64\n",
      " 8   form_field8     42640 non-null  float64\n",
      " 9   form_field9     47992 non-null  float64\n",
      " 10  form_field10    55645 non-null  float64\n",
      " 11  form_field11    24579 non-null  float64\n",
      " 12  form_field12    46105 non-null  float64\n",
      " 13  form_field13    50111 non-null  float64\n",
      " 14  form_field14    56000 non-null  int64  \n",
      " 15  form_field15    33525 non-null  float64\n",
      " 16  form_field16    42964 non-null  float64\n",
      " 17  form_field17    44849 non-null  float64\n",
      " 18  form_field18    45598 non-null  float64\n",
      " 19  form_field19    55996 non-null  float64\n",
      " 20  form_field20    55645 non-null  float64\n",
      " 21  form_field21    40146 non-null  float64\n",
      " 22  form_field22    35600 non-null  float64\n",
      " 23  form_field23    27877 non-null  float64\n",
      " 24  form_field24    42703 non-null  float64\n",
      " 25  form_field25    50550 non-null  float64\n",
      " 26  form_field26    48562 non-null  float64\n",
      " 27  form_field27    46701 non-null  float64\n",
      " 28  form_field28    55645 non-null  float64\n",
      " 29  form_field29    55645 non-null  float64\n",
      " 30  form_field30    30491 non-null  float64\n",
      " 31  form_field31    16592 non-null  float64\n",
      " 32  form_field32    50550 non-null  float64\n",
      " 33  form_field33    54744 non-null  float64\n",
      " 34  form_field34    55645 non-null  float64\n",
      " 35  form_field35    32852 non-null  float64\n",
      " 36  form_field36    54005 non-null  float64\n",
      " 37  form_field37    50550 non-null  float64\n",
      " 38  form_field38    55645 non-null  float64\n",
      " 39  form_field39    51789 non-null  float64\n",
      " 40  form_field40    12271 non-null  float64\n",
      " 41  form_field41    17771 non-null  float64\n",
      " 42  form_field42    54677 non-null  float64\n",
      " 43  form_field43    55432 non-null  float64\n",
      " 44  form_field44    50617 non-null  float64\n",
      " 45  form_field45    24683 non-null  float64\n",
      " 46  form_field46    40096 non-null  float64\n",
      " 47  form_field47    56000 non-null  object \n",
      " 48  form_field48    35111 non-null  float64\n",
      " 49  form_field49    55645 non-null  float64\n",
      " 50  form_field50    44944 non-null  float64\n",
      " 51  default_status  56000 non-null  object \n",
      "dtypes: float64(48), int64(1), object(3)\n",
      "memory usage: 22.2+ MB\n"
     ]
    }
   ],
   "source": [
    "train.info()"
   ]
  },
  {
   "cell_type": "code",
   "execution_count": 4,
   "metadata": {},
   "outputs": [
    {
     "data": {
      "text/plain": [
       "form_field19    0.000071\n",
       "form_field49    0.006339\n",
       "form_field29    0.006339\n",
       "form_field3     0.006339\n",
       "form_field4     0.006339\n",
       "form_field5     0.006339\n",
       "form_field20    0.006339\n",
       "form_field10    0.006339\n",
       "form_field28    0.006339\n",
       "form_field38    0.006339\n",
       "form_field34    0.006339\n",
       "form_field43    0.010143\n",
       "form_field33    0.022429\n",
       "form_field42    0.023625\n",
       "form_field36    0.035625\n",
       "form_field1     0.045161\n",
       "form_field2     0.068643\n",
       "form_field39    0.075196\n",
       "form_field7     0.092196\n",
       "form_field44    0.096125\n",
       "form_field32    0.097321\n",
       "form_field37    0.097321\n",
       "form_field25    0.097321\n",
       "form_field13    0.105161\n",
       "form_field26    0.132821\n",
       "form_field9     0.143000\n",
       "form_field27    0.166054\n",
       "form_field12    0.176696\n",
       "form_field18    0.185750\n",
       "form_field50    0.197429\n",
       "form_field17    0.199125\n",
       "form_field16    0.232786\n",
       "form_field24    0.237446\n",
       "form_field6     0.238571\n",
       "form_field8     0.238571\n",
       "form_field21    0.283107\n",
       "form_field46    0.284000\n",
       "form_field22    0.364286\n",
       "form_field48    0.373018\n",
       "form_field15    0.401339\n",
       "form_field35    0.413357\n",
       "form_field30    0.455518\n",
       "form_field23    0.502196\n",
       "form_field45    0.559232\n",
       "form_field11    0.561089\n",
       "form_field41    0.682661\n",
       "form_field31    0.703714\n",
       "form_field40    0.780875\n",
       "dtype: float64"
      ]
     },
     "execution_count": 4,
     "metadata": {},
     "output_type": "execute_result"
    }
   ],
   "source": [
    "null = train.isna().sum()/len(train)\n",
    "null[null>0].sort_values()"
   ]
  },
  {
   "cell_type": "code",
   "execution_count": 5,
   "metadata": {},
   "outputs": [],
   "source": [
    "# Encoding categorical variables\n",
    "train['form_field47'].replace('charge',1, inplace=True)\n",
    "train['form_field47'].replace('lending',0, inplace=True)\n",
    "train['default_status'].replace('yes',1, inplace=True)\n",
    "train['default_status'].replace('no',0, inplace=True)\n",
    "\n",
    "test_given['form_field47'].replace('charge',1, inplace=True)\n",
    "test_given['form_field47'].replace('lending',0, inplace=True)\n"
   ]
  },
  {
   "cell_type": "code",
   "execution_count": 6,
   "metadata": {},
   "outputs": [],
   "source": [
    "#from sklearn.ensemble import RandomForestClassifier\n",
    "#model = RandomForestClassifier()\n",
    "#model.fit(X,Y)\n",
    "#importance = model.feature_importances_\n",
    "#for i,v in enumerate(importance):\n",
    "#    print('Feature: %0d, Score: %.5f' % (i,v))"
   ]
  },
  {
   "cell_type": "code",
   "execution_count": 7,
   "metadata": {},
   "outputs": [],
   "source": [
    "#plt.bar([i for i in range(len(importance))], importance)\n",
    "#plt.show()"
   ]
  },
  {
   "cell_type": "code",
   "execution_count": 8,
   "metadata": {},
   "outputs": [],
   "source": [
    "X = train.drop(['Applicant_ID','form_field23','form_field45','form_field11','form_field41','form_field40', 'form_field4','form_field17','form_field18','form_field30','form_field31','form_field35','form_field39','default_status'], axis=1)\n",
    "Y = train.iloc[:,-1]\n",
    "\n",
    "test_given_new = test_given.drop(['Applicant_ID','form_field23','form_field45','form_field11','form_field41','form_field40', 'form_field4','form_field17','form_field18','form_field30','form_field31','form_field35','form_field39'], axis=1)"
   ]
  },
  {
   "cell_type": "code",
   "execution_count": 9,
   "metadata": {},
   "outputs": [
    {
     "data": {
      "text/plain": [
       "form_field3     0.006083\n",
       "form_field4     0.006083\n",
       "form_field5     0.006083\n",
       "form_field49    0.006083\n",
       "form_field38    0.006125\n",
       "form_field28    0.006125\n",
       "form_field29    0.006125\n",
       "form_field20    0.006125\n",
       "form_field10    0.006125\n",
       "form_field34    0.006125\n",
       "form_field43    0.010417\n",
       "form_field33    0.020625\n",
       "form_field42    0.024083\n",
       "form_field36    0.037625\n",
       "form_field1     0.046250\n",
       "form_field2     0.071208\n",
       "form_field39    0.076208\n",
       "form_field7     0.092958\n",
       "form_field32    0.094000\n",
       "form_field37    0.094000\n",
       "form_field25    0.094000\n",
       "form_field44    0.098417\n",
       "form_field13    0.102625\n",
       "form_field26    0.132167\n",
       "form_field9     0.141667\n",
       "form_field27    0.162917\n",
       "form_field12    0.174292\n",
       "form_field18    0.182042\n",
       "form_field17    0.195625\n",
       "form_field50    0.199875\n",
       "form_field16    0.228083\n",
       "form_field6     0.233500\n",
       "form_field8     0.233500\n",
       "form_field24    0.233542\n",
       "form_field21    0.279458\n",
       "form_field46    0.286875\n",
       "form_field22    0.363500\n",
       "form_field48    0.371750\n",
       "form_field15    0.399667\n",
       "form_field35    0.411083\n",
       "form_field30    0.454500\n",
       "form_field23    0.505208\n",
       "form_field11    0.558250\n",
       "form_field45    0.564083\n",
       "form_field41    0.681208\n",
       "form_field31    0.700417\n",
       "form_field40    0.784500\n",
       "dtype: float64"
      ]
     },
     "execution_count": 9,
     "metadata": {},
     "output_type": "execute_result"
    }
   ],
   "source": [
    "X_null = test_given.isna().sum()/len(test_given)\n",
    "X_null[X_null>0].sort_values()"
   ]
  },
  {
   "cell_type": "code",
   "execution_count": 10,
   "metadata": {},
   "outputs": [],
   "source": [
    "X.replace(np.nan,-999, inplace=True)\n",
    "test_given_new.replace(np.nan,-999, inplace=True)"
   ]
  },
  {
   "cell_type": "code",
   "execution_count": 12,
   "metadata": {},
   "outputs": [
    {
     "data": {
      "text/plain": [
       "form_field1     0\n",
       "form_field2     0\n",
       "form_field3     0\n",
       "form_field5     0\n",
       "form_field6     0\n",
       "form_field7     0\n",
       "form_field8     0\n",
       "form_field9     0\n",
       "form_field10    0\n",
       "form_field12    0\n",
       "form_field13    0\n",
       "form_field14    0\n",
       "form_field15    0\n",
       "form_field16    0\n",
       "form_field19    0\n",
       "form_field20    0\n",
       "form_field21    0\n",
       "form_field22    0\n",
       "form_field24    0\n",
       "form_field25    0\n",
       "form_field26    0\n",
       "form_field27    0\n",
       "form_field28    0\n",
       "form_field29    0\n",
       "form_field32    0\n",
       "form_field33    0\n",
       "form_field34    0\n",
       "form_field36    0\n",
       "form_field37    0\n",
       "form_field38    0\n",
       "form_field42    0\n",
       "form_field43    0\n",
       "form_field44    0\n",
       "form_field46    0\n",
       "form_field47    0\n",
       "form_field48    0\n",
       "form_field49    0\n",
       "form_field50    0\n",
       "dtype: int64"
      ]
     },
     "execution_count": 12,
     "metadata": {},
     "output_type": "execute_result"
    }
   ],
   "source": [
    "X.isna().sum()"
   ]
  },
  {
   "cell_type": "code",
   "execution_count": 14,
   "metadata": {},
   "outputs": [
    {
     "name": "stdout",
     "output_type": "stream",
     "text": [
      "0:\tlearn: 0.7848611\ttest: 0.7848611\ttest1: 0.7792857\tbest: 0.7792857 (0)\ttotal: 104ms\tremaining: 31.2s\n",
      "100:\tlearn: 0.8174008\ttest: 0.8174008\ttest1: 0.8067857\tbest: 0.8067857 (100)\ttotal: 6.19s\tremaining: 12.2s\n",
      "200:\tlearn: 0.8300794\ttest: 0.8300794\ttest1: 0.8092857\tbest: 0.8094643 (196)\ttotal: 10.8s\tremaining: 5.32s\n",
      "299:\tlearn: 0.8408730\ttest: 0.8408730\ttest1: 0.8110714\tbest: 0.8112500 (296)\ttotal: 15.5s\tremaining: 0us\n",
      "\n",
      "bestTest = 0.81125\n",
      "bestIteration = 296\n",
      "\n",
      "Shrink model to first 297 iterations.\n",
      "0:\tlearn: 0.7760913\ttest: 0.7760913\ttest1: 0.7801786\tbest: 0.7801786 (0)\ttotal: 109ms\tremaining: 32.6s\n",
      "100:\tlearn: 0.8173214\ttest: 0.8173214\ttest1: 0.8100000\tbest: 0.8100000 (100)\ttotal: 6.12s\tremaining: 12.1s\n",
      "200:\tlearn: 0.8291667\ttest: 0.8291667\ttest1: 0.8126786\tbest: 0.8139286 (175)\ttotal: 10.8s\tremaining: 5.31s\n",
      "299:\tlearn: 0.8398214\ttest: 0.8398214\ttest1: 0.8132143\tbest: 0.8150000 (252)\ttotal: 15.6s\tremaining: 0us\n",
      "\n",
      "bestTest = 0.815\n",
      "bestIteration = 252\n",
      "\n",
      "Shrink model to first 253 iterations.\n",
      "0:\tlearn: 0.7801984\ttest: 0.7801984\ttest1: 0.7808929\tbest: 0.7808929 (0)\ttotal: 113ms\tremaining: 33.8s\n",
      "100:\tlearn: 0.8178571\ttest: 0.8178571\ttest1: 0.8117857\tbest: 0.8125000 (88)\ttotal: 6.19s\tremaining: 12.2s\n",
      "200:\tlearn: 0.8304167\ttest: 0.8304167\ttest1: 0.8141071\tbest: 0.8153571 (189)\ttotal: 11.1s\tremaining: 5.48s\n",
      "299:\tlearn: 0.8408135\ttest: 0.8408135\ttest1: 0.8110714\tbest: 0.8153571 (189)\ttotal: 16.2s\tremaining: 0us\n",
      "\n",
      "bestTest = 0.8153571429\n",
      "bestIteration = 189\n",
      "\n",
      "Shrink model to first 190 iterations.\n",
      "0:\tlearn: 0.7823214\ttest: 0.7823214\ttest1: 0.7725000\tbest: 0.7725000 (0)\ttotal: 126ms\tremaining: 37.7s\n",
      "100:\tlearn: 0.8176587\ttest: 0.8176587\ttest1: 0.8062500\tbest: 0.8075000 (79)\ttotal: 6.42s\tremaining: 12.6s\n",
      "200:\tlearn: 0.8302976\ttest: 0.8302976\ttest1: 0.8050000\tbest: 0.8075000 (79)\ttotal: 11.8s\tremaining: 5.8s\n",
      "299:\tlearn: 0.8409524\ttest: 0.8409524\ttest1: 0.8051786\tbest: 0.8075000 (79)\ttotal: 17.1s\tremaining: 0us\n",
      "\n",
      "bestTest = 0.8075\n",
      "bestIteration = 79\n",
      "\n",
      "Shrink model to first 80 iterations.\n",
      "0:\tlearn: 0.7811905\ttest: 0.7811905\ttest1: 0.7817857\tbest: 0.7817857 (0)\ttotal: 103ms\tremaining: 30.9s\n",
      "100:\tlearn: 0.8174206\ttest: 0.8174206\ttest1: 0.8083929\tbest: 0.8094643 (88)\ttotal: 6.56s\tremaining: 12.9s\n",
      "200:\tlearn: 0.8302579\ttest: 0.8302579\ttest1: 0.8080357\tbest: 0.8116071 (143)\ttotal: 12.1s\tremaining: 5.94s\n",
      "299:\tlearn: 0.8397817\ttest: 0.8397817\ttest1: 0.8110714\tbest: 0.8125000 (289)\ttotal: 17.5s\tremaining: 0us\n",
      "\n",
      "bestTest = 0.8125\n",
      "bestIteration = 289\n",
      "\n",
      "Shrink model to first 290 iterations.\n",
      "0:\tlearn: 0.7762698\ttest: 0.7762698\ttest1: 0.7787500\tbest: 0.7787500 (0)\ttotal: 127ms\tremaining: 37.9s\n",
      "100:\tlearn: 0.8178770\ttest: 0.8178770\ttest1: 0.8019643\tbest: 0.8032143 (61)\ttotal: 6.46s\tremaining: 12.7s\n",
      "200:\tlearn: 0.8302778\ttest: 0.8302778\ttest1: 0.8076786\tbest: 0.8094643 (192)\ttotal: 12.1s\tremaining: 5.94s\n",
      "299:\tlearn: 0.8401389\ttest: 0.8401389\ttest1: 0.8062500\tbest: 0.8094643 (192)\ttotal: 17.7s\tremaining: 0us\n",
      "\n",
      "bestTest = 0.8094642857\n",
      "bestIteration = 192\n",
      "\n",
      "Shrink model to first 193 iterations.\n",
      "0:\tlearn: 0.7777579\ttest: 0.7777579\ttest1: 0.7648214\tbest: 0.7648214 (0)\ttotal: 62.2ms\tremaining: 18.6s\n",
      "100:\tlearn: 0.8182341\ttest: 0.8182341\ttest1: 0.7991071\tbest: 0.7992857 (99)\ttotal: 5.75s\tremaining: 11.3s\n",
      "200:\tlearn: 0.8307937\ttest: 0.8307937\ttest1: 0.8005357\tbest: 0.8014286 (158)\ttotal: 11.7s\tremaining: 5.77s\n",
      "299:\tlearn: 0.8404960\ttest: 0.8404960\ttest1: 0.8010714\tbest: 0.8028571 (217)\ttotal: 18.2s\tremaining: 0us\n",
      "\n",
      "bestTest = 0.8028571429\n",
      "bestIteration = 217\n",
      "\n",
      "Shrink model to first 218 iterations.\n",
      "0:\tlearn: 0.7773810\ttest: 0.7773810\ttest1: 0.7676786\tbest: 0.7676786 (0)\ttotal: 103ms\tremaining: 30.8s\n",
      "100:\tlearn: 0.8174802\ttest: 0.8174802\ttest1: 0.8101786\tbest: 0.8101786 (100)\ttotal: 7.79s\tremaining: 15.3s\n",
      "200:\tlearn: 0.8295040\ttest: 0.8295040\ttest1: 0.8064286\tbest: 0.8107143 (132)\ttotal: 13.8s\tremaining: 6.8s\n",
      "299:\tlearn: 0.8397222\ttest: 0.8397222\ttest1: 0.8078571\tbest: 0.8107143 (132)\ttotal: 19.8s\tremaining: 0us\n",
      "\n",
      "bestTest = 0.8107142857\n",
      "bestIteration = 132\n",
      "\n",
      "Shrink model to first 133 iterations.\n",
      "0:\tlearn: 0.7735317\ttest: 0.7735317\ttest1: 0.8032143\tbest: 0.8032143 (0)\ttotal: 110ms\tremaining: 32.8s\n",
      "100:\tlearn: 0.8169246\ttest: 0.8169246\ttest1: 0.8130357\tbest: 0.8142857 (90)\ttotal: 6.75s\tremaining: 13.3s\n",
      "200:\tlearn: 0.8297421\ttest: 0.8297421\ttest1: 0.8112500\tbest: 0.8142857 (90)\ttotal: 12.6s\tremaining: 6.22s\n",
      "299:\tlearn: 0.8400595\ttest: 0.8400595\ttest1: 0.8091071\tbest: 0.8142857 (90)\ttotal: 18.5s\tremaining: 0us\n",
      "\n",
      "bestTest = 0.8142857143\n",
      "bestIteration = 90\n",
      "\n",
      "Shrink model to first 91 iterations.\n",
      "0:\tlearn: 0.7758135\ttest: 0.7758135\ttest1: 0.7805357\tbest: 0.7805357 (0)\ttotal: 78ms\tremaining: 23.3s\n",
      "100:\tlearn: 0.8160119\ttest: 0.8160119\ttest1: 0.8123214\tbest: 0.8133929 (97)\ttotal: 6.28s\tremaining: 12.4s\n",
      "200:\tlearn: 0.8299008\ttest: 0.8299008\ttest1: 0.8166071\tbest: 0.8171429 (197)\ttotal: 12.2s\tremaining: 6s\n",
      "299:\tlearn: 0.8413690\ttest: 0.8413690\ttest1: 0.8173214\tbest: 0.8182143 (294)\ttotal: 18.1s\tremaining: 0us\n",
      "\n",
      "bestTest = 0.8182142857\n",
      "bestIteration = 294\n",
      "\n",
      "Shrink model to first 295 iterations.\n"
     ]
    }
   ],
   "source": [
    "#Best\n",
    "from sklearn.model_selection import KFold,StratifiedKFold\n",
    "from catboost import CatBoostClassifier\n",
    "\n",
    "fold=StratifiedKFold(n_splits=10) #5 # 10 \n",
    "i=1\n",
    "for train_index, test_index in fold.split(X,Y):\n",
    "    \n",
    "    #The usual cross validation\n",
    "    X_train, X_test = X.iloc[train_index], X.iloc[test_index]\n",
    "    Y_train, Y_test = Y.iloc[train_index], Y.iloc[test_index]\n",
    "    model  = CatBoostClassifier(n_estimators=300,eval_metric='Accuracy',learning_rate=0.1, random_seed= 1234, use_best_model=True )\n",
    "    model.fit(X_train,Y_train,eval_set=[(X_train,Y_train),(X_test, Y_test)], early_stopping_rounds=300,verbose=100,)#erly100\n",
    "    preds = model.predict(X_test)\n",
    "    \n",
    "    \n",
    "    #Simultaneosly Predicting on test set for submission\n",
    "    pred = model.predict(test_given_new)"
   ]
  },
  {
   "cell_type": "code",
   "execution_count": 17,
   "metadata": {},
   "outputs": [
    {
     "data": {
      "text/plain": [
       "array([0.21805923, 0.18823835, 0.53843535, ..., 0.064941  , 0.60126264,\n",
       "       0.16201632])"
      ]
     },
     "execution_count": 17,
     "metadata": {},
     "output_type": "execute_result"
    }
   ],
   "source": [
    "preds_proba = model.predict_proba(X_test)[:,1]\n",
    "preds_proba"
   ]
  },
  {
   "cell_type": "code",
   "execution_count": 19,
   "metadata": {},
   "outputs": [
    {
     "data": {
      "text/plain": [
       "array([[0.35526294],\n",
       "       [0.19042131],\n",
       "       [0.37280116],\n",
       "       ...,\n",
       "       [0.28312026],\n",
       "       [0.56403234],\n",
       "       [0.23287128]])"
      ]
     },
     "execution_count": 19,
     "metadata": {},
     "output_type": "execute_result"
    }
   ],
   "source": [
    "# to predict using the test set given\n",
    "pred_proba = model.predict_proba(test_given_new)[:,1]\n",
    "pred_proba.reshape(-1,1)"
   ]
  },
  {
   "cell_type": "code",
   "execution_count": 23,
   "metadata": {},
   "outputs": [
    {
     "data": {
      "text/plain": [
       "'              precision    recall  f1-score   support\\n\\n           0       0.94      0.84      0.89      4702\\n           1       0.46      0.70      0.55       898\\n\\n    accuracy                           0.82      5600\\n   macro avg       0.70      0.77      0.72      5600\\nweighted avg       0.86      0.82      0.83      5600\\n'"
      ]
     },
     "execution_count": 23,
     "metadata": {},
     "output_type": "execute_result"
    }
   ],
   "source": [
    "#Classification Report\n",
    "from sklearn.metrics import classification_report\n",
    "classification_report(preds, Y_test)"
   ]
  },
  {
   "cell_type": "code",
   "execution_count": 24,
   "metadata": {},
   "outputs": [],
   "source": [
    "#file for submission\n",
    "id = test_given['Applicant_ID']\n",
    "#id\n",
    "\n",
    "sub = pd.DataFrame(id, columns=['Applicant_ID'])\n",
    "sub['default_status'] = pred_proba\n",
    "sub\n",
    "\n",
    "sub.to_csv('Comp_submission(catboost-999stra10).csv', index=False)"
   ]
  },
  {
   "cell_type": "code",
   "execution_count": null,
   "metadata": {},
   "outputs": [],
   "source": []
  }
 ],
 "metadata": {
  "kernelspec": {
   "display_name": "Python 3",
   "language": "python",
   "name": "python3"
  },
  "language_info": {
   "codemirror_mode": {
    "name": "ipython",
    "version": 3
   },
   "file_extension": ".py",
   "mimetype": "text/x-python",
   "name": "python",
   "nbconvert_exporter": "python",
   "pygments_lexer": "ipython3",
   "version": "3.7.6"
  }
 },
 "nbformat": 4,
 "nbformat_minor": 4
}
