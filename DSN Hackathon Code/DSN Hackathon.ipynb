{
 "cells": [
  {
   "cell_type": "code",
   "execution_count": 1,
   "metadata": {},
   "outputs": [],
   "source": [
    "import numpy as np\n",
    "import pandas as pd\n",
    "import matplotlib.pyplot as plt\n",
    "import seaborn as sns\n",
    "from sklearn import preprocessing, svm\n",
    "from sklearn.model_selection import train_test_split\n",
    "from sklearn import linear_model\n",
    "from sklearn.metrics import accuracy_score, mean_squared_error, r2_score"
   ]
  },
  {
   "cell_type": "code",
   "execution_count": 2,
   "metadata": {},
   "outputs": [],
   "source": [
    "# Importing the datasets\n",
    "train = pd.read_csv('C:/Users/USER/train(excellent).csv')\n",
    "test = pd.read_csv('C:/Users/USER/test(excellent).csv')\n",
    "submission = pd.read_csv('C:/Users/USER/SampleSubmission(excellent).csv')"
   ]
  },
  {
   "cell_type": "code",
   "execution_count": 3,
   "metadata": {},
   "outputs": [],
   "source": [
    "train[\"Store_Size\"].replace(np.nan, \"Medium\", inplace=True)\n",
    "test[\"Store_Size\"].replace(np.nan, \"Medium\", inplace=True)\n",
    "train[\"Item_Weight\"].fillna(method='bfill', inplace=True)\n",
    "test[\"Item_Weight\"].fillna(method='bfill', inplace=True)"
   ]
  },
  {
   "cell_type": "code",
   "execution_count": 4,
   "metadata": {},
   "outputs": [],
   "source": [
    "# Splitting into dependent and independent varaibles\n",
    "X = train.drop(['Item_ID','Store_ID','Item_Store_ID','Item_Store_Returns','Item_Visibility','Item_Type','Store_Start_Year'], axis=1)\n",
    "Y = train[['Item_Store_Returns']].values"
   ]
  },
  {
   "cell_type": "code",
   "execution_count": 5,
   "metadata": {},
   "outputs": [],
   "source": [
    "test_given = test.drop(['Item_ID','Store_ID','Item_Store_ID','Item_Visibility','Item_Type','Store_Start_Year'], axis=1)\n",
    "\n",
    "test_given = pd.get_dummies(test_given)\n",
    "test_given = test_given.values\n",
    "\n",
    "# Encoding categorical variables\n",
    "X = pd.get_dummies(X)\n",
    "X = X.values"
   ]
  },
  {
   "cell_type": "code",
   "execution_count": 6,
   "metadata": {},
   "outputs": [
    {
     "data": {
      "text/plain": [
       "array([[  709.08],\n",
       "       [ 6381.69],\n",
       "       [ 6381.69],\n",
       "       ...,\n",
       "       [ 5685.93],\n",
       "       [11778.  ],\n",
       "       [17870.07]])"
      ]
     },
     "execution_count": 6,
     "metadata": {},
     "output_type": "execute_result"
    }
   ],
   "source": [
    "X.reshape(-1,1)\n",
    "Y.reshape(-1,1)"
   ]
  },
  {
   "cell_type": "code",
   "execution_count": 7,
   "metadata": {},
   "outputs": [],
   "source": [
    "# splitting into train and test set\n",
    "X_train, X_test, Y_train, Y_test = train_test_split(X,Y,test_size=0.2, random_state = 0)"
   ]
  },
  {
   "cell_type": "code",
   "execution_count": 8,
   "metadata": {},
   "outputs": [],
   "source": [
    "from sklearn.ensemble import GradientBoostingRegressor"
   ]
  },
  {
   "cell_type": "code",
   "execution_count": 9,
   "metadata": {},
   "outputs": [],
   "source": [
    "# Predicting the given test set\n",
    "reg = GradientBoostingRegressor()\n",
    "reg.fit(X, Y.ravel())\n",
    "Y_pred_test = reg.predict(test_given)"
   ]
  },
  {
   "cell_type": "code",
   "execution_count": 10,
   "metadata": {},
   "outputs": [
    {
     "data": {
      "text/plain": [
       "-8699378.832496535"
      ]
     },
     "execution_count": 10,
     "metadata": {},
     "output_type": "execute_result"
    }
   ],
   "source": [
    "from sklearn.model_selection import cross_val_score\n",
    "mse = cross_val_score(reg, X, Y.ravel(), scoring = 'neg_mean_squared_error', cv=20)\n",
    "mse.mean()"
   ]
  },
  {
   "cell_type": "code",
   "execution_count": 11,
   "metadata": {},
   "outputs": [
    {
     "data": {
      "text/plain": [
       "array([1601.9512816 , 8118.71838415, 7735.49219933, ..., 9421.46357013,\n",
       "       1386.68761995, 7766.58380949])"
      ]
     },
     "execution_count": 11,
     "metadata": {},
     "output_type": "execute_result"
    }
   ],
   "source": [
    "Y_pred_test = reg.predict(test_given)\n",
    "\n",
    "Y_pred_test"
   ]
  },
  {
   "cell_type": "code",
   "execution_count": 12,
   "metadata": {},
   "outputs": [
    {
     "data": {
      "text/html": [
       "<div>\n",
       "<style scoped>\n",
       "    .dataframe tbody tr th:only-of-type {\n",
       "        vertical-align: middle;\n",
       "    }\n",
       "\n",
       "    .dataframe tbody tr th {\n",
       "        vertical-align: top;\n",
       "    }\n",
       "\n",
       "    .dataframe thead th {\n",
       "        text-align: right;\n",
       "    }\n",
       "</style>\n",
       "<table border=\"1\" class=\"dataframe\">\n",
       "  <thead>\n",
       "    <tr style=\"text-align: right;\">\n",
       "      <th></th>\n",
       "      <th>Item_Store_ID</th>\n",
       "      <th>Item_Store_Returns</th>\n",
       "    </tr>\n",
       "  </thead>\n",
       "  <tbody>\n",
       "    <tr>\n",
       "      <th>0</th>\n",
       "      <td>DRA59_BABATUNJI010</td>\n",
       "      <td>1601.951282</td>\n",
       "    </tr>\n",
       "    <tr>\n",
       "      <th>1</th>\n",
       "      <td>DRA59_BABATUNJI013</td>\n",
       "      <td>8118.718384</td>\n",
       "    </tr>\n",
       "    <tr>\n",
       "      <th>2</th>\n",
       "      <td>DRB01_BABATUNJI013</td>\n",
       "      <td>7735.492199</td>\n",
       "    </tr>\n",
       "    <tr>\n",
       "      <th>3</th>\n",
       "      <td>DRB13_BABATUNJI010</td>\n",
       "      <td>1374.685841</td>\n",
       "    </tr>\n",
       "    <tr>\n",
       "      <th>4</th>\n",
       "      <td>DRB13_BABATUNJI013</td>\n",
       "      <td>7683.632659</td>\n",
       "    </tr>\n",
       "    <tr>\n",
       "      <th>...</th>\n",
       "      <td>...</td>\n",
       "      <td>...</td>\n",
       "    </tr>\n",
       "    <tr>\n",
       "      <th>3527</th>\n",
       "      <td>NCZ42_BABATUNJI010</td>\n",
       "      <td>1647.105783</td>\n",
       "    </tr>\n",
       "    <tr>\n",
       "      <th>3528</th>\n",
       "      <td>NCZ42_BABATUNJI013</td>\n",
       "      <td>9314.576813</td>\n",
       "    </tr>\n",
       "    <tr>\n",
       "      <th>3529</th>\n",
       "      <td>NCZ42_BABATUNJI049</td>\n",
       "      <td>9421.463570</td>\n",
       "    </tr>\n",
       "    <tr>\n",
       "      <th>3530</th>\n",
       "      <td>NCZ53_BABATUNJI010</td>\n",
       "      <td>1386.687620</td>\n",
       "    </tr>\n",
       "    <tr>\n",
       "      <th>3531</th>\n",
       "      <td>NCZ53_BABATUNJI013</td>\n",
       "      <td>7766.583809</td>\n",
       "    </tr>\n",
       "  </tbody>\n",
       "</table>\n",
       "<p>3532 rows × 2 columns</p>\n",
       "</div>"
      ],
      "text/plain": [
       "           Item_Store_ID  Item_Store_Returns\n",
       "0     DRA59_BABATUNJI010         1601.951282\n",
       "1     DRA59_BABATUNJI013         8118.718384\n",
       "2     DRB01_BABATUNJI013         7735.492199\n",
       "3     DRB13_BABATUNJI010         1374.685841\n",
       "4     DRB13_BABATUNJI013         7683.632659\n",
       "...                  ...                 ...\n",
       "3527  NCZ42_BABATUNJI010         1647.105783\n",
       "3528  NCZ42_BABATUNJI013         9314.576813\n",
       "3529  NCZ42_BABATUNJI049         9421.463570\n",
       "3530  NCZ53_BABATUNJI010         1386.687620\n",
       "3531  NCZ53_BABATUNJI013         7766.583809\n",
       "\n",
       "[3532 rows x 2 columns]"
      ]
     },
     "execution_count": 12,
     "metadata": {},
     "output_type": "execute_result"
    }
   ],
   "source": [
    "identifier = test['Item_Store_ID']\n",
    "identifier\n",
    "\n",
    "sub = pd.DataFrame(identifier, columns=['Item_Store_ID'])\n",
    "sub['Item_Store_Returns'] = Y_pred_test\n",
    "sub"
   ]
  },
  {
   "cell_type": "code",
   "execution_count": 13,
   "metadata": {},
   "outputs": [
    {
     "data": {
      "text/plain": [
       "GradientBoostingRegressor(alpha=0.9, ccp_alpha=0.0, criterion='mse', init=None,\n",
       "                          learning_rate=1, loss='ls', max_depth=3,\n",
       "                          max_features=None, max_leaf_nodes=None,\n",
       "                          min_impurity_decrease=0.0, min_impurity_split=None,\n",
       "                          min_samples_leaf=1, min_samples_split=2,\n",
       "                          min_weight_fraction_leaf=0.0, n_estimators=3,\n",
       "                          n_iter_no_change=None, presort='deprecated',\n",
       "                          random_state=None, subsample=1.0, tol=0.0001,\n",
       "                          validation_fraction=0.1, verbose=0, warm_start=False)"
      ]
     },
     "execution_count": 13,
     "metadata": {},
     "output_type": "execute_result"
    }
   ],
   "source": [
    "# Predicting the given test set\n",
    "params = {'n_estimators':3, 'max_depth':3, 'learning_rate':1, 'criterion': 'mse'}\n",
    "reg = GradientBoostingRegressor(**params)\n",
    "reg.fit(X_train, Y_train.ravel())"
   ]
  },
  {
   "cell_type": "code",
   "execution_count": 14,
   "metadata": {},
   "outputs": [
    {
     "data": {
      "text/plain": [
       "array([ 857.37089969, 8035.26404054, 8035.26404054, ..., 8341.58734557,\n",
       "       1150.40018103, 8035.26404054])"
      ]
     },
     "execution_count": 14,
     "metadata": {},
     "output_type": "execute_result"
    }
   ],
   "source": [
    "Y_pred = reg.predict(test_given)\n",
    "\n",
    "Y_pred"
   ]
  },
  {
   "cell_type": "code",
   "execution_count": 15,
   "metadata": {},
   "outputs": [
    {
     "data": {
      "text/html": [
       "<div>\n",
       "<style scoped>\n",
       "    .dataframe tbody tr th:only-of-type {\n",
       "        vertical-align: middle;\n",
       "    }\n",
       "\n",
       "    .dataframe tbody tr th {\n",
       "        vertical-align: top;\n",
       "    }\n",
       "\n",
       "    .dataframe thead th {\n",
       "        text-align: right;\n",
       "    }\n",
       "</style>\n",
       "<table border=\"1\" class=\"dataframe\">\n",
       "  <thead>\n",
       "    <tr style=\"text-align: right;\">\n",
       "      <th></th>\n",
       "      <th>Item_Store_ID</th>\n",
       "      <th>Item_Store_Returns</th>\n",
       "    </tr>\n",
       "  </thead>\n",
       "  <tbody>\n",
       "    <tr>\n",
       "      <th>0</th>\n",
       "      <td>DRA59_BABATUNJI010</td>\n",
       "      <td>857.370900</td>\n",
       "    </tr>\n",
       "    <tr>\n",
       "      <th>1</th>\n",
       "      <td>DRA59_BABATUNJI013</td>\n",
       "      <td>8035.264041</td>\n",
       "    </tr>\n",
       "    <tr>\n",
       "      <th>2</th>\n",
       "      <td>DRB01_BABATUNJI013</td>\n",
       "      <td>8035.264041</td>\n",
       "    </tr>\n",
       "    <tr>\n",
       "      <th>3</th>\n",
       "      <td>DRB13_BABATUNJI010</td>\n",
       "      <td>1150.400181</td>\n",
       "    </tr>\n",
       "    <tr>\n",
       "      <th>4</th>\n",
       "      <td>DRB13_BABATUNJI013</td>\n",
       "      <td>8035.264041</td>\n",
       "    </tr>\n",
       "    <tr>\n",
       "      <th>...</th>\n",
       "      <td>...</td>\n",
       "      <td>...</td>\n",
       "    </tr>\n",
       "    <tr>\n",
       "      <th>3527</th>\n",
       "      <td>NCZ42_BABATUNJI010</td>\n",
       "      <td>3488.898074</td>\n",
       "    </tr>\n",
       "    <tr>\n",
       "      <th>3528</th>\n",
       "      <td>NCZ42_BABATUNJI013</td>\n",
       "      <td>10373.761934</td>\n",
       "    </tr>\n",
       "    <tr>\n",
       "      <th>3529</th>\n",
       "      <td>NCZ42_BABATUNJI049</td>\n",
       "      <td>8341.587346</td>\n",
       "    </tr>\n",
       "    <tr>\n",
       "      <th>3530</th>\n",
       "      <td>NCZ53_BABATUNJI010</td>\n",
       "      <td>1150.400181</td>\n",
       "    </tr>\n",
       "    <tr>\n",
       "      <th>3531</th>\n",
       "      <td>NCZ53_BABATUNJI013</td>\n",
       "      <td>8035.264041</td>\n",
       "    </tr>\n",
       "  </tbody>\n",
       "</table>\n",
       "<p>3532 rows × 2 columns</p>\n",
       "</div>"
      ],
      "text/plain": [
       "           Item_Store_ID  Item_Store_Returns\n",
       "0     DRA59_BABATUNJI010          857.370900\n",
       "1     DRA59_BABATUNJI013         8035.264041\n",
       "2     DRB01_BABATUNJI013         8035.264041\n",
       "3     DRB13_BABATUNJI010         1150.400181\n",
       "4     DRB13_BABATUNJI013         8035.264041\n",
       "...                  ...                 ...\n",
       "3527  NCZ42_BABATUNJI010         3488.898074\n",
       "3528  NCZ42_BABATUNJI013        10373.761934\n",
       "3529  NCZ42_BABATUNJI049         8341.587346\n",
       "3530  NCZ53_BABATUNJI010         1150.400181\n",
       "3531  NCZ53_BABATUNJI013         8035.264041\n",
       "\n",
       "[3532 rows x 2 columns]"
      ]
     },
     "execution_count": 15,
     "metadata": {},
     "output_type": "execute_result"
    }
   ],
   "source": [
    "identifier1 = test['Item_Store_ID']\n",
    "identifier1\n",
    "\n",
    "sub1 = pd.DataFrame(identifier1, columns=['Item_Store_ID'])\n",
    "sub1['Item_Store_Returns'] = Y_pred\n",
    "sub1"
   ]
  },
  {
   "cell_type": "code",
   "execution_count": 16,
   "metadata": {},
   "outputs": [],
   "source": [
    "sub.to_csv('submission1.csv', index=False)"
   ]
  },
  {
   "cell_type": "code",
   "execution_count": 17,
   "metadata": {},
   "outputs": [],
   "source": [
    "import xgboost as xgb"
   ]
  },
  {
   "cell_type": "code",
   "execution_count": 18,
   "metadata": {},
   "outputs": [],
   "source": [
    "xgb_params = {'eta':0.04, 'max_depth':6, 'subsample':0.80, 'objective': 'reg:linear', 'scoring': 'neg_mean_absolute_error','lambda':0.8, 'alpha': 0.4,'silent':1, 'min_child_weight':5}"
   ]
  },
  {
   "cell_type": "code",
   "execution_count": 19,
   "metadata": {},
   "outputs": [
    {
     "ename": "TypeError",
     "evalue": "__init__() missing 1 required positional argument: 'data'",
     "output_type": "error",
     "traceback": [
      "\u001b[1;31m---------------------------------------------------------------------------\u001b[0m",
      "\u001b[1;31mTypeError\u001b[0m                                 Traceback (most recent call last)",
      "\u001b[1;32m<ipython-input-19-93380a1159b3>\u001b[0m in \u001b[0;36m<module>\u001b[1;34m\u001b[0m\n\u001b[1;32m----> 1\u001b[1;33m \u001b[0mdata_dmatrix\u001b[0m \u001b[1;33m=\u001b[0m \u001b[0mxgb\u001b[0m\u001b[1;33m.\u001b[0m\u001b[0mDMatrix\u001b[0m\u001b[1;33m(\u001b[0m\u001b[1;33m)\u001b[0m\u001b[1;33m\u001b[0m\u001b[1;33m\u001b[0m\u001b[0m\n\u001b[0m\u001b[0;32m      2\u001b[0m \u001b[1;33m\u001b[0m\u001b[0m\n\u001b[0;32m      3\u001b[0m \u001b[1;33m\u001b[0m\u001b[0m\n\u001b[0;32m      4\u001b[0m \u001b[0mdtrain\u001b[0m \u001b[1;33m=\u001b[0m \u001b[0mxgb\u001b[0m\u001b[1;33m.\u001b[0m\u001b[0mDMatrix\u001b[0m\u001b[1;33m(\u001b[0m\u001b[0mX_train\u001b[0m\u001b[1;33m,\u001b[0m\u001b[0mY_train\u001b[0m\u001b[1;33m)\u001b[0m\u001b[1;33m\u001b[0m\u001b[1;33m\u001b[0m\u001b[0m\n\u001b[0;32m      5\u001b[0m \u001b[0mdtest\u001b[0m \u001b[1;33m=\u001b[0m \u001b[0mxgb\u001b[0m\u001b[1;33m.\u001b[0m\u001b[0mDMatrix\u001b[0m\u001b[1;33m(\u001b[0m\u001b[0mX_test\u001b[0m\u001b[1;33m)\u001b[0m\u001b[1;33m\u001b[0m\u001b[1;33m\u001b[0m\u001b[0m\n",
      "\u001b[1;31mTypeError\u001b[0m: __init__() missing 1 required positional argument: 'data'"
     ]
    }
   ],
   "source": [
    "data_dmatrix = xgb.DMatrix()\n",
    "\n",
    "\n",
    "dtrain = xgb.DMatrix(X_train,Y_train)\n",
    "dtest = xgb.DMatrix(X_test)\n",
    "dtest_given = xgb.DMatrix(test_given)\n",
    "num_boost_rounds = 250"
   ]
  },
  {
   "cell_type": "code",
   "execution_count": null,
   "metadata": {},
   "outputs": [],
   "source": [
    "model = xgb.train(dict(xgb_params, silent=1), dtrain, num_boost_round = num_boost_rounds)"
   ]
  },
  {
   "cell_type": "code",
   "execution_count": null,
   "metadata": {},
   "outputs": [],
   "source": [
    "xgb_pred1 = model.predict(dtest_given)\n",
    "xgb_pred = model.predict(test)"
   ]
  },
  {
   "cell_type": "code",
   "execution_count": null,
   "metadata": {},
   "outputs": [],
   "source": [
    "xgb_pred1"
   ]
  },
  {
   "cell_type": "code",
   "execution_count": null,
   "metadata": {},
   "outputs": [],
   "source": [
    "from sklearn.metrics import mean_squared_error"
   ]
  },
  {
   "cell_type": "code",
   "execution_count": null,
   "metadata": {},
   "outputs": [],
   "source": [
    "rmse = mean_squared_error(Y_test,xgb_pred1)\n",
    "rmse"
   ]
  },
  {
   "cell_type": "code",
   "execution_count": null,
   "metadata": {},
   "outputs": [],
   "source": []
  }
 ],
 "metadata": {
  "kernelspec": {
   "display_name": "Python 3",
   "language": "python",
   "name": "python3"
  },
  "language_info": {
   "codemirror_mode": {
    "name": "ipython",
    "version": 3
   },
   "file_extension": ".py",
   "mimetype": "text/x-python",
   "name": "python",
   "nbconvert_exporter": "python",
   "pygments_lexer": "ipython3",
   "version": "3.7.6"
  }
 },
 "nbformat": 4,
 "nbformat_minor": 4
}
