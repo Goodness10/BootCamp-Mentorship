{
 "cells": [
  {
   "cell_type": "code",
   "execution_count": 1,
   "metadata": {},
   "outputs": [],
   "source": [
    "import numpy as np\n",
    "import pandas as pd\n",
    "import matplotlib.pyplot as plt\n",
    "import seaborn as sns"
   ]
  },
  {
   "cell_type": "code",
   "execution_count": 2,
   "metadata": {},
   "outputs": [],
   "source": [
    "train = pd.read_csv('C:/Users/USER/Desktop/DSN Hackathon/Bootcamp Qualification/Train (2).csv')\n",
    "test_given = pd.read_csv('C:/Users/USER/Desktop/DSN Hackathon/Bootcamp Qualification/Test (2).csv')\n",
    "sample_submission = pd.read_csv('C:/Users/USER/Desktop/DSN Hackathon/Bootcamp Qualification/SampleSubmission (2).csv')"
   ]
  },
  {
   "cell_type": "code",
   "execution_count": 3,
   "metadata": {},
   "outputs": [
    {
     "name": "stdout",
     "output_type": "stream",
     "text": [
      "<class 'pandas.core.frame.DataFrame'>\n",
      "RangeIndex: 56000 entries, 0 to 55999\n",
      "Data columns (total 52 columns):\n",
      " #   Column          Non-Null Count  Dtype  \n",
      "---  ------          --------------  -----  \n",
      " 0   Applicant_ID    56000 non-null  object \n",
      " 1   form_field1     53471 non-null  float64\n",
      " 2   form_field2     52156 non-null  float64\n",
      " 3   form_field3     55645 non-null  float64\n",
      " 4   form_field4     55645 non-null  float64\n",
      " 5   form_field5     55645 non-null  float64\n",
      " 6   form_field6     42640 non-null  float64\n",
      " 7   form_field7     50837 non-null  float64\n",
      " 8   form_field8     42640 non-null  float64\n",
      " 9   form_field9     47992 non-null  float64\n",
      " 10  form_field10    55645 non-null  float64\n",
      " 11  form_field11    24579 non-null  float64\n",
      " 12  form_field12    46105 non-null  float64\n",
      " 13  form_field13    50111 non-null  float64\n",
      " 14  form_field14    56000 non-null  int64  \n",
      " 15  form_field15    33525 non-null  float64\n",
      " 16  form_field16    42964 non-null  float64\n",
      " 17  form_field17    44849 non-null  float64\n",
      " 18  form_field18    45598 non-null  float64\n",
      " 19  form_field19    55996 non-null  float64\n",
      " 20  form_field20    55645 non-null  float64\n",
      " 21  form_field21    40146 non-null  float64\n",
      " 22  form_field22    35600 non-null  float64\n",
      " 23  form_field23    27877 non-null  float64\n",
      " 24  form_field24    42703 non-null  float64\n",
      " 25  form_field25    50550 non-null  float64\n",
      " 26  form_field26    48562 non-null  float64\n",
      " 27  form_field27    46701 non-null  float64\n",
      " 28  form_field28    55645 non-null  float64\n",
      " 29  form_field29    55645 non-null  float64\n",
      " 30  form_field30    30491 non-null  float64\n",
      " 31  form_field31    16592 non-null  float64\n",
      " 32  form_field32    50550 non-null  float64\n",
      " 33  form_field33    54744 non-null  float64\n",
      " 34  form_field34    55645 non-null  float64\n",
      " 35  form_field35    32852 non-null  float64\n",
      " 36  form_field36    54005 non-null  float64\n",
      " 37  form_field37    50550 non-null  float64\n",
      " 38  form_field38    55645 non-null  float64\n",
      " 39  form_field39    51789 non-null  float64\n",
      " 40  form_field40    12271 non-null  float64\n",
      " 41  form_field41    17771 non-null  float64\n",
      " 42  form_field42    54677 non-null  float64\n",
      " 43  form_field43    55432 non-null  float64\n",
      " 44  form_field44    50617 non-null  float64\n",
      " 45  form_field45    24683 non-null  float64\n",
      " 46  form_field46    40096 non-null  float64\n",
      " 47  form_field47    56000 non-null  object \n",
      " 48  form_field48    35111 non-null  float64\n",
      " 49  form_field49    55645 non-null  float64\n",
      " 50  form_field50    44944 non-null  float64\n",
      " 51  default_status  56000 non-null  object \n",
      "dtypes: float64(48), int64(1), object(3)\n",
      "memory usage: 22.2+ MB\n"
     ]
    }
   ],
   "source": [
    "train.info()"
   ]
  },
  {
   "cell_type": "code",
   "execution_count": 4,
   "metadata": {},
   "outputs": [
    {
     "name": "stdout",
     "output_type": "stream",
     "text": [
      "<class 'pandas.core.frame.DataFrame'>\n",
      "RangeIndex: 24000 entries, 0 to 23999\n",
      "Data columns (total 51 columns):\n",
      " #   Column        Non-Null Count  Dtype  \n",
      "---  ------        --------------  -----  \n",
      " 0   Applicant_ID  24000 non-null  object \n",
      " 1   form_field1   22890 non-null  float64\n",
      " 2   form_field2   22291 non-null  float64\n",
      " 3   form_field3   23854 non-null  float64\n",
      " 4   form_field4   23854 non-null  float64\n",
      " 5   form_field5   23854 non-null  float64\n",
      " 6   form_field6   18396 non-null  float64\n",
      " 7   form_field7   21769 non-null  float64\n",
      " 8   form_field8   18396 non-null  float64\n",
      " 9   form_field9   20600 non-null  float64\n",
      " 10  form_field10  23853 non-null  float64\n",
      " 11  form_field11  10602 non-null  float64\n",
      " 12  form_field12  19817 non-null  float64\n",
      " 13  form_field13  21537 non-null  float64\n",
      " 14  form_field14  24000 non-null  int64  \n",
      " 15  form_field15  14408 non-null  float64\n",
      " 16  form_field16  18526 non-null  float64\n",
      " 17  form_field17  19305 non-null  float64\n",
      " 18  form_field18  19631 non-null  float64\n",
      " 19  form_field19  24000 non-null  float64\n",
      " 20  form_field20  23853 non-null  float64\n",
      " 21  form_field21  17293 non-null  float64\n",
      " 22  form_field22  15276 non-null  float64\n",
      " 23  form_field23  11875 non-null  float64\n",
      " 24  form_field24  18395 non-null  float64\n",
      " 25  form_field25  21744 non-null  float64\n",
      " 26  form_field26  20828 non-null  float64\n",
      " 27  form_field27  20090 non-null  float64\n",
      " 28  form_field28  23853 non-null  float64\n",
      " 29  form_field29  23853 non-null  float64\n",
      " 30  form_field30  13092 non-null  float64\n",
      " 31  form_field31  7190 non-null   float64\n",
      " 32  form_field32  21744 non-null  float64\n",
      " 33  form_field33  23505 non-null  float64\n",
      " 34  form_field34  23853 non-null  float64\n",
      " 35  form_field35  14134 non-null  float64\n",
      " 36  form_field36  23097 non-null  float64\n",
      " 37  form_field37  21744 non-null  float64\n",
      " 38  form_field38  23853 non-null  float64\n",
      " 39  form_field39  22171 non-null  float64\n",
      " 40  form_field40  5172 non-null   float64\n",
      " 41  form_field41  7651 non-null   float64\n",
      " 42  form_field42  23422 non-null  float64\n",
      " 43  form_field43  23750 non-null  float64\n",
      " 44  form_field44  21638 non-null  float64\n",
      " 45  form_field45  10462 non-null  float64\n",
      " 46  form_field46  17115 non-null  float64\n",
      " 47  form_field47  24000 non-null  object \n",
      " 48  form_field48  15078 non-null  float64\n",
      " 49  form_field49  23854 non-null  float64\n",
      " 50  form_field50  19203 non-null  float64\n",
      "dtypes: float64(48), int64(1), object(2)\n",
      "memory usage: 9.3+ MB\n"
     ]
    }
   ],
   "source": [
    "test_given.info()"
   ]
  },
  {
   "cell_type": "code",
   "execution_count": 5,
   "metadata": {},
   "outputs": [
    {
     "data": {
      "text/plain": [
       "form_field19    0.000071\n",
       "form_field49    0.006339\n",
       "form_field29    0.006339\n",
       "form_field3     0.006339\n",
       "form_field4     0.006339\n",
       "form_field5     0.006339\n",
       "form_field20    0.006339\n",
       "form_field10    0.006339\n",
       "form_field28    0.006339\n",
       "form_field38    0.006339\n",
       "form_field34    0.006339\n",
       "form_field43    0.010143\n",
       "form_field33    0.022429\n",
       "form_field42    0.023625\n",
       "form_field36    0.035625\n",
       "form_field1     0.045161\n",
       "form_field2     0.068643\n",
       "form_field39    0.075196\n",
       "form_field7     0.092196\n",
       "form_field44    0.096125\n",
       "form_field32    0.097321\n",
       "form_field37    0.097321\n",
       "form_field25    0.097321\n",
       "form_field13    0.105161\n",
       "form_field26    0.132821\n",
       "form_field9     0.143000\n",
       "form_field27    0.166054\n",
       "form_field12    0.176696\n",
       "form_field18    0.185750\n",
       "form_field50    0.197429\n",
       "form_field17    0.199125\n",
       "form_field16    0.232786\n",
       "form_field24    0.237446\n",
       "form_field6     0.238571\n",
       "form_field8     0.238571\n",
       "form_field21    0.283107\n",
       "form_field46    0.284000\n",
       "form_field22    0.364286\n",
       "form_field48    0.373018\n",
       "form_field15    0.401339\n",
       "form_field35    0.413357\n",
       "form_field30    0.455518\n",
       "form_field23    0.502196\n",
       "form_field45    0.559232\n",
       "form_field11    0.561089\n",
       "form_field41    0.682661\n",
       "form_field31    0.703714\n",
       "form_field40    0.780875\n",
       "dtype: float64"
      ]
     },
     "execution_count": 5,
     "metadata": {},
     "output_type": "execute_result"
    }
   ],
   "source": [
    "null = train.isna().sum()/len(train)\n",
    "null[null>0].sort_values()"
   ]
  },
  {
   "cell_type": "code",
   "execution_count": 6,
   "metadata": {},
   "outputs": [],
   "source": [
    "X = train.iloc[:, :-1]\n",
    "Y = train.iloc[:,-1]\n",
    "#X.head()"
   ]
  },
  {
   "cell_type": "code",
   "execution_count": 7,
   "metadata": {},
   "outputs": [
    {
     "data": {
      "text/plain": [
       "form_field3     0.006083\n",
       "form_field4     0.006083\n",
       "form_field5     0.006083\n",
       "form_field49    0.006083\n",
       "form_field38    0.006125\n",
       "form_field28    0.006125\n",
       "form_field29    0.006125\n",
       "form_field20    0.006125\n",
       "form_field10    0.006125\n",
       "form_field34    0.006125\n",
       "form_field43    0.010417\n",
       "form_field33    0.020625\n",
       "form_field42    0.024083\n",
       "form_field36    0.037625\n",
       "form_field1     0.046250\n",
       "form_field2     0.071208\n",
       "form_field39    0.076208\n",
       "form_field7     0.092958\n",
       "form_field32    0.094000\n",
       "form_field37    0.094000\n",
       "form_field25    0.094000\n",
       "form_field44    0.098417\n",
       "form_field13    0.102625\n",
       "form_field26    0.132167\n",
       "form_field9     0.141667\n",
       "form_field27    0.162917\n",
       "form_field12    0.174292\n",
       "form_field18    0.182042\n",
       "form_field17    0.195625\n",
       "form_field50    0.199875\n",
       "form_field16    0.228083\n",
       "form_field6     0.233500\n",
       "form_field8     0.233500\n",
       "form_field24    0.233542\n",
       "form_field21    0.279458\n",
       "form_field46    0.286875\n",
       "form_field22    0.363500\n",
       "form_field48    0.371750\n",
       "form_field15    0.399667\n",
       "form_field35    0.411083\n",
       "form_field30    0.454500\n",
       "form_field23    0.505208\n",
       "form_field11    0.558250\n",
       "form_field45    0.564083\n",
       "form_field41    0.681208\n",
       "form_field31    0.700417\n",
       "form_field40    0.784500\n",
       "dtype: float64"
      ]
     },
     "execution_count": 7,
     "metadata": {},
     "output_type": "execute_result"
    }
   ],
   "source": [
    "X_null = test_given.isna().sum()/len(test_given)\n",
    "X_null[X_null>0].sort_values()"
   ]
  },
  {
   "cell_type": "code",
   "execution_count": 19,
   "metadata": {},
   "outputs": [],
   "source": [
    "X = train.drop(['Applicant_ID','form_field23','form_field45','form_field11','form_field41','form_field31','form_field40', 'form_field4','form_field17','form_field18','form_field35','form_field39','Applicant_ID','form_field23','form_field45','form_field11','form_field41','form_field31','form_field40'], axis=1)"
   ]
  },
  {
   "cell_type": "code",
   "execution_count": 9,
   "metadata": {},
   "outputs": [
    {
     "data": {
      "text/plain": [
       "form_field1      2529\n",
       "form_field2      3844\n",
       "form_field3       355\n",
       "form_field4       355\n",
       "form_field5       355\n",
       "form_field6     13360\n",
       "form_field7      5163\n",
       "form_field8     13360\n",
       "form_field9      8008\n",
       "form_field10      355\n",
       "form_field12     9895\n",
       "form_field13     5889\n",
       "form_field14        0\n",
       "form_field15    22475\n",
       "form_field16    13036\n",
       "form_field17    11151\n",
       "form_field18    10402\n",
       "form_field19        4\n",
       "form_field20      355\n",
       "form_field21    15854\n",
       "form_field22    20400\n",
       "form_field24    13297\n",
       "form_field25     5450\n",
       "form_field26     7438\n",
       "form_field27     9299\n",
       "form_field28      355\n",
       "form_field29      355\n",
       "form_field30    25509\n",
       "form_field32     5450\n",
       "form_field33     1256\n",
       "form_field34      355\n",
       "form_field35    23148\n",
       "form_field36     1995\n",
       "form_field37     5450\n",
       "form_field38      355\n",
       "form_field39     4211\n",
       "form_field42     1323\n",
       "form_field43      568\n",
       "form_field44     5383\n",
       "form_field46    15904\n",
       "form_field47        0\n",
       "form_field48    20889\n",
       "form_field49      355\n",
       "form_field50    11056\n",
       "dtype: int64"
      ]
     },
     "execution_count": 9,
     "metadata": {},
     "output_type": "execute_result"
    }
   ],
   "source": [
    "#X.isnull().sum()"
   ]
  },
  {
   "cell_type": "code",
   "execution_count": 23,
   "metadata": {},
   "outputs": [
    {
     "ename": "KeyError",
     "evalue": "'form_field17'",
     "output_type": "error",
     "traceback": [
      "\u001b[1;31m---------------------------------------------------------------------------\u001b[0m",
      "\u001b[1;31mKeyError\u001b[0m                                  Traceback (most recent call last)",
      "\u001b[1;32m~\\anaconda3\\lib\\site-packages\\pandas\\core\\indexes\\base.py\u001b[0m in \u001b[0;36mget_loc\u001b[1;34m(self, key, method, tolerance)\u001b[0m\n\u001b[0;32m   2645\u001b[0m             \u001b[1;32mtry\u001b[0m\u001b[1;33m:\u001b[0m\u001b[1;33m\u001b[0m\u001b[1;33m\u001b[0m\u001b[0m\n\u001b[1;32m-> 2646\u001b[1;33m                 \u001b[1;32mreturn\u001b[0m \u001b[0mself\u001b[0m\u001b[1;33m.\u001b[0m\u001b[0m_engine\u001b[0m\u001b[1;33m.\u001b[0m\u001b[0mget_loc\u001b[0m\u001b[1;33m(\u001b[0m\u001b[0mkey\u001b[0m\u001b[1;33m)\u001b[0m\u001b[1;33m\u001b[0m\u001b[1;33m\u001b[0m\u001b[0m\n\u001b[0m\u001b[0;32m   2647\u001b[0m             \u001b[1;32mexcept\u001b[0m \u001b[0mKeyError\u001b[0m\u001b[1;33m:\u001b[0m\u001b[1;33m\u001b[0m\u001b[1;33m\u001b[0m\u001b[0m\n",
      "\u001b[1;32mpandas\\_libs\\index.pyx\u001b[0m in \u001b[0;36mpandas._libs.index.IndexEngine.get_loc\u001b[1;34m()\u001b[0m\n",
      "\u001b[1;32mpandas\\_libs\\index.pyx\u001b[0m in \u001b[0;36mpandas._libs.index.IndexEngine.get_loc\u001b[1;34m()\u001b[0m\n",
      "\u001b[1;32mpandas\\_libs\\hashtable_class_helper.pxi\u001b[0m in \u001b[0;36mpandas._libs.hashtable.PyObjectHashTable.get_item\u001b[1;34m()\u001b[0m\n",
      "\u001b[1;32mpandas\\_libs\\hashtable_class_helper.pxi\u001b[0m in \u001b[0;36mpandas._libs.hashtable.PyObjectHashTable.get_item\u001b[1;34m()\u001b[0m\n",
      "\u001b[1;31mKeyError\u001b[0m: 'form_field17'",
      "\nDuring handling of the above exception, another exception occurred:\n",
      "\u001b[1;31mKeyError\u001b[0m                                  Traceback (most recent call last)",
      "\u001b[1;32m<ipython-input-23-28f30813e8a7>\u001b[0m in \u001b[0;36m<module>\u001b[1;34m\u001b[0m\n\u001b[0;32m     13\u001b[0m \u001b[0mX\u001b[0m\u001b[1;33m[\u001b[0m\u001b[1;34m\"form_field15\"\u001b[0m\u001b[1;33m]\u001b[0m\u001b[1;33m.\u001b[0m\u001b[0mreplace\u001b[0m\u001b[1;33m(\u001b[0m\u001b[0mnp\u001b[0m\u001b[1;33m.\u001b[0m\u001b[0mnan\u001b[0m\u001b[1;33m,\u001b[0m \u001b[0mX\u001b[0m\u001b[1;33m[\u001b[0m\u001b[1;34m\"form_field15\"\u001b[0m\u001b[1;33m]\u001b[0m\u001b[1;33m.\u001b[0m\u001b[0mmean\u001b[0m\u001b[1;33m(\u001b[0m\u001b[1;33m)\u001b[0m\u001b[1;33m,\u001b[0m \u001b[0minplace\u001b[0m\u001b[1;33m=\u001b[0m\u001b[1;32mTrue\u001b[0m\u001b[1;33m)\u001b[0m\u001b[1;33m\u001b[0m\u001b[1;33m\u001b[0m\u001b[0m\n\u001b[0;32m     14\u001b[0m \u001b[0mX\u001b[0m\u001b[1;33m[\u001b[0m\u001b[1;34m\"form_field16\"\u001b[0m\u001b[1;33m]\u001b[0m\u001b[1;33m.\u001b[0m\u001b[0mreplace\u001b[0m\u001b[1;33m(\u001b[0m\u001b[0mnp\u001b[0m\u001b[1;33m.\u001b[0m\u001b[0mnan\u001b[0m\u001b[1;33m,\u001b[0m \u001b[0mX\u001b[0m\u001b[1;33m[\u001b[0m\u001b[1;34m\"form_field16\"\u001b[0m\u001b[1;33m]\u001b[0m\u001b[1;33m.\u001b[0m\u001b[0mmean\u001b[0m\u001b[1;33m(\u001b[0m\u001b[1;33m)\u001b[0m\u001b[1;33m,\u001b[0m \u001b[0minplace\u001b[0m\u001b[1;33m=\u001b[0m\u001b[1;32mTrue\u001b[0m\u001b[1;33m)\u001b[0m\u001b[1;33m\u001b[0m\u001b[1;33m\u001b[0m\u001b[0m\n\u001b[1;32m---> 15\u001b[1;33m \u001b[0mX\u001b[0m\u001b[1;33m[\u001b[0m\u001b[1;34m\"form_field17\"\u001b[0m\u001b[1;33m]\u001b[0m\u001b[1;33m.\u001b[0m\u001b[0mreplace\u001b[0m\u001b[1;33m(\u001b[0m\u001b[0mnp\u001b[0m\u001b[1;33m.\u001b[0m\u001b[0mnan\u001b[0m\u001b[1;33m,\u001b[0m \u001b[0mX\u001b[0m\u001b[1;33m[\u001b[0m\u001b[1;34m\"form_field17\"\u001b[0m\u001b[1;33m]\u001b[0m\u001b[1;33m.\u001b[0m\u001b[0mmean\u001b[0m\u001b[1;33m(\u001b[0m\u001b[1;33m)\u001b[0m\u001b[1;33m,\u001b[0m \u001b[0minplace\u001b[0m\u001b[1;33m=\u001b[0m\u001b[1;32mTrue\u001b[0m\u001b[1;33m)\u001b[0m\u001b[1;33m\u001b[0m\u001b[1;33m\u001b[0m\u001b[0m\n\u001b[0m\u001b[0;32m     16\u001b[0m \u001b[0mX\u001b[0m\u001b[1;33m[\u001b[0m\u001b[1;34m\"form_field18\"\u001b[0m\u001b[1;33m]\u001b[0m\u001b[1;33m.\u001b[0m\u001b[0mreplace\u001b[0m\u001b[1;33m(\u001b[0m\u001b[0mnp\u001b[0m\u001b[1;33m.\u001b[0m\u001b[0mnan\u001b[0m\u001b[1;33m,\u001b[0m \u001b[0mX\u001b[0m\u001b[1;33m[\u001b[0m\u001b[1;34m\"form_field18\"\u001b[0m\u001b[1;33m]\u001b[0m\u001b[1;33m.\u001b[0m\u001b[0mmean\u001b[0m\u001b[1;33m(\u001b[0m\u001b[1;33m)\u001b[0m\u001b[1;33m,\u001b[0m \u001b[0minplace\u001b[0m\u001b[1;33m=\u001b[0m\u001b[1;32mTrue\u001b[0m\u001b[1;33m)\u001b[0m\u001b[1;33m\u001b[0m\u001b[1;33m\u001b[0m\u001b[0m\n\u001b[0;32m     17\u001b[0m \u001b[0mX\u001b[0m\u001b[1;33m[\u001b[0m\u001b[1;34m\"form_field19\"\u001b[0m\u001b[1;33m]\u001b[0m\u001b[1;33m.\u001b[0m\u001b[0mreplace\u001b[0m\u001b[1;33m(\u001b[0m\u001b[0mnp\u001b[0m\u001b[1;33m.\u001b[0m\u001b[0mnan\u001b[0m\u001b[1;33m,\u001b[0m \u001b[0mX\u001b[0m\u001b[1;33m[\u001b[0m\u001b[1;34m\"form_field19\"\u001b[0m\u001b[1;33m]\u001b[0m\u001b[1;33m.\u001b[0m\u001b[0mmean\u001b[0m\u001b[1;33m(\u001b[0m\u001b[1;33m)\u001b[0m\u001b[1;33m,\u001b[0m \u001b[0minplace\u001b[0m\u001b[1;33m=\u001b[0m\u001b[1;32mTrue\u001b[0m\u001b[1;33m)\u001b[0m\u001b[1;33m\u001b[0m\u001b[1;33m\u001b[0m\u001b[0m\n",
      "\u001b[1;32m~\\anaconda3\\lib\\site-packages\\pandas\\core\\frame.py\u001b[0m in \u001b[0;36m__getitem__\u001b[1;34m(self, key)\u001b[0m\n\u001b[0;32m   2798\u001b[0m             \u001b[1;32mif\u001b[0m \u001b[0mself\u001b[0m\u001b[1;33m.\u001b[0m\u001b[0mcolumns\u001b[0m\u001b[1;33m.\u001b[0m\u001b[0mnlevels\u001b[0m \u001b[1;33m>\u001b[0m \u001b[1;36m1\u001b[0m\u001b[1;33m:\u001b[0m\u001b[1;33m\u001b[0m\u001b[1;33m\u001b[0m\u001b[0m\n\u001b[0;32m   2799\u001b[0m                 \u001b[1;32mreturn\u001b[0m \u001b[0mself\u001b[0m\u001b[1;33m.\u001b[0m\u001b[0m_getitem_multilevel\u001b[0m\u001b[1;33m(\u001b[0m\u001b[0mkey\u001b[0m\u001b[1;33m)\u001b[0m\u001b[1;33m\u001b[0m\u001b[1;33m\u001b[0m\u001b[0m\n\u001b[1;32m-> 2800\u001b[1;33m             \u001b[0mindexer\u001b[0m \u001b[1;33m=\u001b[0m \u001b[0mself\u001b[0m\u001b[1;33m.\u001b[0m\u001b[0mcolumns\u001b[0m\u001b[1;33m.\u001b[0m\u001b[0mget_loc\u001b[0m\u001b[1;33m(\u001b[0m\u001b[0mkey\u001b[0m\u001b[1;33m)\u001b[0m\u001b[1;33m\u001b[0m\u001b[1;33m\u001b[0m\u001b[0m\n\u001b[0m\u001b[0;32m   2801\u001b[0m             \u001b[1;32mif\u001b[0m \u001b[0mis_integer\u001b[0m\u001b[1;33m(\u001b[0m\u001b[0mindexer\u001b[0m\u001b[1;33m)\u001b[0m\u001b[1;33m:\u001b[0m\u001b[1;33m\u001b[0m\u001b[1;33m\u001b[0m\u001b[0m\n\u001b[0;32m   2802\u001b[0m                 \u001b[0mindexer\u001b[0m \u001b[1;33m=\u001b[0m \u001b[1;33m[\u001b[0m\u001b[0mindexer\u001b[0m\u001b[1;33m]\u001b[0m\u001b[1;33m\u001b[0m\u001b[1;33m\u001b[0m\u001b[0m\n",
      "\u001b[1;32m~\\anaconda3\\lib\\site-packages\\pandas\\core\\indexes\\base.py\u001b[0m in \u001b[0;36mget_loc\u001b[1;34m(self, key, method, tolerance)\u001b[0m\n\u001b[0;32m   2646\u001b[0m                 \u001b[1;32mreturn\u001b[0m \u001b[0mself\u001b[0m\u001b[1;33m.\u001b[0m\u001b[0m_engine\u001b[0m\u001b[1;33m.\u001b[0m\u001b[0mget_loc\u001b[0m\u001b[1;33m(\u001b[0m\u001b[0mkey\u001b[0m\u001b[1;33m)\u001b[0m\u001b[1;33m\u001b[0m\u001b[1;33m\u001b[0m\u001b[0m\n\u001b[0;32m   2647\u001b[0m             \u001b[1;32mexcept\u001b[0m \u001b[0mKeyError\u001b[0m\u001b[1;33m:\u001b[0m\u001b[1;33m\u001b[0m\u001b[1;33m\u001b[0m\u001b[0m\n\u001b[1;32m-> 2648\u001b[1;33m                 \u001b[1;32mreturn\u001b[0m \u001b[0mself\u001b[0m\u001b[1;33m.\u001b[0m\u001b[0m_engine\u001b[0m\u001b[1;33m.\u001b[0m\u001b[0mget_loc\u001b[0m\u001b[1;33m(\u001b[0m\u001b[0mself\u001b[0m\u001b[1;33m.\u001b[0m\u001b[0m_maybe_cast_indexer\u001b[0m\u001b[1;33m(\u001b[0m\u001b[0mkey\u001b[0m\u001b[1;33m)\u001b[0m\u001b[1;33m)\u001b[0m\u001b[1;33m\u001b[0m\u001b[1;33m\u001b[0m\u001b[0m\n\u001b[0m\u001b[0;32m   2649\u001b[0m         \u001b[0mindexer\u001b[0m \u001b[1;33m=\u001b[0m \u001b[0mself\u001b[0m\u001b[1;33m.\u001b[0m\u001b[0mget_indexer\u001b[0m\u001b[1;33m(\u001b[0m\u001b[1;33m[\u001b[0m\u001b[0mkey\u001b[0m\u001b[1;33m]\u001b[0m\u001b[1;33m,\u001b[0m \u001b[0mmethod\u001b[0m\u001b[1;33m=\u001b[0m\u001b[0mmethod\u001b[0m\u001b[1;33m,\u001b[0m \u001b[0mtolerance\u001b[0m\u001b[1;33m=\u001b[0m\u001b[0mtolerance\u001b[0m\u001b[1;33m)\u001b[0m\u001b[1;33m\u001b[0m\u001b[1;33m\u001b[0m\u001b[0m\n\u001b[0;32m   2650\u001b[0m         \u001b[1;32mif\u001b[0m \u001b[0mindexer\u001b[0m\u001b[1;33m.\u001b[0m\u001b[0mndim\u001b[0m \u001b[1;33m>\u001b[0m \u001b[1;36m1\u001b[0m \u001b[1;32mor\u001b[0m \u001b[0mindexer\u001b[0m\u001b[1;33m.\u001b[0m\u001b[0msize\u001b[0m \u001b[1;33m>\u001b[0m \u001b[1;36m1\u001b[0m\u001b[1;33m:\u001b[0m\u001b[1;33m\u001b[0m\u001b[1;33m\u001b[0m\u001b[0m\n",
      "\u001b[1;32mpandas\\_libs\\index.pyx\u001b[0m in \u001b[0;36mpandas._libs.index.IndexEngine.get_loc\u001b[1;34m()\u001b[0m\n",
      "\u001b[1;32mpandas\\_libs\\index.pyx\u001b[0m in \u001b[0;36mpandas._libs.index.IndexEngine.get_loc\u001b[1;34m()\u001b[0m\n",
      "\u001b[1;32mpandas\\_libs\\hashtable_class_helper.pxi\u001b[0m in \u001b[0;36mpandas._libs.hashtable.PyObjectHashTable.get_item\u001b[1;34m()\u001b[0m\n",
      "\u001b[1;32mpandas\\_libs\\hashtable_class_helper.pxi\u001b[0m in \u001b[0;36mpandas._libs.hashtable.PyObjectHashTable.get_item\u001b[1;34m()\u001b[0m\n",
      "\u001b[1;31mKeyError\u001b[0m: 'form_field17'"
     ]
    }
   ],
   "source": [
    "X[\"form_field1\"].replace(np.nan, X[\"form_field1\"].mean(), inplace=True)\n",
    "X[\"form_field2\"].replace(np.nan, X[\"form_field2\"].mean(), inplace=True)\n",
    "X[\"form_field3\"].replace(np.nan, X[\"form_field3\"].mean(), inplace=True)\n",
    "#X[\"form_field4\"].replace(np.nan, X[\"form_field4\"].mean(), inplace=True)\n",
    "X[\"form_field5\"].replace(np.nan, X[\"form_field5\"].mean(), inplace=True)\n",
    "X[\"form_field6\"].replace(np.nan, X[\"form_field6\"].mean(), inplace=True)\n",
    "X[\"form_field7\"].replace(np.nan, X[\"form_field7\"].mean(), inplace=True)\n",
    "X[\"form_field8\"].replace(np.nan, X[\"form_field8\"].mean(), inplace=True)\n",
    "X[\"form_field9\"].replace(np.nan, X[\"form_field9\"].mean(), inplace=True)\n",
    "X[\"form_field10\"].replace(np.nan, X[\"form_field10\"].mean(), inplace=True)\n",
    "X[\"form_field12\"].replace(np.nan, X[\"form_field12\"].mean(), inplace=True)\n",
    "X[\"form_field13\"].replace(np.nan, X[\"form_field13\"].mean(), inplace=True)\n",
    "X[\"form_field15\"].replace(np.nan, X[\"form_field15\"].mean(), inplace=True)\n",
    "X[\"form_field16\"].replace(np.nan, X[\"form_field16\"].mean(), inplace=True)\n",
    "X[\"form_field17\"].replace(np.nan, X[\"form_field17\"].mean(), inplace=True)\n",
    "X[\"form_field18\"].replace(np.nan, X[\"form_field18\"].mean(), inplace=True)\n",
    "X[\"form_field19\"].replace(np.nan, X[\"form_field19\"].mean(), inplace=True)\n",
    "X[\"form_field20\"].replace(np.nan, X[\"form_field20\"].mean(), inplace=True)\n",
    "X[\"form_field21\"].replace(np.nan, X[\"form_field21\"].mean(), inplace=True)\n",
    "X[\"form_field22\"].replace(np.nan, X[\"form_field22\"].mean(), inplace=True)\n",
    "X[\"form_field24\"].replace(np.nan, X[\"form_field24\"].mean(), inplace=True)\n",
    "X[\"form_field25\"].replace(np.nan, X[\"form_field25\"].mean(), inplace=True)\n",
    "X[\"form_field26\"].replace(np.nan, X[\"form_field26\"].mean(), inplace=True)\n",
    "X[\"form_field27\"].replace(np.nan, X[\"form_field27\"].mean(), inplace=True)\n",
    "X[\"form_field28\"].replace(np.nan, X[\"form_field28\"].mean(), inplace=True)\n",
    "X[\"form_field29\"].replace(np.nan, X[\"form_field29\"].mean(), inplace=True)\n",
    "X[\"form_field30\"].replace(np.nan, X[\"form_field30\"].mean(), inplace=True)\n",
    "X[\"form_field32\"].replace(np.nan, X[\"form_field32\"].mean(), inplace=True)\n",
    "X[\"form_field33\"].replace(np.nan, X[\"form_field33\"].mean(), inplace=True)\n",
    "X[\"form_field34\"].replace(np.nan, X[\"form_field34\"].mean(), inplace=True)\n",
    "X[\"form_field35\"].replace(np.nan, X[\"form_field35\"].mean(), inplace=True)\n",
    "X[\"form_field36\"].replace(np.nan, X[\"form_field36\"].mean(), inplace=True)\n",
    "X[\"form_field37\"].replace(np.nan, X[\"form_field37\"].mean(), inplace=True)\n",
    "X[\"form_field38\"].replace(np.nan, X[\"form_field38\"].mean(), inplace=True)\n",
    "X[\"form_field39\"].replace(np.nan, X[\"form_field39\"].mean(), inplace=True)\n",
    "X[\"form_field42\"].replace(np.nan, X[\"form_field42\"].mean(), inplace=True)\n",
    "X[\"form_field43\"].replace(np.nan, X[\"form_field43\"].mean(), inplace=True)\n",
    "X[\"form_field44\"].replace(np.nan, X[\"form_field44\"].mean(), inplace=True)\n",
    "X[\"form_field46\"].replace(np.nan, X[\"form_field46\"].mean(), inplace=True)\n",
    "X[\"form_field48\"].replace(np.nan, X[\"form_field48\"].mean(), inplace=True)\n",
    "X[\"form_field49\"].replace(np.nan, X[\"form_field49\"].mean(), inplace=True)\n",
    "X[\"form_field50\"].replace(np.nan, X[\"form_field50\"].mean(), inplace=True)"
   ]
  },
  {
   "cell_type": "code",
   "execution_count": 20,
   "metadata": {},
   "outputs": [],
   "source": [
    "X = train.drop(['Applicant_ID','form_field23','form_field45','form_field11','form_field41','form_field31','form_field40', 'form_field4','form_field17','form_field18','form_field35','form_field39','Applicant_ID','form_field23','form_field45','form_field11','form_field41','form_field31','form_field40'], axis=1)"
   ]
  },
  {
   "cell_type": "code",
   "execution_count": 21,
   "metadata": {},
   "outputs": [
    {
     "data": {
      "text/plain": [
       "form_field1        2529\n",
       "form_field2        3844\n",
       "form_field3         355\n",
       "form_field5         355\n",
       "form_field6       13360\n",
       "form_field7        5163\n",
       "form_field8       13360\n",
       "form_field9        8008\n",
       "form_field10        355\n",
       "form_field12       9895\n",
       "form_field13       5889\n",
       "form_field14          0\n",
       "form_field15      22475\n",
       "form_field16      13036\n",
       "form_field19          4\n",
       "form_field20        355\n",
       "form_field21      15854\n",
       "form_field22      20400\n",
       "form_field24      13297\n",
       "form_field25       5450\n",
       "form_field26       7438\n",
       "form_field27       9299\n",
       "form_field28        355\n",
       "form_field29        355\n",
       "form_field30      25509\n",
       "form_field32       5450\n",
       "form_field33       1256\n",
       "form_field34        355\n",
       "form_field36       1995\n",
       "form_field37       5450\n",
       "form_field38        355\n",
       "form_field42       1323\n",
       "form_field43        568\n",
       "form_field44       5383\n",
       "form_field46      15904\n",
       "form_field47          0\n",
       "form_field48      20889\n",
       "form_field49        355\n",
       "form_field50      11056\n",
       "default_status        0\n",
       "dtype: int64"
      ]
     },
     "execution_count": 21,
     "metadata": {},
     "output_type": "execute_result"
    }
   ],
   "source": [
    "X.isnull().sum()"
   ]
  },
  {
   "cell_type": "code",
   "execution_count": 12,
   "metadata": {},
   "outputs": [],
   "source": [
    "# Encoding categorical variables\n",
    "X = pd.get_dummies(X)\n",
    "X = X.values"
   ]
  },
  {
   "cell_type": "code",
   "execution_count": 13,
   "metadata": {},
   "outputs": [],
   "source": [
    "#from sklearn.ensemble import RandomForestClassifier\n",
    "#model = RandomForestClassifier()\n",
    "#model.fit(X,Y)\n",
    "#importance = model.feature_importances_\n",
    "#for i,v in enumerate(importance):\n",
    "#    print('Feature: %0d, Score: %.5f' % (i,v))"
   ]
  },
  {
   "cell_type": "code",
   "execution_count": 14,
   "metadata": {},
   "outputs": [],
   "source": [
    "#plt.bar([i for i in range(len(importance))], importance)\n",
    "#plt.show()"
   ]
  },
  {
   "cell_type": "code",
   "execution_count": 17,
   "metadata": {},
   "outputs": [
    {
     "ename": "KeyError",
     "evalue": "\"['form_field4' 'form_field17' 'form_field18' 'form_field35' 'form_field39'\\n 'Applicant_ID' 'form_field23' 'form_field45' 'form_field11'\\n 'form_field41' 'form_field31' 'form_field40'] not found in axis\"",
     "output_type": "error",
     "traceback": [
      "\u001b[1;31m---------------------------------------------------------------------------\u001b[0m",
      "\u001b[1;31mKeyError\u001b[0m                                  Traceback (most recent call last)",
      "\u001b[1;32m<ipython-input-17-e93d0e07f63a>\u001b[0m in \u001b[0;36m<module>\u001b[1;34m\u001b[0m\n\u001b[1;32m----> 1\u001b[1;33m \u001b[0mX\u001b[0m \u001b[1;33m=\u001b[0m \u001b[0mX\u001b[0m\u001b[1;33m.\u001b[0m\u001b[0mdrop\u001b[0m\u001b[1;33m(\u001b[0m\u001b[1;33m[\u001b[0m\u001b[1;34m'form_field4'\u001b[0m\u001b[1;33m,\u001b[0m\u001b[1;34m'form_field17'\u001b[0m\u001b[1;33m,\u001b[0m\u001b[1;34m'form_field18'\u001b[0m\u001b[1;33m,\u001b[0m\u001b[1;34m'form_field35'\u001b[0m\u001b[1;33m,\u001b[0m\u001b[1;34m'form_field39'\u001b[0m\u001b[1;33m,\u001b[0m\u001b[1;34m'Applicant_ID'\u001b[0m\u001b[1;33m,\u001b[0m\u001b[1;34m'form_field23'\u001b[0m\u001b[1;33m,\u001b[0m\u001b[1;34m'form_field45'\u001b[0m\u001b[1;33m,\u001b[0m\u001b[1;34m'form_field11'\u001b[0m\u001b[1;33m,\u001b[0m\u001b[1;34m'form_field41'\u001b[0m\u001b[1;33m,\u001b[0m\u001b[1;34m'form_field31'\u001b[0m\u001b[1;33m,\u001b[0m\u001b[1;34m'form_field40'\u001b[0m\u001b[1;33m]\u001b[0m\u001b[1;33m,\u001b[0m\u001b[0maxis\u001b[0m\u001b[1;33m=\u001b[0m\u001b[1;36m1\u001b[0m\u001b[1;33m)\u001b[0m\u001b[1;33m\u001b[0m\u001b[1;33m\u001b[0m\u001b[0m\n\u001b[0m",
      "\u001b[1;32m~\\anaconda3\\lib\\site-packages\\pandas\\core\\frame.py\u001b[0m in \u001b[0;36mdrop\u001b[1;34m(self, labels, axis, index, columns, level, inplace, errors)\u001b[0m\n\u001b[0;32m   3995\u001b[0m             \u001b[0mlevel\u001b[0m\u001b[1;33m=\u001b[0m\u001b[0mlevel\u001b[0m\u001b[1;33m,\u001b[0m\u001b[1;33m\u001b[0m\u001b[1;33m\u001b[0m\u001b[0m\n\u001b[0;32m   3996\u001b[0m             \u001b[0minplace\u001b[0m\u001b[1;33m=\u001b[0m\u001b[0minplace\u001b[0m\u001b[1;33m,\u001b[0m\u001b[1;33m\u001b[0m\u001b[1;33m\u001b[0m\u001b[0m\n\u001b[1;32m-> 3997\u001b[1;33m             \u001b[0merrors\u001b[0m\u001b[1;33m=\u001b[0m\u001b[0merrors\u001b[0m\u001b[1;33m,\u001b[0m\u001b[1;33m\u001b[0m\u001b[1;33m\u001b[0m\u001b[0m\n\u001b[0m\u001b[0;32m   3998\u001b[0m         )\n\u001b[0;32m   3999\u001b[0m \u001b[1;33m\u001b[0m\u001b[0m\n",
      "\u001b[1;32m~\\anaconda3\\lib\\site-packages\\pandas\\core\\generic.py\u001b[0m in \u001b[0;36mdrop\u001b[1;34m(self, labels, axis, index, columns, level, inplace, errors)\u001b[0m\n\u001b[0;32m   3934\u001b[0m         \u001b[1;32mfor\u001b[0m \u001b[0maxis\u001b[0m\u001b[1;33m,\u001b[0m \u001b[0mlabels\u001b[0m \u001b[1;32min\u001b[0m \u001b[0maxes\u001b[0m\u001b[1;33m.\u001b[0m\u001b[0mitems\u001b[0m\u001b[1;33m(\u001b[0m\u001b[1;33m)\u001b[0m\u001b[1;33m:\u001b[0m\u001b[1;33m\u001b[0m\u001b[1;33m\u001b[0m\u001b[0m\n\u001b[0;32m   3935\u001b[0m             \u001b[1;32mif\u001b[0m \u001b[0mlabels\u001b[0m \u001b[1;32mis\u001b[0m \u001b[1;32mnot\u001b[0m \u001b[1;32mNone\u001b[0m\u001b[1;33m:\u001b[0m\u001b[1;33m\u001b[0m\u001b[1;33m\u001b[0m\u001b[0m\n\u001b[1;32m-> 3936\u001b[1;33m                 \u001b[0mobj\u001b[0m \u001b[1;33m=\u001b[0m \u001b[0mobj\u001b[0m\u001b[1;33m.\u001b[0m\u001b[0m_drop_axis\u001b[0m\u001b[1;33m(\u001b[0m\u001b[0mlabels\u001b[0m\u001b[1;33m,\u001b[0m \u001b[0maxis\u001b[0m\u001b[1;33m,\u001b[0m \u001b[0mlevel\u001b[0m\u001b[1;33m=\u001b[0m\u001b[0mlevel\u001b[0m\u001b[1;33m,\u001b[0m \u001b[0merrors\u001b[0m\u001b[1;33m=\u001b[0m\u001b[0merrors\u001b[0m\u001b[1;33m)\u001b[0m\u001b[1;33m\u001b[0m\u001b[1;33m\u001b[0m\u001b[0m\n\u001b[0m\u001b[0;32m   3937\u001b[0m \u001b[1;33m\u001b[0m\u001b[0m\n\u001b[0;32m   3938\u001b[0m         \u001b[1;32mif\u001b[0m \u001b[0minplace\u001b[0m\u001b[1;33m:\u001b[0m\u001b[1;33m\u001b[0m\u001b[1;33m\u001b[0m\u001b[0m\n",
      "\u001b[1;32m~\\anaconda3\\lib\\site-packages\\pandas\\core\\generic.py\u001b[0m in \u001b[0;36m_drop_axis\u001b[1;34m(self, labels, axis, level, errors)\u001b[0m\n\u001b[0;32m   3968\u001b[0m                 \u001b[0mnew_axis\u001b[0m \u001b[1;33m=\u001b[0m \u001b[0maxis\u001b[0m\u001b[1;33m.\u001b[0m\u001b[0mdrop\u001b[0m\u001b[1;33m(\u001b[0m\u001b[0mlabels\u001b[0m\u001b[1;33m,\u001b[0m \u001b[0mlevel\u001b[0m\u001b[1;33m=\u001b[0m\u001b[0mlevel\u001b[0m\u001b[1;33m,\u001b[0m \u001b[0merrors\u001b[0m\u001b[1;33m=\u001b[0m\u001b[0merrors\u001b[0m\u001b[1;33m)\u001b[0m\u001b[1;33m\u001b[0m\u001b[1;33m\u001b[0m\u001b[0m\n\u001b[0;32m   3969\u001b[0m             \u001b[1;32melse\u001b[0m\u001b[1;33m:\u001b[0m\u001b[1;33m\u001b[0m\u001b[1;33m\u001b[0m\u001b[0m\n\u001b[1;32m-> 3970\u001b[1;33m                 \u001b[0mnew_axis\u001b[0m \u001b[1;33m=\u001b[0m \u001b[0maxis\u001b[0m\u001b[1;33m.\u001b[0m\u001b[0mdrop\u001b[0m\u001b[1;33m(\u001b[0m\u001b[0mlabels\u001b[0m\u001b[1;33m,\u001b[0m \u001b[0merrors\u001b[0m\u001b[1;33m=\u001b[0m\u001b[0merrors\u001b[0m\u001b[1;33m)\u001b[0m\u001b[1;33m\u001b[0m\u001b[1;33m\u001b[0m\u001b[0m\n\u001b[0m\u001b[0;32m   3971\u001b[0m             \u001b[0mresult\u001b[0m \u001b[1;33m=\u001b[0m \u001b[0mself\u001b[0m\u001b[1;33m.\u001b[0m\u001b[0mreindex\u001b[0m\u001b[1;33m(\u001b[0m\u001b[1;33m**\u001b[0m\u001b[1;33m{\u001b[0m\u001b[0maxis_name\u001b[0m\u001b[1;33m:\u001b[0m \u001b[0mnew_axis\u001b[0m\u001b[1;33m}\u001b[0m\u001b[1;33m)\u001b[0m\u001b[1;33m\u001b[0m\u001b[1;33m\u001b[0m\u001b[0m\n\u001b[0;32m   3972\u001b[0m \u001b[1;33m\u001b[0m\u001b[0m\n",
      "\u001b[1;32m~\\anaconda3\\lib\\site-packages\\pandas\\core\\indexes\\base.py\u001b[0m in \u001b[0;36mdrop\u001b[1;34m(self, labels, errors)\u001b[0m\n\u001b[0;32m   5016\u001b[0m         \u001b[1;32mif\u001b[0m \u001b[0mmask\u001b[0m\u001b[1;33m.\u001b[0m\u001b[0many\u001b[0m\u001b[1;33m(\u001b[0m\u001b[1;33m)\u001b[0m\u001b[1;33m:\u001b[0m\u001b[1;33m\u001b[0m\u001b[1;33m\u001b[0m\u001b[0m\n\u001b[0;32m   5017\u001b[0m             \u001b[1;32mif\u001b[0m \u001b[0merrors\u001b[0m \u001b[1;33m!=\u001b[0m \u001b[1;34m\"ignore\"\u001b[0m\u001b[1;33m:\u001b[0m\u001b[1;33m\u001b[0m\u001b[1;33m\u001b[0m\u001b[0m\n\u001b[1;32m-> 5018\u001b[1;33m                 \u001b[1;32mraise\u001b[0m \u001b[0mKeyError\u001b[0m\u001b[1;33m(\u001b[0m\u001b[1;34mf\"{labels[mask]} not found in axis\"\u001b[0m\u001b[1;33m)\u001b[0m\u001b[1;33m\u001b[0m\u001b[1;33m\u001b[0m\u001b[0m\n\u001b[0m\u001b[0;32m   5019\u001b[0m             \u001b[0mindexer\u001b[0m \u001b[1;33m=\u001b[0m \u001b[0mindexer\u001b[0m\u001b[1;33m[\u001b[0m\u001b[1;33m~\u001b[0m\u001b[0mmask\u001b[0m\u001b[1;33m]\u001b[0m\u001b[1;33m\u001b[0m\u001b[1;33m\u001b[0m\u001b[0m\n\u001b[0;32m   5020\u001b[0m         \u001b[1;32mreturn\u001b[0m \u001b[0mself\u001b[0m\u001b[1;33m.\u001b[0m\u001b[0mdelete\u001b[0m\u001b[1;33m(\u001b[0m\u001b[0mindexer\u001b[0m\u001b[1;33m)\u001b[0m\u001b[1;33m\u001b[0m\u001b[1;33m\u001b[0m\u001b[0m\n",
      "\u001b[1;31mKeyError\u001b[0m: \"['form_field4' 'form_field17' 'form_field18' 'form_field35' 'form_field39'\\n 'Applicant_ID' 'form_field23' 'form_field45' 'form_field11'\\n 'form_field41' 'form_field31' 'form_field40'] not found in axis\""
     ]
    }
   ],
   "source": [
    "X = X.drop(['form_field4','form_field17','form_field18','form_field35','form_field39','Applicant_ID','form_field23','form_field45','form_field11','form_field41','form_field31','form_field40'],axis=1)"
   ]
  },
  {
   "cell_type": "code",
   "execution_count": 16,
   "metadata": {},
   "outputs": [
    {
     "data": {
      "text/plain": [
       "form_field1        2529\n",
       "form_field2        3844\n",
       "form_field3         355\n",
       "form_field5         355\n",
       "form_field6       13360\n",
       "form_field7        5163\n",
       "form_field8       13360\n",
       "form_field9        8008\n",
       "form_field10        355\n",
       "form_field12       9895\n",
       "form_field13       5889\n",
       "form_field14          0\n",
       "form_field15      22475\n",
       "form_field16      13036\n",
       "form_field19          4\n",
       "form_field20        355\n",
       "form_field21      15854\n",
       "form_field22      20400\n",
       "form_field24      13297\n",
       "form_field25       5450\n",
       "form_field26       7438\n",
       "form_field27       9299\n",
       "form_field28        355\n",
       "form_field29        355\n",
       "form_field30      25509\n",
       "form_field32       5450\n",
       "form_field33       1256\n",
       "form_field34        355\n",
       "form_field36       1995\n",
       "form_field37       5450\n",
       "form_field38        355\n",
       "form_field42       1323\n",
       "form_field43        568\n",
       "form_field44       5383\n",
       "form_field46      15904\n",
       "form_field47          0\n",
       "form_field48      20889\n",
       "form_field49        355\n",
       "form_field50      11056\n",
       "default_status        0\n",
       "dtype: int64"
      ]
     },
     "execution_count": 16,
     "metadata": {},
     "output_type": "execute_result"
    }
   ],
   "source": [
    "X.isna().sum()"
   ]
  },
  {
   "cell_type": "code",
   "execution_count": null,
   "metadata": {},
   "outputs": [],
   "source": [
    "#Splitting into test and train set\n",
    "from sklearn.model_selection import train_test_split\n",
    "X_train, X_test, Y_train, Y_test = train_test_split(X,Y,test_size=0.3, random_state = 0)"
   ]
  },
  {
   "cell_type": "code",
   "execution_count": null,
   "metadata": {},
   "outputs": [],
   "source": [
    "#Using Adaboost\n",
    "from sklearn.ensemble import AdaBoostClassifier\n",
    "from sklearn.metrics import confusion_matrix\n",
    "from sklearn.tree import DecisionTreeClassifier\n",
    "\n",
    "classifier = AdaBoostClassifier(DecisionTreeClassifier(max_depth=1), n_estimators = 200)\n",
    "classifier.fit(X_train, Y_train)"
   ]
  },
  {
   "cell_type": "code",
   "execution_count": null,
   "metadata": {},
   "outputs": [],
   "source": []
  }
 ],
 "metadata": {
  "kernelspec": {
   "display_name": "Python 3",
   "language": "python",
   "name": "python3"
  },
  "language_info": {
   "codemirror_mode": {
    "name": "ipython",
    "version": 3
   },
   "file_extension": ".py",
   "mimetype": "text/x-python",
   "name": "python",
   "nbconvert_exporter": "python",
   "pygments_lexer": "ipython3",
   "version": "3.7.6"
  }
 },
 "nbformat": 4,
 "nbformat_minor": 4
}
