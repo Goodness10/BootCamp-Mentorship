{
 "cells": [
  {
   "cell_type": "code",
   "execution_count": 223,
   "metadata": {
    "id": "6Nh1H4PGhL6t"
   },
   "outputs": [],
   "source": [
    "import numpy as np\n",
    "import pandas as pd\n",
    "import matplotlib.pyplot as plt\n",
    "import seaborn as sns"
   ]
  },
  {
   "cell_type": "code",
   "execution_count": 224,
   "metadata": {
    "id": "xoPCQg9lhqhm"
   },
   "outputs": [],
   "source": [
    "train = pd.read_csv('C:/Users/USER/Desktop/DSN Hackathon/Bootcamp Qualification/Train (2).csv')\n",
    "test_given = pd.read_csv('C:/Users/USER/Desktop/DSN Hackathon/Bootcamp Qualification/Test (2).csv')\n",
    "sub = pd.read_csv('C:/Users/USER/Desktop/DSN Hackathon/Bootcamp Qualification/SampleSubmission (2).csv')"
   ]
  },
  {
   "cell_type": "code",
   "execution_count": 225,
   "metadata": {},
   "outputs": [
    {
     "name": "stdout",
     "output_type": "stream",
     "text": [
      "<class 'pandas.core.frame.DataFrame'>\n",
      "RangeIndex: 56000 entries, 0 to 55999\n",
      "Data columns (total 52 columns):\n",
      " #   Column          Non-Null Count  Dtype  \n",
      "---  ------          --------------  -----  \n",
      " 0   Applicant_ID    56000 non-null  object \n",
      " 1   form_field1     53471 non-null  float64\n",
      " 2   form_field2     52156 non-null  float64\n",
      " 3   form_field3     55645 non-null  float64\n",
      " 4   form_field4     55645 non-null  float64\n",
      " 5   form_field5     55645 non-null  float64\n",
      " 6   form_field6     42640 non-null  float64\n",
      " 7   form_field7     50837 non-null  float64\n",
      " 8   form_field8     42640 non-null  float64\n",
      " 9   form_field9     47992 non-null  float64\n",
      " 10  form_field10    55645 non-null  float64\n",
      " 11  form_field11    24579 non-null  float64\n",
      " 12  form_field12    46105 non-null  float64\n",
      " 13  form_field13    50111 non-null  float64\n",
      " 14  form_field14    56000 non-null  int64  \n",
      " 15  form_field15    33525 non-null  float64\n",
      " 16  form_field16    42964 non-null  float64\n",
      " 17  form_field17    44849 non-null  float64\n",
      " 18  form_field18    45598 non-null  float64\n",
      " 19  form_field19    55996 non-null  float64\n",
      " 20  form_field20    55645 non-null  float64\n",
      " 21  form_field21    40146 non-null  float64\n",
      " 22  form_field22    35600 non-null  float64\n",
      " 23  form_field23    27877 non-null  float64\n",
      " 24  form_field24    42703 non-null  float64\n",
      " 25  form_field25    50550 non-null  float64\n",
      " 26  form_field26    48562 non-null  float64\n",
      " 27  form_field27    46701 non-null  float64\n",
      " 28  form_field28    55645 non-null  float64\n",
      " 29  form_field29    55645 non-null  float64\n",
      " 30  form_field30    30491 non-null  float64\n",
      " 31  form_field31    16592 non-null  float64\n",
      " 32  form_field32    50550 non-null  float64\n",
      " 33  form_field33    54744 non-null  float64\n",
      " 34  form_field34    55645 non-null  float64\n",
      " 35  form_field35    32852 non-null  float64\n",
      " 36  form_field36    54005 non-null  float64\n",
      " 37  form_field37    50550 non-null  float64\n",
      " 38  form_field38    55645 non-null  float64\n",
      " 39  form_field39    51789 non-null  float64\n",
      " 40  form_field40    12271 non-null  float64\n",
      " 41  form_field41    17771 non-null  float64\n",
      " 42  form_field42    54677 non-null  float64\n",
      " 43  form_field43    55432 non-null  float64\n",
      " 44  form_field44    50617 non-null  float64\n",
      " 45  form_field45    24683 non-null  float64\n",
      " 46  form_field46    40096 non-null  float64\n",
      " 47  form_field47    56000 non-null  object \n",
      " 48  form_field48    35111 non-null  float64\n",
      " 49  form_field49    55645 non-null  float64\n",
      " 50  form_field50    44944 non-null  float64\n",
      " 51  default_status  56000 non-null  object \n",
      "dtypes: float64(48), int64(1), object(3)\n",
      "memory usage: 22.2+ MB\n"
     ]
    }
   ],
   "source": [
    "train.info()"
   ]
  },
  {
   "cell_type": "code",
   "execution_count": 226,
   "metadata": {},
   "outputs": [
    {
     "name": "stdout",
     "output_type": "stream",
     "text": [
      "<class 'pandas.core.frame.DataFrame'>\n",
      "RangeIndex: 24000 entries, 0 to 23999\n",
      "Data columns (total 51 columns):\n",
      " #   Column        Non-Null Count  Dtype  \n",
      "---  ------        --------------  -----  \n",
      " 0   Applicant_ID  24000 non-null  object \n",
      " 1   form_field1   22890 non-null  float64\n",
      " 2   form_field2   22291 non-null  float64\n",
      " 3   form_field3   23854 non-null  float64\n",
      " 4   form_field4   23854 non-null  float64\n",
      " 5   form_field5   23854 non-null  float64\n",
      " 6   form_field6   18396 non-null  float64\n",
      " 7   form_field7   21769 non-null  float64\n",
      " 8   form_field8   18396 non-null  float64\n",
      " 9   form_field9   20600 non-null  float64\n",
      " 10  form_field10  23853 non-null  float64\n",
      " 11  form_field11  10602 non-null  float64\n",
      " 12  form_field12  19817 non-null  float64\n",
      " 13  form_field13  21537 non-null  float64\n",
      " 14  form_field14  24000 non-null  int64  \n",
      " 15  form_field15  14408 non-null  float64\n",
      " 16  form_field16  18526 non-null  float64\n",
      " 17  form_field17  19305 non-null  float64\n",
      " 18  form_field18  19631 non-null  float64\n",
      " 19  form_field19  24000 non-null  float64\n",
      " 20  form_field20  23853 non-null  float64\n",
      " 21  form_field21  17293 non-null  float64\n",
      " 22  form_field22  15276 non-null  float64\n",
      " 23  form_field23  11875 non-null  float64\n",
      " 24  form_field24  18395 non-null  float64\n",
      " 25  form_field25  21744 non-null  float64\n",
      " 26  form_field26  20828 non-null  float64\n",
      " 27  form_field27  20090 non-null  float64\n",
      " 28  form_field28  23853 non-null  float64\n",
      " 29  form_field29  23853 non-null  float64\n",
      " 30  form_field30  13092 non-null  float64\n",
      " 31  form_field31  7190 non-null   float64\n",
      " 32  form_field32  21744 non-null  float64\n",
      " 33  form_field33  23505 non-null  float64\n",
      " 34  form_field34  23853 non-null  float64\n",
      " 35  form_field35  14134 non-null  float64\n",
      " 36  form_field36  23097 non-null  float64\n",
      " 37  form_field37  21744 non-null  float64\n",
      " 38  form_field38  23853 non-null  float64\n",
      " 39  form_field39  22171 non-null  float64\n",
      " 40  form_field40  5172 non-null   float64\n",
      " 41  form_field41  7651 non-null   float64\n",
      " 42  form_field42  23422 non-null  float64\n",
      " 43  form_field43  23750 non-null  float64\n",
      " 44  form_field44  21638 non-null  float64\n",
      " 45  form_field45  10462 non-null  float64\n",
      " 46  form_field46  17115 non-null  float64\n",
      " 47  form_field47  24000 non-null  object \n",
      " 48  form_field48  15078 non-null  float64\n",
      " 49  form_field49  23854 non-null  float64\n",
      " 50  form_field50  19203 non-null  float64\n",
      "dtypes: float64(48), int64(1), object(2)\n",
      "memory usage: 9.3+ MB\n"
     ]
    }
   ],
   "source": [
    "test_given.info()"
   ]
  },
  {
   "cell_type": "code",
   "execution_count": 173,
   "metadata": {},
   "outputs": [
    {
     "data": {
      "text/html": [
       "<div>\n",
       "<style scoped>\n",
       "    .dataframe tbody tr th:only-of-type {\n",
       "        vertical-align: middle;\n",
       "    }\n",
       "\n",
       "    .dataframe tbody tr th {\n",
       "        vertical-align: top;\n",
       "    }\n",
       "\n",
       "    .dataframe thead th {\n",
       "        text-align: right;\n",
       "    }\n",
       "</style>\n",
       "<table border=\"1\" class=\"dataframe\">\n",
       "  <thead>\n",
       "    <tr style=\"text-align: right;\">\n",
       "      <th></th>\n",
       "      <th>form_field1</th>\n",
       "      <th>form_field2</th>\n",
       "      <th>form_field3</th>\n",
       "      <th>form_field4</th>\n",
       "      <th>form_field5</th>\n",
       "      <th>form_field6</th>\n",
       "      <th>form_field7</th>\n",
       "      <th>form_field8</th>\n",
       "      <th>form_field9</th>\n",
       "      <th>form_field10</th>\n",
       "      <th>...</th>\n",
       "      <th>form_field40</th>\n",
       "      <th>form_field41</th>\n",
       "      <th>form_field42</th>\n",
       "      <th>form_field43</th>\n",
       "      <th>form_field44</th>\n",
       "      <th>form_field45</th>\n",
       "      <th>form_field46</th>\n",
       "      <th>form_field48</th>\n",
       "      <th>form_field49</th>\n",
       "      <th>form_field50</th>\n",
       "    </tr>\n",
       "  </thead>\n",
       "  <tbody>\n",
       "    <tr>\n",
       "      <th>count</th>\n",
       "      <td>53471.000000</td>\n",
       "      <td>52156.000000</td>\n",
       "      <td>55645.000000</td>\n",
       "      <td>55645.000000</td>\n",
       "      <td>55645.000000</td>\n",
       "      <td>4.264000e+04</td>\n",
       "      <td>5.083700e+04</td>\n",
       "      <td>4.264000e+04</td>\n",
       "      <td>4.799200e+04</td>\n",
       "      <td>5.564500e+04</td>\n",
       "      <td>...</td>\n",
       "      <td>12271.000000</td>\n",
       "      <td>17771.000000</td>\n",
       "      <td>54677.000000</td>\n",
       "      <td>55432.000000</td>\n",
       "      <td>50617.000000</td>\n",
       "      <td>24683.000000</td>\n",
       "      <td>40096.000000</td>\n",
       "      <td>3.511100e+04</td>\n",
       "      <td>55645.000000</td>\n",
       "      <td>4.494400e+04</td>\n",
       "    </tr>\n",
       "    <tr>\n",
       "      <th>mean</th>\n",
       "      <td>3491.795665</td>\n",
       "      <td>0.550737</td>\n",
       "      <td>1.052225</td>\n",
       "      <td>0.851979</td>\n",
       "      <td>1.956317</td>\n",
       "      <td>6.244479e+05</td>\n",
       "      <td>6.865210e+06</td>\n",
       "      <td>2.626690e+06</td>\n",
       "      <td>1.316002e+07</td>\n",
       "      <td>1.185585e+07</td>\n",
       "      <td>...</td>\n",
       "      <td>147.797977</td>\n",
       "      <td>108.117363</td>\n",
       "      <td>0.368215</td>\n",
       "      <td>6.634511</td>\n",
       "      <td>0.563377</td>\n",
       "      <td>0.072520</td>\n",
       "      <td>0.095371</td>\n",
       "      <td>3.052449e+05</td>\n",
       "      <td>1.049061</td>\n",
       "      <td>6.005862e+05</td>\n",
       "    </tr>\n",
       "    <tr>\n",
       "      <th>std</th>\n",
       "      <td>188.462426</td>\n",
       "      <td>0.820979</td>\n",
       "      <td>2.147768</td>\n",
       "      <td>3.157692</td>\n",
       "      <td>10.512396</td>\n",
       "      <td>1.433422e+06</td>\n",
       "      <td>1.912729e+07</td>\n",
       "      <td>3.927355e+06</td>\n",
       "      <td>1.977963e+07</td>\n",
       "      <td>2.669459e+07</td>\n",
       "      <td>...</td>\n",
       "      <td>45.085889</td>\n",
       "      <td>36.765769</td>\n",
       "      <td>0.412858</td>\n",
       "      <td>6.378946</td>\n",
       "      <td>0.196973</td>\n",
       "      <td>0.291146</td>\n",
       "      <td>0.335210</td>\n",
       "      <td>1.647757e+06</td>\n",
       "      <td>1.806160</td>\n",
       "      <td>5.842405e+06</td>\n",
       "    </tr>\n",
       "    <tr>\n",
       "      <th>min</th>\n",
       "      <td>2990.000000</td>\n",
       "      <td>0.000000</td>\n",
       "      <td>0.000000</td>\n",
       "      <td>0.000000</td>\n",
       "      <td>0.000000</td>\n",
       "      <td>0.000000e+00</td>\n",
       "      <td>0.000000e+00</td>\n",
       "      <td>0.000000e+00</td>\n",
       "      <td>0.000000e+00</td>\n",
       "      <td>0.000000e+00</td>\n",
       "      <td>...</td>\n",
       "      <td>0.021000</td>\n",
       "      <td>0.000000</td>\n",
       "      <td>0.000000</td>\n",
       "      <td>0.000000</td>\n",
       "      <td>0.048528</td>\n",
       "      <td>0.000000</td>\n",
       "      <td>0.000000</td>\n",
       "      <td>0.000000e+00</td>\n",
       "      <td>0.000000</td>\n",
       "      <td>0.000000e+00</td>\n",
       "    </tr>\n",
       "    <tr>\n",
       "      <th>25%</th>\n",
       "      <td>3358.000000</td>\n",
       "      <td>0.070788</td>\n",
       "      <td>0.000000</td>\n",
       "      <td>0.000000</td>\n",
       "      <td>0.000000</td>\n",
       "      <td>1.400400e+04</td>\n",
       "      <td>6.869740e+05</td>\n",
       "      <td>1.929440e+05</td>\n",
       "      <td>1.368502e+06</td>\n",
       "      <td>4.500730e+05</td>\n",
       "      <td>...</td>\n",
       "      <td>136.191750</td>\n",
       "      <td>87.055500</td>\n",
       "      <td>0.000000</td>\n",
       "      <td>2.020000</td>\n",
       "      <td>0.411672</td>\n",
       "      <td>0.000000</td>\n",
       "      <td>0.000000</td>\n",
       "      <td>7.710079e+01</td>\n",
       "      <td>0.000000</td>\n",
       "      <td>4.560141e-02</td>\n",
       "    </tr>\n",
       "    <tr>\n",
       "      <th>50%</th>\n",
       "      <td>3484.000000</td>\n",
       "      <td>0.267575</td>\n",
       "      <td>0.062000</td>\n",
       "      <td>0.000000</td>\n",
       "      <td>0.000000</td>\n",
       "      <td>1.155330e+05</td>\n",
       "      <td>2.704328e+06</td>\n",
       "      <td>9.639420e+05</td>\n",
       "      <td>5.506295e+06</td>\n",
       "      <td>3.707559e+06</td>\n",
       "      <td>...</td>\n",
       "      <td>150.000000</td>\n",
       "      <td>118.441500</td>\n",
       "      <td>0.220000</td>\n",
       "      <td>5.050000</td>\n",
       "      <td>0.588648</td>\n",
       "      <td>0.000000</td>\n",
       "      <td>0.000000</td>\n",
       "      <td>3.181243e+02</td>\n",
       "      <td>0.000000</td>\n",
       "      <td>1.703996e-01</td>\n",
       "    </tr>\n",
       "    <tr>\n",
       "      <th>75%</th>\n",
       "      <td>3620.000000</td>\n",
       "      <td>0.719512</td>\n",
       "      <td>1.282000</td>\n",
       "      <td>0.000000</td>\n",
       "      <td>0.000000</td>\n",
       "      <td>5.259280e+05</td>\n",
       "      <td>6.993831e+06</td>\n",
       "      <td>3.751516e+06</td>\n",
       "      <td>1.694552e+07</td>\n",
       "      <td>1.326101e+07</td>\n",
       "      <td>...</td>\n",
       "      <td>167.754000</td>\n",
       "      <td>137.496750</td>\n",
       "      <td>0.628573</td>\n",
       "      <td>10.100000</td>\n",
       "      <td>0.753840</td>\n",
       "      <td>0.000000</td>\n",
       "      <td>0.000000</td>\n",
       "      <td>1.153022e+03</td>\n",
       "      <td>1.181754</td>\n",
       "      <td>4.993370e-01</td>\n",
       "    </tr>\n",
       "    <tr>\n",
       "      <th>max</th>\n",
       "      <td>3900.000000</td>\n",
       "      <td>18.015050</td>\n",
       "      <td>57.371600</td>\n",
       "      <td>91.672200</td>\n",
       "      <td>407.748600</td>\n",
       "      <td>5.313546e+07</td>\n",
       "      <td>2.158794e+09</td>\n",
       "      <td>1.037397e+08</td>\n",
       "      <td>3.200533e+08</td>\n",
       "      <td>2.191361e+09</td>\n",
       "      <td>...</td>\n",
       "      <td>645.450000</td>\n",
       "      <td>255.000000</td>\n",
       "      <td>2.200000</td>\n",
       "      <td>91.910000</td>\n",
       "      <td>0.800000</td>\n",
       "      <td>5.000000</td>\n",
       "      <td>5.000000</td>\n",
       "      <td>5.321014e+07</td>\n",
       "      <td>28.000000</td>\n",
       "      <td>2.307571e+08</td>\n",
       "    </tr>\n",
       "  </tbody>\n",
       "</table>\n",
       "<p>8 rows × 49 columns</p>\n",
       "</div>"
      ],
      "text/plain": [
       "        form_field1   form_field2   form_field3   form_field4   form_field5  \\\n",
       "count  53471.000000  52156.000000  55645.000000  55645.000000  55645.000000   \n",
       "mean    3491.795665      0.550737      1.052225      0.851979      1.956317   \n",
       "std      188.462426      0.820979      2.147768      3.157692     10.512396   \n",
       "min     2990.000000      0.000000      0.000000      0.000000      0.000000   \n",
       "25%     3358.000000      0.070788      0.000000      0.000000      0.000000   \n",
       "50%     3484.000000      0.267575      0.062000      0.000000      0.000000   \n",
       "75%     3620.000000      0.719512      1.282000      0.000000      0.000000   \n",
       "max     3900.000000     18.015050     57.371600     91.672200    407.748600   \n",
       "\n",
       "        form_field6   form_field7   form_field8   form_field9  form_field10  \\\n",
       "count  4.264000e+04  5.083700e+04  4.264000e+04  4.799200e+04  5.564500e+04   \n",
       "mean   6.244479e+05  6.865210e+06  2.626690e+06  1.316002e+07  1.185585e+07   \n",
       "std    1.433422e+06  1.912729e+07  3.927355e+06  1.977963e+07  2.669459e+07   \n",
       "min    0.000000e+00  0.000000e+00  0.000000e+00  0.000000e+00  0.000000e+00   \n",
       "25%    1.400400e+04  6.869740e+05  1.929440e+05  1.368502e+06  4.500730e+05   \n",
       "50%    1.155330e+05  2.704328e+06  9.639420e+05  5.506295e+06  3.707559e+06   \n",
       "75%    5.259280e+05  6.993831e+06  3.751516e+06  1.694552e+07  1.326101e+07   \n",
       "max    5.313546e+07  2.158794e+09  1.037397e+08  3.200533e+08  2.191361e+09   \n",
       "\n",
       "       ...  form_field40  form_field41  form_field42  form_field43  \\\n",
       "count  ...  12271.000000  17771.000000  54677.000000  55432.000000   \n",
       "mean   ...    147.797977    108.117363      0.368215      6.634511   \n",
       "std    ...     45.085889     36.765769      0.412858      6.378946   \n",
       "min    ...      0.021000      0.000000      0.000000      0.000000   \n",
       "25%    ...    136.191750     87.055500      0.000000      2.020000   \n",
       "50%    ...    150.000000    118.441500      0.220000      5.050000   \n",
       "75%    ...    167.754000    137.496750      0.628573     10.100000   \n",
       "max    ...    645.450000    255.000000      2.200000     91.910000   \n",
       "\n",
       "       form_field44  form_field45  form_field46  form_field48  form_field49  \\\n",
       "count  50617.000000  24683.000000  40096.000000  3.511100e+04  55645.000000   \n",
       "mean       0.563377      0.072520      0.095371  3.052449e+05      1.049061   \n",
       "std        0.196973      0.291146      0.335210  1.647757e+06      1.806160   \n",
       "min        0.048528      0.000000      0.000000  0.000000e+00      0.000000   \n",
       "25%        0.411672      0.000000      0.000000  7.710079e+01      0.000000   \n",
       "50%        0.588648      0.000000      0.000000  3.181243e+02      0.000000   \n",
       "75%        0.753840      0.000000      0.000000  1.153022e+03      1.181754   \n",
       "max        0.800000      5.000000      5.000000  5.321014e+07     28.000000   \n",
       "\n",
       "       form_field50  \n",
       "count  4.494400e+04  \n",
       "mean   6.005862e+05  \n",
       "std    5.842405e+06  \n",
       "min    0.000000e+00  \n",
       "25%    4.560141e-02  \n",
       "50%    1.703996e-01  \n",
       "75%    4.993370e-01  \n",
       "max    2.307571e+08  \n",
       "\n",
       "[8 rows x 49 columns]"
      ]
     },
     "execution_count": 173,
     "metadata": {},
     "output_type": "execute_result"
    }
   ],
   "source": [
    "train.describe()"
   ]
  },
  {
   "cell_type": "code",
   "execution_count": 174,
   "metadata": {},
   "outputs": [
    {
     "data": {
      "text/plain": [
       "Applicant_ID          0\n",
       "form_field1        2529\n",
       "form_field2        3844\n",
       "form_field3         355\n",
       "form_field4         355\n",
       "form_field5         355\n",
       "form_field6       13360\n",
       "form_field7        5163\n",
       "form_field8       13360\n",
       "form_field9        8008\n",
       "form_field10        355\n",
       "form_field11      31421\n",
       "form_field12       9895\n",
       "form_field13       5889\n",
       "form_field14          0\n",
       "form_field15      22475\n",
       "form_field16      13036\n",
       "form_field17      11151\n",
       "form_field18      10402\n",
       "form_field19          4\n",
       "form_field20        355\n",
       "form_field21      15854\n",
       "form_field22      20400\n",
       "form_field23      28123\n",
       "form_field24      13297\n",
       "form_field25       5450\n",
       "form_field26       7438\n",
       "form_field27       9299\n",
       "form_field28        355\n",
       "form_field29        355\n",
       "form_field30      25509\n",
       "form_field31      39408\n",
       "form_field32       5450\n",
       "form_field33       1256\n",
       "form_field34        355\n",
       "form_field35      23148\n",
       "form_field36       1995\n",
       "form_field37       5450\n",
       "form_field38        355\n",
       "form_field39       4211\n",
       "form_field40      43729\n",
       "form_field41      38229\n",
       "form_field42       1323\n",
       "form_field43        568\n",
       "form_field44       5383\n",
       "form_field45      31317\n",
       "form_field46      15904\n",
       "form_field47          0\n",
       "form_field48      20889\n",
       "form_field49        355\n",
       "form_field50      11056\n",
       "default_status        0\n",
       "dtype: int64"
      ]
     },
     "execution_count": 174,
     "metadata": {},
     "output_type": "execute_result"
    }
   ],
   "source": [
    "train.isna().sum()"
   ]
  },
  {
   "cell_type": "code",
   "execution_count": 175,
   "metadata": {},
   "outputs": [
    {
     "data": {
      "text/plain": [
       "Applicant_ID        0\n",
       "form_field1      1110\n",
       "form_field2      1709\n",
       "form_field3       146\n",
       "form_field4       146\n",
       "form_field5       146\n",
       "form_field6      5604\n",
       "form_field7      2231\n",
       "form_field8      5604\n",
       "form_field9      3400\n",
       "form_field10      147\n",
       "form_field11    13398\n",
       "form_field12     4183\n",
       "form_field13     2463\n",
       "form_field14        0\n",
       "form_field15     9592\n",
       "form_field16     5474\n",
       "form_field17     4695\n",
       "form_field18     4369\n",
       "form_field19        0\n",
       "form_field20      147\n",
       "form_field21     6707\n",
       "form_field22     8724\n",
       "form_field23    12125\n",
       "form_field24     5605\n",
       "form_field25     2256\n",
       "form_field26     3172\n",
       "form_field27     3910\n",
       "form_field28      147\n",
       "form_field29      147\n",
       "form_field30    10908\n",
       "form_field31    16810\n",
       "form_field32     2256\n",
       "form_field33      495\n",
       "form_field34      147\n",
       "form_field35     9866\n",
       "form_field36      903\n",
       "form_field37     2256\n",
       "form_field38      147\n",
       "form_field39     1829\n",
       "form_field40    18828\n",
       "form_field41    16349\n",
       "form_field42      578\n",
       "form_field43      250\n",
       "form_field44     2362\n",
       "form_field45    13538\n",
       "form_field46     6885\n",
       "form_field47        0\n",
       "form_field48     8922\n",
       "form_field49      146\n",
       "form_field50     4797\n",
       "dtype: int64"
      ]
     },
     "execution_count": 175,
     "metadata": {},
     "output_type": "execute_result"
    }
   ],
   "source": [
    "test_given.isna().sum()"
   ]
  },
  {
   "cell_type": "code",
   "execution_count": 227,
   "metadata": {},
   "outputs": [
    {
     "data": {
      "text/html": [
       "<div>\n",
       "<style scoped>\n",
       "    .dataframe tbody tr th:only-of-type {\n",
       "        vertical-align: middle;\n",
       "    }\n",
       "\n",
       "    .dataframe tbody tr th {\n",
       "        vertical-align: top;\n",
       "    }\n",
       "\n",
       "    .dataframe thead th {\n",
       "        text-align: right;\n",
       "    }\n",
       "</style>\n",
       "<table border=\"1\" class=\"dataframe\">\n",
       "  <thead>\n",
       "    <tr style=\"text-align: right;\">\n",
       "      <th></th>\n",
       "      <th>form_field1</th>\n",
       "      <th>form_field2</th>\n",
       "      <th>form_field3</th>\n",
       "      <th>form_field4</th>\n",
       "      <th>form_field5</th>\n",
       "      <th>form_field6</th>\n",
       "      <th>form_field7</th>\n",
       "      <th>form_field8</th>\n",
       "      <th>form_field9</th>\n",
       "      <th>form_field10</th>\n",
       "      <th>...</th>\n",
       "      <th>form_field40</th>\n",
       "      <th>form_field41</th>\n",
       "      <th>form_field42</th>\n",
       "      <th>form_field43</th>\n",
       "      <th>form_field44</th>\n",
       "      <th>form_field45</th>\n",
       "      <th>form_field46</th>\n",
       "      <th>form_field48</th>\n",
       "      <th>form_field49</th>\n",
       "      <th>form_field50</th>\n",
       "    </tr>\n",
       "  </thead>\n",
       "  <tbody>\n",
       "    <tr>\n",
       "      <th>form_field1</th>\n",
       "      <td>1.000000</td>\n",
       "      <td>-0.263382</td>\n",
       "      <td>-0.501989</td>\n",
       "      <td>-0.276037</td>\n",
       "      <td>-0.238508</td>\n",
       "      <td>0.413203</td>\n",
       "      <td>0.259690</td>\n",
       "      <td>0.590875</td>\n",
       "      <td>0.525935</td>\n",
       "      <td>0.407465</td>\n",
       "      <td>...</td>\n",
       "      <td>-0.353256</td>\n",
       "      <td>-0.204252</td>\n",
       "      <td>-0.769666</td>\n",
       "      <td>0.436825</td>\n",
       "      <td>0.020987</td>\n",
       "      <td>-0.308952</td>\n",
       "      <td>-0.332168</td>\n",
       "      <td>0.132836</td>\n",
       "      <td>-0.238500</td>\n",
       "      <td>0.119797</td>\n",
       "    </tr>\n",
       "    <tr>\n",
       "      <th>form_field2</th>\n",
       "      <td>-0.263382</td>\n",
       "      <td>1.000000</td>\n",
       "      <td>0.120889</td>\n",
       "      <td>0.089388</td>\n",
       "      <td>0.039718</td>\n",
       "      <td>-0.170318</td>\n",
       "      <td>-0.093021</td>\n",
       "      <td>-0.201365</td>\n",
       "      <td>-0.162909</td>\n",
       "      <td>-0.119794</td>\n",
       "      <td>...</td>\n",
       "      <td>0.091068</td>\n",
       "      <td>0.152294</td>\n",
       "      <td>0.133388</td>\n",
       "      <td>0.017639</td>\n",
       "      <td>-0.097404</td>\n",
       "      <td>0.059398</td>\n",
       "      <td>0.103379</td>\n",
       "      <td>-0.062440</td>\n",
       "      <td>0.145432</td>\n",
       "      <td>-0.045105</td>\n",
       "    </tr>\n",
       "    <tr>\n",
       "      <th>form_field3</th>\n",
       "      <td>-0.501989</td>\n",
       "      <td>0.120889</td>\n",
       "      <td>1.000000</td>\n",
       "      <td>0.376795</td>\n",
       "      <td>0.649863</td>\n",
       "      <td>-0.122285</td>\n",
       "      <td>-0.082032</td>\n",
       "      <td>-0.204138</td>\n",
       "      <td>-0.208045</td>\n",
       "      <td>-0.142977</td>\n",
       "      <td>...</td>\n",
       "      <td>0.206044</td>\n",
       "      <td>0.026840</td>\n",
       "      <td>0.431644</td>\n",
       "      <td>-0.242528</td>\n",
       "      <td>-0.019430</td>\n",
       "      <td>0.268679</td>\n",
       "      <td>0.403775</td>\n",
       "      <td>-0.057103</td>\n",
       "      <td>0.195454</td>\n",
       "      <td>-0.041295</td>\n",
       "    </tr>\n",
       "    <tr>\n",
       "      <th>form_field4</th>\n",
       "      <td>-0.276037</td>\n",
       "      <td>0.089388</td>\n",
       "      <td>0.376795</td>\n",
       "      <td>1.000000</td>\n",
       "      <td>0.099439</td>\n",
       "      <td>-0.068868</td>\n",
       "      <td>-0.044020</td>\n",
       "      <td>-0.113001</td>\n",
       "      <td>-0.122086</td>\n",
       "      <td>-0.072819</td>\n",
       "      <td>...</td>\n",
       "      <td>0.108336</td>\n",
       "      <td>0.000609</td>\n",
       "      <td>0.217256</td>\n",
       "      <td>-0.133150</td>\n",
       "      <td>0.002108</td>\n",
       "      <td>0.134662</td>\n",
       "      <td>0.885903</td>\n",
       "      <td>-0.030856</td>\n",
       "      <td>-0.021376</td>\n",
       "      <td>-0.023217</td>\n",
       "    </tr>\n",
       "    <tr>\n",
       "      <th>form_field5</th>\n",
       "      <td>-0.238508</td>\n",
       "      <td>0.039718</td>\n",
       "      <td>0.649863</td>\n",
       "      <td>0.099439</td>\n",
       "      <td>1.000000</td>\n",
       "      <td>-0.044174</td>\n",
       "      <td>-0.047210</td>\n",
       "      <td>-0.072429</td>\n",
       "      <td>-0.089868</td>\n",
       "      <td>-0.070542</td>\n",
       "      <td>...</td>\n",
       "      <td>0.154767</td>\n",
       "      <td>0.033270</td>\n",
       "      <td>0.232948</td>\n",
       "      <td>-0.130958</td>\n",
       "      <td>-0.069985</td>\n",
       "      <td>0.041071</td>\n",
       "      <td>0.125941</td>\n",
       "      <td>-0.022956</td>\n",
       "      <td>0.470998</td>\n",
       "      <td>-0.016133</td>\n",
       "    </tr>\n",
       "    <tr>\n",
       "      <th>form_field6</th>\n",
       "      <td>0.413203</td>\n",
       "      <td>-0.170318</td>\n",
       "      <td>-0.122285</td>\n",
       "      <td>-0.068868</td>\n",
       "      <td>-0.044174</td>\n",
       "      <td>1.000000</td>\n",
       "      <td>0.188560</td>\n",
       "      <td>0.491946</td>\n",
       "      <td>0.256348</td>\n",
       "      <td>0.230088</td>\n",
       "      <td>...</td>\n",
       "      <td>-0.154338</td>\n",
       "      <td>-0.110028</td>\n",
       "      <td>-0.202840</td>\n",
       "      <td>-0.055535</td>\n",
       "      <td>0.154622</td>\n",
       "      <td>-0.076431</td>\n",
       "      <td>-0.065658</td>\n",
       "      <td>0.051453</td>\n",
       "      <td>-0.235662</td>\n",
       "      <td>0.075432</td>\n",
       "    </tr>\n",
       "    <tr>\n",
       "      <th>form_field7</th>\n",
       "      <td>0.259690</td>\n",
       "      <td>-0.093021</td>\n",
       "      <td>-0.082032</td>\n",
       "      <td>-0.044020</td>\n",
       "      <td>-0.047210</td>\n",
       "      <td>0.188560</td>\n",
       "      <td>1.000000</td>\n",
       "      <td>0.340538</td>\n",
       "      <td>0.271203</td>\n",
       "      <td>0.899833</td>\n",
       "      <td>...</td>\n",
       "      <td>-0.153438</td>\n",
       "      <td>-0.191399</td>\n",
       "      <td>-0.175587</td>\n",
       "      <td>0.108372</td>\n",
       "      <td>0.035129</td>\n",
       "      <td>-0.028506</td>\n",
       "      <td>-0.063864</td>\n",
       "      <td>0.082574</td>\n",
       "      <td>-0.081224</td>\n",
       "      <td>0.063129</td>\n",
       "    </tr>\n",
       "    <tr>\n",
       "      <th>form_field8</th>\n",
       "      <td>0.590875</td>\n",
       "      <td>-0.201365</td>\n",
       "      <td>-0.204138</td>\n",
       "      <td>-0.113001</td>\n",
       "      <td>-0.072429</td>\n",
       "      <td>0.491946</td>\n",
       "      <td>0.340538</td>\n",
       "      <td>1.000000</td>\n",
       "      <td>0.583663</td>\n",
       "      <td>0.448022</td>\n",
       "      <td>...</td>\n",
       "      <td>-0.225019</td>\n",
       "      <td>-0.158906</td>\n",
       "      <td>-0.357423</td>\n",
       "      <td>0.180179</td>\n",
       "      <td>0.091302</td>\n",
       "      <td>-0.123355</td>\n",
       "      <td>-0.112679</td>\n",
       "      <td>0.138933</td>\n",
       "      <td>-0.238004</td>\n",
       "      <td>0.139536</td>\n",
       "    </tr>\n",
       "    <tr>\n",
       "      <th>form_field9</th>\n",
       "      <td>0.525935</td>\n",
       "      <td>-0.162909</td>\n",
       "      <td>-0.208045</td>\n",
       "      <td>-0.122086</td>\n",
       "      <td>-0.089868</td>\n",
       "      <td>0.256348</td>\n",
       "      <td>0.271203</td>\n",
       "      <td>0.583663</td>\n",
       "      <td>1.000000</td>\n",
       "      <td>0.478816</td>\n",
       "      <td>...</td>\n",
       "      <td>-0.278875</td>\n",
       "      <td>-0.187234</td>\n",
       "      <td>-0.416071</td>\n",
       "      <td>0.461979</td>\n",
       "      <td>-0.000396</td>\n",
       "      <td>-0.120909</td>\n",
       "      <td>-0.134048</td>\n",
       "      <td>0.149994</td>\n",
       "      <td>-0.079773</td>\n",
       "      <td>0.229768</td>\n",
       "    </tr>\n",
       "    <tr>\n",
       "      <th>form_field10</th>\n",
       "      <td>0.407465</td>\n",
       "      <td>-0.119794</td>\n",
       "      <td>-0.142977</td>\n",
       "      <td>-0.072819</td>\n",
       "      <td>-0.070542</td>\n",
       "      <td>0.230088</td>\n",
       "      <td>0.899833</td>\n",
       "      <td>0.448022</td>\n",
       "      <td>0.478816</td>\n",
       "      <td>1.000000</td>\n",
       "      <td>...</td>\n",
       "      <td>-0.251934</td>\n",
       "      <td>-0.234042</td>\n",
       "      <td>-0.293796</td>\n",
       "      <td>0.298123</td>\n",
       "      <td>-0.009070</td>\n",
       "      <td>-0.069350</td>\n",
       "      <td>-0.103857</td>\n",
       "      <td>0.120024</td>\n",
       "      <td>-0.091290</td>\n",
       "      <td>0.102032</td>\n",
       "    </tr>\n",
       "    <tr>\n",
       "      <th>form_field11</th>\n",
       "      <td>-0.153583</td>\n",
       "      <td>0.032744</td>\n",
       "      <td>0.274955</td>\n",
       "      <td>0.054434</td>\n",
       "      <td>0.208195</td>\n",
       "      <td>0.014199</td>\n",
       "      <td>-0.003793</td>\n",
       "      <td>-0.011155</td>\n",
       "      <td>-0.023077</td>\n",
       "      <td>-0.033408</td>\n",
       "      <td>...</td>\n",
       "      <td>0.065722</td>\n",
       "      <td>0.008401</td>\n",
       "      <td>0.125115</td>\n",
       "      <td>-0.093746</td>\n",
       "      <td>0.017752</td>\n",
       "      <td>0.059445</td>\n",
       "      <td>0.070037</td>\n",
       "      <td>-0.007739</td>\n",
       "      <td>0.079152</td>\n",
       "      <td>-0.002345</td>\n",
       "    </tr>\n",
       "    <tr>\n",
       "      <th>form_field12</th>\n",
       "      <td>0.114070</td>\n",
       "      <td>-0.020191</td>\n",
       "      <td>-0.146730</td>\n",
       "      <td>-0.077544</td>\n",
       "      <td>-0.062838</td>\n",
       "      <td>-0.060717</td>\n",
       "      <td>0.117215</td>\n",
       "      <td>0.171477</td>\n",
       "      <td>0.323888</td>\n",
       "      <td>0.182841</td>\n",
       "      <td>...</td>\n",
       "      <td>-0.163360</td>\n",
       "      <td>-0.097632</td>\n",
       "      <td>-0.270382</td>\n",
       "      <td>0.345490</td>\n",
       "      <td>-0.225935</td>\n",
       "      <td>-0.067205</td>\n",
       "      <td>-0.090357</td>\n",
       "      <td>0.258211</td>\n",
       "      <td>0.327710</td>\n",
       "      <td>0.038248</td>\n",
       "    </tr>\n",
       "    <tr>\n",
       "      <th>form_field13</th>\n",
       "      <td>0.215294</td>\n",
       "      <td>-0.061673</td>\n",
       "      <td>-0.096685</td>\n",
       "      <td>-0.058123</td>\n",
       "      <td>-0.040539</td>\n",
       "      <td>0.166417</td>\n",
       "      <td>0.291038</td>\n",
       "      <td>0.309817</td>\n",
       "      <td>0.242528</td>\n",
       "      <td>0.413713</td>\n",
       "      <td>...</td>\n",
       "      <td>-0.180592</td>\n",
       "      <td>-0.076852</td>\n",
       "      <td>-0.168121</td>\n",
       "      <td>0.134388</td>\n",
       "      <td>-0.030517</td>\n",
       "      <td>-0.050632</td>\n",
       "      <td>-0.059227</td>\n",
       "      <td>0.080897</td>\n",
       "      <td>-0.035176</td>\n",
       "      <td>0.056205</td>\n",
       "    </tr>\n",
       "    <tr>\n",
       "      <th>form_field14</th>\n",
       "      <td>-0.000388</td>\n",
       "      <td>-0.002626</td>\n",
       "      <td>0.002931</td>\n",
       "      <td>0.001613</td>\n",
       "      <td>-0.002897</td>\n",
       "      <td>0.007264</td>\n",
       "      <td>0.007267</td>\n",
       "      <td>0.015062</td>\n",
       "      <td>0.002261</td>\n",
       "      <td>0.002539</td>\n",
       "      <td>...</td>\n",
       "      <td>0.000861</td>\n",
       "      <td>-0.021774</td>\n",
       "      <td>0.005235</td>\n",
       "      <td>-0.004651</td>\n",
       "      <td>0.003908</td>\n",
       "      <td>-0.008100</td>\n",
       "      <td>0.001404</td>\n",
       "      <td>0.002900</td>\n",
       "      <td>-0.005601</td>\n",
       "      <td>-0.002958</td>\n",
       "    </tr>\n",
       "    <tr>\n",
       "      <th>form_field15</th>\n",
       "      <td>0.221777</td>\n",
       "      <td>-0.083385</td>\n",
       "      <td>-0.109164</td>\n",
       "      <td>-0.066745</td>\n",
       "      <td>-0.060073</td>\n",
       "      <td>0.163450</td>\n",
       "      <td>0.252285</td>\n",
       "      <td>0.269589</td>\n",
       "      <td>0.181270</td>\n",
       "      <td>0.254315</td>\n",
       "      <td>...</td>\n",
       "      <td>-0.102188</td>\n",
       "      <td>-0.118326</td>\n",
       "      <td>-0.180572</td>\n",
       "      <td>0.044120</td>\n",
       "      <td>0.059254</td>\n",
       "      <td>-0.022655</td>\n",
       "      <td>-0.081452</td>\n",
       "      <td>0.074185</td>\n",
       "      <td>-0.081604</td>\n",
       "      <td>0.033374</td>\n",
       "    </tr>\n",
       "    <tr>\n",
       "      <th>form_field16</th>\n",
       "      <td>-0.358931</td>\n",
       "      <td>0.149014</td>\n",
       "      <td>0.112651</td>\n",
       "      <td>0.067484</td>\n",
       "      <td>0.040042</td>\n",
       "      <td>-0.162042</td>\n",
       "      <td>-0.061424</td>\n",
       "      <td>-0.179594</td>\n",
       "      <td>-0.116697</td>\n",
       "      <td>-0.095177</td>\n",
       "      <td>...</td>\n",
       "      <td>0.073742</td>\n",
       "      <td>0.042473</td>\n",
       "      <td>0.112591</td>\n",
       "      <td>0.021344</td>\n",
       "      <td>-0.161217</td>\n",
       "      <td>0.075154</td>\n",
       "      <td>0.076762</td>\n",
       "      <td>-0.029039</td>\n",
       "      <td>0.384264</td>\n",
       "      <td>-0.030169</td>\n",
       "    </tr>\n",
       "    <tr>\n",
       "      <th>form_field17</th>\n",
       "      <td>-0.337144</td>\n",
       "      <td>0.156135</td>\n",
       "      <td>0.099204</td>\n",
       "      <td>0.055088</td>\n",
       "      <td>0.031849</td>\n",
       "      <td>-0.160101</td>\n",
       "      <td>-0.059498</td>\n",
       "      <td>-0.179289</td>\n",
       "      <td>-0.108410</td>\n",
       "      <td>-0.090272</td>\n",
       "      <td>...</td>\n",
       "      <td>0.070675</td>\n",
       "      <td>0.040688</td>\n",
       "      <td>0.085620</td>\n",
       "      <td>0.059010</td>\n",
       "      <td>-0.172914</td>\n",
       "      <td>0.064834</td>\n",
       "      <td>0.062306</td>\n",
       "      <td>-0.030271</td>\n",
       "      <td>0.418276</td>\n",
       "      <td>-0.029817</td>\n",
       "    </tr>\n",
       "    <tr>\n",
       "      <th>form_field18</th>\n",
       "      <td>-0.328799</td>\n",
       "      <td>0.155464</td>\n",
       "      <td>0.093814</td>\n",
       "      <td>0.053039</td>\n",
       "      <td>0.028336</td>\n",
       "      <td>-0.159048</td>\n",
       "      <td>-0.056095</td>\n",
       "      <td>-0.176620</td>\n",
       "      <td>-0.103187</td>\n",
       "      <td>-0.084783</td>\n",
       "      <td>...</td>\n",
       "      <td>0.068789</td>\n",
       "      <td>0.039088</td>\n",
       "      <td>0.075673</td>\n",
       "      <td>0.064291</td>\n",
       "      <td>-0.175809</td>\n",
       "      <td>0.062677</td>\n",
       "      <td>0.059779</td>\n",
       "      <td>-0.028686</td>\n",
       "      <td>0.413885</td>\n",
       "      <td>-0.028088</td>\n",
       "    </tr>\n",
       "    <tr>\n",
       "      <th>form_field19</th>\n",
       "      <td>-0.132694</td>\n",
       "      <td>0.173725</td>\n",
       "      <td>-0.059005</td>\n",
       "      <td>-0.032456</td>\n",
       "      <td>-0.049761</td>\n",
       "      <td>-0.256100</td>\n",
       "      <td>-0.060212</td>\n",
       "      <td>-0.255678</td>\n",
       "      <td>-0.054786</td>\n",
       "      <td>-0.052851</td>\n",
       "      <td>...</td>\n",
       "      <td>-0.005194</td>\n",
       "      <td>0.018208</td>\n",
       "      <td>-0.184238</td>\n",
       "      <td>0.373048</td>\n",
       "      <td>-0.305469</td>\n",
       "      <td>-0.007496</td>\n",
       "      <td>-0.056943</td>\n",
       "      <td>-0.017149</td>\n",
       "      <td>0.715119</td>\n",
       "      <td>-0.035727</td>\n",
       "    </tr>\n",
       "    <tr>\n",
       "      <th>form_field20</th>\n",
       "      <td>-0.120122</td>\n",
       "      <td>0.169172</td>\n",
       "      <td>-0.064309</td>\n",
       "      <td>-0.036008</td>\n",
       "      <td>-0.053361</td>\n",
       "      <td>-0.252150</td>\n",
       "      <td>-0.048688</td>\n",
       "      <td>-0.245191</td>\n",
       "      <td>-0.039365</td>\n",
       "      <td>-0.033985</td>\n",
       "      <td>...</td>\n",
       "      <td>-0.010404</td>\n",
       "      <td>0.011695</td>\n",
       "      <td>-0.197073</td>\n",
       "      <td>0.383648</td>\n",
       "      <td>-0.310929</td>\n",
       "      <td>-0.009705</td>\n",
       "      <td>-0.062382</td>\n",
       "      <td>-0.009787</td>\n",
       "      <td>0.702845</td>\n",
       "      <td>-0.033887</td>\n",
       "    </tr>\n",
       "    <tr>\n",
       "      <th>form_field21</th>\n",
       "      <td>-0.660555</td>\n",
       "      <td>0.230240</td>\n",
       "      <td>0.227824</td>\n",
       "      <td>0.141518</td>\n",
       "      <td>0.097076</td>\n",
       "      <td>-0.413309</td>\n",
       "      <td>-0.173720</td>\n",
       "      <td>-0.525767</td>\n",
       "      <td>-0.350495</td>\n",
       "      <td>-0.263771</td>\n",
       "      <td>...</td>\n",
       "      <td>0.160926</td>\n",
       "      <td>0.104338</td>\n",
       "      <td>0.338481</td>\n",
       "      <td>-0.115206</td>\n",
       "      <td>-0.178435</td>\n",
       "      <td>0.135973</td>\n",
       "      <td>0.151223</td>\n",
       "      <td>-0.004357</td>\n",
       "      <td>0.423848</td>\n",
       "      <td>-0.087957</td>\n",
       "    </tr>\n",
       "    <tr>\n",
       "      <th>form_field22</th>\n",
       "      <td>-0.571553</td>\n",
       "      <td>0.196388</td>\n",
       "      <td>0.204264</td>\n",
       "      <td>0.115507</td>\n",
       "      <td>0.096654</td>\n",
       "      <td>-0.319040</td>\n",
       "      <td>-0.132694</td>\n",
       "      <td>-0.379563</td>\n",
       "      <td>-0.295012</td>\n",
       "      <td>-0.210854</td>\n",
       "      <td>...</td>\n",
       "      <td>0.142339</td>\n",
       "      <td>0.107000</td>\n",
       "      <td>0.314328</td>\n",
       "      <td>-0.136611</td>\n",
       "      <td>-0.170267</td>\n",
       "      <td>0.094712</td>\n",
       "      <td>0.129307</td>\n",
       "      <td>-0.215920</td>\n",
       "      <td>0.382571</td>\n",
       "      <td>-0.077392</td>\n",
       "    </tr>\n",
       "    <tr>\n",
       "      <th>form_field23</th>\n",
       "      <td>-0.563135</td>\n",
       "      <td>0.194322</td>\n",
       "      <td>0.200595</td>\n",
       "      <td>0.108360</td>\n",
       "      <td>0.098971</td>\n",
       "      <td>-0.316810</td>\n",
       "      <td>-0.124450</td>\n",
       "      <td>-0.364346</td>\n",
       "      <td>-0.287201</td>\n",
       "      <td>-0.223700</td>\n",
       "      <td>...</td>\n",
       "      <td>0.123102</td>\n",
       "      <td>0.117002</td>\n",
       "      <td>0.309245</td>\n",
       "      <td>-0.152310</td>\n",
       "      <td>-0.155525</td>\n",
       "      <td>0.085135</td>\n",
       "      <td>0.120953</td>\n",
       "      <td>-0.178831</td>\n",
       "      <td>0.365287</td>\n",
       "      <td>-0.072758</td>\n",
       "    </tr>\n",
       "    <tr>\n",
       "      <th>form_field24</th>\n",
       "      <td>-0.196751</td>\n",
       "      <td>0.042393</td>\n",
       "      <td>0.260630</td>\n",
       "      <td>0.061925</td>\n",
       "      <td>0.038798</td>\n",
       "      <td>-0.067937</td>\n",
       "      <td>-0.029375</td>\n",
       "      <td>-0.101772</td>\n",
       "      <td>-0.072711</td>\n",
       "      <td>-0.053038</td>\n",
       "      <td>...</td>\n",
       "      <td>0.069394</td>\n",
       "      <td>0.002679</td>\n",
       "      <td>0.152300</td>\n",
       "      <td>-0.076732</td>\n",
       "      <td>0.004637</td>\n",
       "      <td>0.096116</td>\n",
       "      <td>0.077418</td>\n",
       "      <td>-0.016360</td>\n",
       "      <td>0.024706</td>\n",
       "      <td>-0.018227</td>\n",
       "    </tr>\n",
       "    <tr>\n",
       "      <th>form_field25</th>\n",
       "      <td>0.363689</td>\n",
       "      <td>-0.227523</td>\n",
       "      <td>-0.084565</td>\n",
       "      <td>-0.073411</td>\n",
       "      <td>-0.058490</td>\n",
       "      <td>0.319588</td>\n",
       "      <td>0.223234</td>\n",
       "      <td>0.379838</td>\n",
       "      <td>0.295131</td>\n",
       "      <td>0.281024</td>\n",
       "      <td>...</td>\n",
       "      <td>-0.166146</td>\n",
       "      <td>-0.212777</td>\n",
       "      <td>-0.240251</td>\n",
       "      <td>0.053338</td>\n",
       "      <td>0.083172</td>\n",
       "      <td>-0.007185</td>\n",
       "      <td>-0.100258</td>\n",
       "      <td>0.204388</td>\n",
       "      <td>-0.129771</td>\n",
       "      <td>0.057227</td>\n",
       "    </tr>\n",
       "    <tr>\n",
       "      <th>form_field26</th>\n",
       "      <td>0.413191</td>\n",
       "      <td>-0.195153</td>\n",
       "      <td>-0.083395</td>\n",
       "      <td>-0.081038</td>\n",
       "      <td>-0.069961</td>\n",
       "      <td>0.240703</td>\n",
       "      <td>0.232219</td>\n",
       "      <td>0.394885</td>\n",
       "      <td>0.499269</td>\n",
       "      <td>0.351926</td>\n",
       "      <td>...</td>\n",
       "      <td>-0.190459</td>\n",
       "      <td>-0.207234</td>\n",
       "      <td>-0.322817</td>\n",
       "      <td>0.266046</td>\n",
       "      <td>0.024939</td>\n",
       "      <td>-0.031374</td>\n",
       "      <td>-0.105548</td>\n",
       "      <td>0.170627</td>\n",
       "      <td>-0.079765</td>\n",
       "      <td>0.103944</td>\n",
       "    </tr>\n",
       "    <tr>\n",
       "      <th>form_field27</th>\n",
       "      <td>0.412663</td>\n",
       "      <td>-0.201512</td>\n",
       "      <td>-0.082616</td>\n",
       "      <td>-0.081060</td>\n",
       "      <td>-0.067958</td>\n",
       "      <td>0.255656</td>\n",
       "      <td>0.233136</td>\n",
       "      <td>0.416757</td>\n",
       "      <td>0.501187</td>\n",
       "      <td>0.356840</td>\n",
       "      <td>...</td>\n",
       "      <td>-0.195243</td>\n",
       "      <td>-0.217150</td>\n",
       "      <td>-0.315783</td>\n",
       "      <td>0.243416</td>\n",
       "      <td>0.034701</td>\n",
       "      <td>-0.033219</td>\n",
       "      <td>-0.103917</td>\n",
       "      <td>0.178330</td>\n",
       "      <td>-0.089780</td>\n",
       "      <td>0.110279</td>\n",
       "    </tr>\n",
       "    <tr>\n",
       "      <th>form_field28</th>\n",
       "      <td>0.672904</td>\n",
       "      <td>-0.152192</td>\n",
       "      <td>-0.313532</td>\n",
       "      <td>-0.172557</td>\n",
       "      <td>-0.119099</td>\n",
       "      <td>0.297190</td>\n",
       "      <td>0.134676</td>\n",
       "      <td>0.391247</td>\n",
       "      <td>0.343150</td>\n",
       "      <td>0.231919</td>\n",
       "      <td>...</td>\n",
       "      <td>-0.224582</td>\n",
       "      <td>-0.083286</td>\n",
       "      <td>-0.474937</td>\n",
       "      <td>0.208499</td>\n",
       "      <td>0.048321</td>\n",
       "      <td>-0.178323</td>\n",
       "      <td>-0.171876</td>\n",
       "      <td>0.083913</td>\n",
       "      <td>-0.116247</td>\n",
       "      <td>0.084353</td>\n",
       "    </tr>\n",
       "    <tr>\n",
       "      <th>form_field29</th>\n",
       "      <td>0.382165</td>\n",
       "      <td>-0.150598</td>\n",
       "      <td>-0.068792</td>\n",
       "      <td>-0.058339</td>\n",
       "      <td>-0.051931</td>\n",
       "      <td>0.218260</td>\n",
       "      <td>0.224416</td>\n",
       "      <td>0.355232</td>\n",
       "      <td>0.426697</td>\n",
       "      <td>0.316751</td>\n",
       "      <td>...</td>\n",
       "      <td>-0.069100</td>\n",
       "      <td>-0.169349</td>\n",
       "      <td>-0.322760</td>\n",
       "      <td>0.234775</td>\n",
       "      <td>0.019253</td>\n",
       "      <td>-0.037443</td>\n",
       "      <td>-0.112128</td>\n",
       "      <td>0.141224</td>\n",
       "      <td>-0.052425</td>\n",
       "      <td>0.097583</td>\n",
       "    </tr>\n",
       "    <tr>\n",
       "      <th>form_field30</th>\n",
       "      <td>0.133906</td>\n",
       "      <td>-0.111648</td>\n",
       "      <td>-0.000498</td>\n",
       "      <td>-0.028399</td>\n",
       "      <td>-0.026266</td>\n",
       "      <td>0.079006</td>\n",
       "      <td>0.124168</td>\n",
       "      <td>0.111110</td>\n",
       "      <td>0.168947</td>\n",
       "      <td>0.148784</td>\n",
       "      <td>...</td>\n",
       "      <td>-0.039174</td>\n",
       "      <td>-0.200459</td>\n",
       "      <td>-0.103186</td>\n",
       "      <td>0.042325</td>\n",
       "      <td>0.027370</td>\n",
       "      <td>0.034529</td>\n",
       "      <td>-0.047027</td>\n",
       "      <td>0.066550</td>\n",
       "      <td>-0.042415</td>\n",
       "      <td>0.026506</td>\n",
       "    </tr>\n",
       "    <tr>\n",
       "      <th>form_field31</th>\n",
       "      <td>0.161541</td>\n",
       "      <td>-0.047096</td>\n",
       "      <td>-0.011322</td>\n",
       "      <td>-0.006445</td>\n",
       "      <td>0.006949</td>\n",
       "      <td>0.085487</td>\n",
       "      <td>0.124560</td>\n",
       "      <td>0.112653</td>\n",
       "      <td>0.136794</td>\n",
       "      <td>0.150598</td>\n",
       "      <td>...</td>\n",
       "      <td>0.023306</td>\n",
       "      <td>-0.046281</td>\n",
       "      <td>-0.136697</td>\n",
       "      <td>0.058341</td>\n",
       "      <td>0.108374</td>\n",
       "      <td>0.015701</td>\n",
       "      <td>-0.048976</td>\n",
       "      <td>0.042191</td>\n",
       "      <td>0.002631</td>\n",
       "      <td>0.022736</td>\n",
       "    </tr>\n",
       "    <tr>\n",
       "      <th>form_field32</th>\n",
       "      <td>0.434963</td>\n",
       "      <td>-0.159920</td>\n",
       "      <td>-0.110955</td>\n",
       "      <td>-0.106202</td>\n",
       "      <td>-0.089523</td>\n",
       "      <td>0.132497</td>\n",
       "      <td>0.238958</td>\n",
       "      <td>0.440625</td>\n",
       "      <td>0.713421</td>\n",
       "      <td>0.394093</td>\n",
       "      <td>...</td>\n",
       "      <td>-0.216527</td>\n",
       "      <td>-0.197657</td>\n",
       "      <td>-0.364484</td>\n",
       "      <td>0.415849</td>\n",
       "      <td>-0.024539</td>\n",
       "      <td>-0.072295</td>\n",
       "      <td>-0.132041</td>\n",
       "      <td>0.182520</td>\n",
       "      <td>-0.027412</td>\n",
       "      <td>0.155736</td>\n",
       "    </tr>\n",
       "    <tr>\n",
       "      <th>form_field33</th>\n",
       "      <td>0.279455</td>\n",
       "      <td>-0.126830</td>\n",
       "      <td>-0.106021</td>\n",
       "      <td>-0.074035</td>\n",
       "      <td>-0.066943</td>\n",
       "      <td>0.157392</td>\n",
       "      <td>0.181887</td>\n",
       "      <td>0.213913</td>\n",
       "      <td>0.263627</td>\n",
       "      <td>0.238893</td>\n",
       "      <td>...</td>\n",
       "      <td>-0.048287</td>\n",
       "      <td>-0.118916</td>\n",
       "      <td>-0.201543</td>\n",
       "      <td>0.114376</td>\n",
       "      <td>0.055855</td>\n",
       "      <td>0.008108</td>\n",
       "      <td>-0.100172</td>\n",
       "      <td>0.084636</td>\n",
       "      <td>-0.067578</td>\n",
       "      <td>0.062776</td>\n",
       "    </tr>\n",
       "    <tr>\n",
       "      <th>form_field34</th>\n",
       "      <td>-0.240419</td>\n",
       "      <td>0.066472</td>\n",
       "      <td>0.091750</td>\n",
       "      <td>0.100506</td>\n",
       "      <td>0.017233</td>\n",
       "      <td>-0.109839</td>\n",
       "      <td>-0.014851</td>\n",
       "      <td>-0.139343</td>\n",
       "      <td>-0.083826</td>\n",
       "      <td>-0.018879</td>\n",
       "      <td>...</td>\n",
       "      <td>0.038309</td>\n",
       "      <td>-0.004460</td>\n",
       "      <td>-0.015533</td>\n",
       "      <td>-0.009133</td>\n",
       "      <td>-0.088143</td>\n",
       "      <td>0.089707</td>\n",
       "      <td>0.037080</td>\n",
       "      <td>-0.022684</td>\n",
       "      <td>0.124445</td>\n",
       "      <td>-0.022527</td>\n",
       "    </tr>\n",
       "    <tr>\n",
       "      <th>form_field35</th>\n",
       "      <td>-0.449569</td>\n",
       "      <td>0.085852</td>\n",
       "      <td>0.278551</td>\n",
       "      <td>0.124129</td>\n",
       "      <td>0.085714</td>\n",
       "      <td>-0.098758</td>\n",
       "      <td>-0.058196</td>\n",
       "      <td>-0.136045</td>\n",
       "      <td>-0.133963</td>\n",
       "      <td>-0.104341</td>\n",
       "      <td>...</td>\n",
       "      <td>0.080708</td>\n",
       "      <td>0.027226</td>\n",
       "      <td>0.301598</td>\n",
       "      <td>-0.175669</td>\n",
       "      <td>-0.031036</td>\n",
       "      <td>0.107946</td>\n",
       "      <td>0.181718</td>\n",
       "      <td>-0.038711</td>\n",
       "      <td>0.039642</td>\n",
       "      <td>-0.029057</td>\n",
       "    </tr>\n",
       "    <tr>\n",
       "      <th>form_field36</th>\n",
       "      <td>-0.250616</td>\n",
       "      <td>0.155863</td>\n",
       "      <td>0.367379</td>\n",
       "      <td>0.145442</td>\n",
       "      <td>0.231836</td>\n",
       "      <td>-0.201247</td>\n",
       "      <td>-0.047147</td>\n",
       "      <td>-0.175025</td>\n",
       "      <td>-0.037585</td>\n",
       "      <td>-0.011662</td>\n",
       "      <td>...</td>\n",
       "      <td>0.195608</td>\n",
       "      <td>0.010355</td>\n",
       "      <td>0.078126</td>\n",
       "      <td>0.441343</td>\n",
       "      <td>-0.463833</td>\n",
       "      <td>0.069424</td>\n",
       "      <td>0.141873</td>\n",
       "      <td>-0.027366</td>\n",
       "      <td>0.396726</td>\n",
       "      <td>-0.028064</td>\n",
       "    </tr>\n",
       "    <tr>\n",
       "      <th>form_field37</th>\n",
       "      <td>0.355200</td>\n",
       "      <td>-0.141179</td>\n",
       "      <td>-0.055647</td>\n",
       "      <td>-0.085796</td>\n",
       "      <td>-0.073118</td>\n",
       "      <td>0.098013</td>\n",
       "      <td>0.192821</td>\n",
       "      <td>0.347770</td>\n",
       "      <td>0.694361</td>\n",
       "      <td>0.325580</td>\n",
       "      <td>...</td>\n",
       "      <td>-0.193596</td>\n",
       "      <td>-0.169051</td>\n",
       "      <td>-0.309056</td>\n",
       "      <td>0.373112</td>\n",
       "      <td>-0.003891</td>\n",
       "      <td>-0.055399</td>\n",
       "      <td>-0.114736</td>\n",
       "      <td>0.140386</td>\n",
       "      <td>-0.041445</td>\n",
       "      <td>0.156458</td>\n",
       "    </tr>\n",
       "    <tr>\n",
       "      <th>form_field38</th>\n",
       "      <td>-0.175042</td>\n",
       "      <td>0.286332</td>\n",
       "      <td>0.118169</td>\n",
       "      <td>0.071416</td>\n",
       "      <td>0.030339</td>\n",
       "      <td>-0.207570</td>\n",
       "      <td>-0.080978</td>\n",
       "      <td>-0.131674</td>\n",
       "      <td>0.017871</td>\n",
       "      <td>-0.039794</td>\n",
       "      <td>...</td>\n",
       "      <td>0.098204</td>\n",
       "      <td>0.219409</td>\n",
       "      <td>0.002852</td>\n",
       "      <td>0.433839</td>\n",
       "      <td>-0.283921</td>\n",
       "      <td>-0.040934</td>\n",
       "      <td>0.070544</td>\n",
       "      <td>-0.104512</td>\n",
       "      <td>0.224308</td>\n",
       "      <td>0.006051</td>\n",
       "    </tr>\n",
       "    <tr>\n",
       "      <th>form_field39</th>\n",
       "      <td>-0.247064</td>\n",
       "      <td>0.055077</td>\n",
       "      <td>0.129470</td>\n",
       "      <td>0.127197</td>\n",
       "      <td>0.064247</td>\n",
       "      <td>-0.075067</td>\n",
       "      <td>-0.011644</td>\n",
       "      <td>-0.101075</td>\n",
       "      <td>-0.075136</td>\n",
       "      <td>-0.026782</td>\n",
       "      <td>...</td>\n",
       "      <td>0.052488</td>\n",
       "      <td>0.007240</td>\n",
       "      <td>0.087424</td>\n",
       "      <td>-0.063775</td>\n",
       "      <td>-0.063279</td>\n",
       "      <td>0.169587</td>\n",
       "      <td>0.104732</td>\n",
       "      <td>-0.025012</td>\n",
       "      <td>0.105952</td>\n",
       "      <td>-0.019548</td>\n",
       "    </tr>\n",
       "    <tr>\n",
       "      <th>form_field40</th>\n",
       "      <td>-0.353256</td>\n",
       "      <td>0.091068</td>\n",
       "      <td>0.206044</td>\n",
       "      <td>0.108336</td>\n",
       "      <td>0.154767</td>\n",
       "      <td>-0.154338</td>\n",
       "      <td>-0.153438</td>\n",
       "      <td>-0.225019</td>\n",
       "      <td>-0.278875</td>\n",
       "      <td>-0.251934</td>\n",
       "      <td>...</td>\n",
       "      <td>1.000000</td>\n",
       "      <td>0.109891</td>\n",
       "      <td>0.270214</td>\n",
       "      <td>-0.072212</td>\n",
       "      <td>-0.147974</td>\n",
       "      <td>0.094481</td>\n",
       "      <td>0.128238</td>\n",
       "      <td>-0.078160</td>\n",
       "      <td>0.124720</td>\n",
       "      <td>-0.056922</td>\n",
       "    </tr>\n",
       "    <tr>\n",
       "      <th>form_field41</th>\n",
       "      <td>-0.204252</td>\n",
       "      <td>0.152294</td>\n",
       "      <td>0.026840</td>\n",
       "      <td>0.000609</td>\n",
       "      <td>0.033270</td>\n",
       "      <td>-0.110028</td>\n",
       "      <td>-0.191399</td>\n",
       "      <td>-0.158906</td>\n",
       "      <td>-0.187234</td>\n",
       "      <td>-0.234042</td>\n",
       "      <td>...</td>\n",
       "      <td>0.109891</td>\n",
       "      <td>1.000000</td>\n",
       "      <td>0.137877</td>\n",
       "      <td>-0.048591</td>\n",
       "      <td>0.030801</td>\n",
       "      <td>-0.008559</td>\n",
       "      <td>0.012906</td>\n",
       "      <td>-0.072163</td>\n",
       "      <td>0.041891</td>\n",
       "      <td>-0.040799</td>\n",
       "    </tr>\n",
       "    <tr>\n",
       "      <th>form_field42</th>\n",
       "      <td>-0.769666</td>\n",
       "      <td>0.133388</td>\n",
       "      <td>0.431644</td>\n",
       "      <td>0.217256</td>\n",
       "      <td>0.232948</td>\n",
       "      <td>-0.202840</td>\n",
       "      <td>-0.175587</td>\n",
       "      <td>-0.357423</td>\n",
       "      <td>-0.416071</td>\n",
       "      <td>-0.293796</td>\n",
       "      <td>...</td>\n",
       "      <td>0.270214</td>\n",
       "      <td>0.137877</td>\n",
       "      <td>1.000000</td>\n",
       "      <td>-0.546692</td>\n",
       "      <td>0.141101</td>\n",
       "      <td>0.266692</td>\n",
       "      <td>0.344894</td>\n",
       "      <td>-0.115104</td>\n",
       "      <td>0.004811</td>\n",
       "      <td>-0.077260</td>\n",
       "    </tr>\n",
       "    <tr>\n",
       "      <th>form_field43</th>\n",
       "      <td>0.436825</td>\n",
       "      <td>0.017639</td>\n",
       "      <td>-0.242528</td>\n",
       "      <td>-0.133150</td>\n",
       "      <td>-0.130958</td>\n",
       "      <td>-0.055535</td>\n",
       "      <td>0.108372</td>\n",
       "      <td>0.180179</td>\n",
       "      <td>0.461979</td>\n",
       "      <td>0.298123</td>\n",
       "      <td>...</td>\n",
       "      <td>-0.072212</td>\n",
       "      <td>-0.048591</td>\n",
       "      <td>-0.546692</td>\n",
       "      <td>1.000000</td>\n",
       "      <td>-0.382969</td>\n",
       "      <td>-0.168621</td>\n",
       "      <td>-0.182756</td>\n",
       "      <td>0.064204</td>\n",
       "      <td>0.220256</td>\n",
       "      <td>0.082062</td>\n",
       "    </tr>\n",
       "    <tr>\n",
       "      <th>form_field44</th>\n",
       "      <td>0.020987</td>\n",
       "      <td>-0.097404</td>\n",
       "      <td>-0.019430</td>\n",
       "      <td>0.002108</td>\n",
       "      <td>-0.069985</td>\n",
       "      <td>0.154622</td>\n",
       "      <td>0.035129</td>\n",
       "      <td>0.091302</td>\n",
       "      <td>-0.000396</td>\n",
       "      <td>-0.009070</td>\n",
       "      <td>...</td>\n",
       "      <td>-0.147974</td>\n",
       "      <td>0.030801</td>\n",
       "      <td>0.141101</td>\n",
       "      <td>-0.382969</td>\n",
       "      <td>1.000000</td>\n",
       "      <td>0.039464</td>\n",
       "      <td>0.006571</td>\n",
       "      <td>-0.010821</td>\n",
       "      <td>-0.307514</td>\n",
       "      <td>0.003757</td>\n",
       "    </tr>\n",
       "    <tr>\n",
       "      <th>form_field45</th>\n",
       "      <td>-0.308952</td>\n",
       "      <td>0.059398</td>\n",
       "      <td>0.268679</td>\n",
       "      <td>0.134662</td>\n",
       "      <td>0.041071</td>\n",
       "      <td>-0.076431</td>\n",
       "      <td>-0.028506</td>\n",
       "      <td>-0.123355</td>\n",
       "      <td>-0.120909</td>\n",
       "      <td>-0.069350</td>\n",
       "      <td>...</td>\n",
       "      <td>0.094481</td>\n",
       "      <td>-0.008559</td>\n",
       "      <td>0.266692</td>\n",
       "      <td>-0.168621</td>\n",
       "      <td>0.039464</td>\n",
       "      <td>1.000000</td>\n",
       "      <td>0.142558</td>\n",
       "      <td>-0.025605</td>\n",
       "      <td>-0.033068</td>\n",
       "      <td>-0.020328</td>\n",
       "    </tr>\n",
       "    <tr>\n",
       "      <th>form_field46</th>\n",
       "      <td>-0.332168</td>\n",
       "      <td>0.103379</td>\n",
       "      <td>0.403775</td>\n",
       "      <td>0.885903</td>\n",
       "      <td>0.125941</td>\n",
       "      <td>-0.065658</td>\n",
       "      <td>-0.063864</td>\n",
       "      <td>-0.112679</td>\n",
       "      <td>-0.134048</td>\n",
       "      <td>-0.103857</td>\n",
       "      <td>...</td>\n",
       "      <td>0.128238</td>\n",
       "      <td>0.012906</td>\n",
       "      <td>0.344894</td>\n",
       "      <td>-0.182756</td>\n",
       "      <td>0.006571</td>\n",
       "      <td>0.142558</td>\n",
       "      <td>1.000000</td>\n",
       "      <td>-0.030958</td>\n",
       "      <td>-0.033728</td>\n",
       "      <td>-0.024810</td>\n",
       "    </tr>\n",
       "    <tr>\n",
       "      <th>form_field48</th>\n",
       "      <td>0.132836</td>\n",
       "      <td>-0.062440</td>\n",
       "      <td>-0.057103</td>\n",
       "      <td>-0.030856</td>\n",
       "      <td>-0.022956</td>\n",
       "      <td>0.051453</td>\n",
       "      <td>0.082574</td>\n",
       "      <td>0.138933</td>\n",
       "      <td>0.149994</td>\n",
       "      <td>0.120024</td>\n",
       "      <td>...</td>\n",
       "      <td>-0.078160</td>\n",
       "      <td>-0.072163</td>\n",
       "      <td>-0.115104</td>\n",
       "      <td>0.064204</td>\n",
       "      <td>-0.010821</td>\n",
       "      <td>-0.025605</td>\n",
       "      <td>-0.030958</td>\n",
       "      <td>1.000000</td>\n",
       "      <td>-0.016077</td>\n",
       "      <td>0.026207</td>\n",
       "    </tr>\n",
       "    <tr>\n",
       "      <th>form_field49</th>\n",
       "      <td>-0.238500</td>\n",
       "      <td>0.145432</td>\n",
       "      <td>0.195454</td>\n",
       "      <td>-0.021376</td>\n",
       "      <td>0.470998</td>\n",
       "      <td>-0.235662</td>\n",
       "      <td>-0.081224</td>\n",
       "      <td>-0.238004</td>\n",
       "      <td>-0.079773</td>\n",
       "      <td>-0.091290</td>\n",
       "      <td>...</td>\n",
       "      <td>0.124720</td>\n",
       "      <td>0.041891</td>\n",
       "      <td>0.004811</td>\n",
       "      <td>0.220256</td>\n",
       "      <td>-0.307514</td>\n",
       "      <td>-0.033068</td>\n",
       "      <td>-0.033728</td>\n",
       "      <td>-0.016077</td>\n",
       "      <td>1.000000</td>\n",
       "      <td>-0.037066</td>\n",
       "    </tr>\n",
       "    <tr>\n",
       "      <th>form_field50</th>\n",
       "      <td>0.119797</td>\n",
       "      <td>-0.045105</td>\n",
       "      <td>-0.041295</td>\n",
       "      <td>-0.023217</td>\n",
       "      <td>-0.016133</td>\n",
       "      <td>0.075432</td>\n",
       "      <td>0.063129</td>\n",
       "      <td>0.139536</td>\n",
       "      <td>0.229768</td>\n",
       "      <td>0.102032</td>\n",
       "      <td>...</td>\n",
       "      <td>-0.056922</td>\n",
       "      <td>-0.040799</td>\n",
       "      <td>-0.077260</td>\n",
       "      <td>0.082062</td>\n",
       "      <td>0.003757</td>\n",
       "      <td>-0.020328</td>\n",
       "      <td>-0.024810</td>\n",
       "      <td>0.026207</td>\n",
       "      <td>-0.037066</td>\n",
       "      <td>1.000000</td>\n",
       "    </tr>\n",
       "  </tbody>\n",
       "</table>\n",
       "<p>49 rows × 49 columns</p>\n",
       "</div>"
      ],
      "text/plain": [
       "              form_field1  form_field2  form_field3  form_field4  form_field5  \\\n",
       "form_field1      1.000000    -0.263382    -0.501989    -0.276037    -0.238508   \n",
       "form_field2     -0.263382     1.000000     0.120889     0.089388     0.039718   \n",
       "form_field3     -0.501989     0.120889     1.000000     0.376795     0.649863   \n",
       "form_field4     -0.276037     0.089388     0.376795     1.000000     0.099439   \n",
       "form_field5     -0.238508     0.039718     0.649863     0.099439     1.000000   \n",
       "form_field6      0.413203    -0.170318    -0.122285    -0.068868    -0.044174   \n",
       "form_field7      0.259690    -0.093021    -0.082032    -0.044020    -0.047210   \n",
       "form_field8      0.590875    -0.201365    -0.204138    -0.113001    -0.072429   \n",
       "form_field9      0.525935    -0.162909    -0.208045    -0.122086    -0.089868   \n",
       "form_field10     0.407465    -0.119794    -0.142977    -0.072819    -0.070542   \n",
       "form_field11    -0.153583     0.032744     0.274955     0.054434     0.208195   \n",
       "form_field12     0.114070    -0.020191    -0.146730    -0.077544    -0.062838   \n",
       "form_field13     0.215294    -0.061673    -0.096685    -0.058123    -0.040539   \n",
       "form_field14    -0.000388    -0.002626     0.002931     0.001613    -0.002897   \n",
       "form_field15     0.221777    -0.083385    -0.109164    -0.066745    -0.060073   \n",
       "form_field16    -0.358931     0.149014     0.112651     0.067484     0.040042   \n",
       "form_field17    -0.337144     0.156135     0.099204     0.055088     0.031849   \n",
       "form_field18    -0.328799     0.155464     0.093814     0.053039     0.028336   \n",
       "form_field19    -0.132694     0.173725    -0.059005    -0.032456    -0.049761   \n",
       "form_field20    -0.120122     0.169172    -0.064309    -0.036008    -0.053361   \n",
       "form_field21    -0.660555     0.230240     0.227824     0.141518     0.097076   \n",
       "form_field22    -0.571553     0.196388     0.204264     0.115507     0.096654   \n",
       "form_field23    -0.563135     0.194322     0.200595     0.108360     0.098971   \n",
       "form_field24    -0.196751     0.042393     0.260630     0.061925     0.038798   \n",
       "form_field25     0.363689    -0.227523    -0.084565    -0.073411    -0.058490   \n",
       "form_field26     0.413191    -0.195153    -0.083395    -0.081038    -0.069961   \n",
       "form_field27     0.412663    -0.201512    -0.082616    -0.081060    -0.067958   \n",
       "form_field28     0.672904    -0.152192    -0.313532    -0.172557    -0.119099   \n",
       "form_field29     0.382165    -0.150598    -0.068792    -0.058339    -0.051931   \n",
       "form_field30     0.133906    -0.111648    -0.000498    -0.028399    -0.026266   \n",
       "form_field31     0.161541    -0.047096    -0.011322    -0.006445     0.006949   \n",
       "form_field32     0.434963    -0.159920    -0.110955    -0.106202    -0.089523   \n",
       "form_field33     0.279455    -0.126830    -0.106021    -0.074035    -0.066943   \n",
       "form_field34    -0.240419     0.066472     0.091750     0.100506     0.017233   \n",
       "form_field35    -0.449569     0.085852     0.278551     0.124129     0.085714   \n",
       "form_field36    -0.250616     0.155863     0.367379     0.145442     0.231836   \n",
       "form_field37     0.355200    -0.141179    -0.055647    -0.085796    -0.073118   \n",
       "form_field38    -0.175042     0.286332     0.118169     0.071416     0.030339   \n",
       "form_field39    -0.247064     0.055077     0.129470     0.127197     0.064247   \n",
       "form_field40    -0.353256     0.091068     0.206044     0.108336     0.154767   \n",
       "form_field41    -0.204252     0.152294     0.026840     0.000609     0.033270   \n",
       "form_field42    -0.769666     0.133388     0.431644     0.217256     0.232948   \n",
       "form_field43     0.436825     0.017639    -0.242528    -0.133150    -0.130958   \n",
       "form_field44     0.020987    -0.097404    -0.019430     0.002108    -0.069985   \n",
       "form_field45    -0.308952     0.059398     0.268679     0.134662     0.041071   \n",
       "form_field46    -0.332168     0.103379     0.403775     0.885903     0.125941   \n",
       "form_field48     0.132836    -0.062440    -0.057103    -0.030856    -0.022956   \n",
       "form_field49    -0.238500     0.145432     0.195454    -0.021376     0.470998   \n",
       "form_field50     0.119797    -0.045105    -0.041295    -0.023217    -0.016133   \n",
       "\n",
       "              form_field6  form_field7  form_field8  form_field9  \\\n",
       "form_field1      0.413203     0.259690     0.590875     0.525935   \n",
       "form_field2     -0.170318    -0.093021    -0.201365    -0.162909   \n",
       "form_field3     -0.122285    -0.082032    -0.204138    -0.208045   \n",
       "form_field4     -0.068868    -0.044020    -0.113001    -0.122086   \n",
       "form_field5     -0.044174    -0.047210    -0.072429    -0.089868   \n",
       "form_field6      1.000000     0.188560     0.491946     0.256348   \n",
       "form_field7      0.188560     1.000000     0.340538     0.271203   \n",
       "form_field8      0.491946     0.340538     1.000000     0.583663   \n",
       "form_field9      0.256348     0.271203     0.583663     1.000000   \n",
       "form_field10     0.230088     0.899833     0.448022     0.478816   \n",
       "form_field11     0.014199    -0.003793    -0.011155    -0.023077   \n",
       "form_field12    -0.060717     0.117215     0.171477     0.323888   \n",
       "form_field13     0.166417     0.291038     0.309817     0.242528   \n",
       "form_field14     0.007264     0.007267     0.015062     0.002261   \n",
       "form_field15     0.163450     0.252285     0.269589     0.181270   \n",
       "form_field16    -0.162042    -0.061424    -0.179594    -0.116697   \n",
       "form_field17    -0.160101    -0.059498    -0.179289    -0.108410   \n",
       "form_field18    -0.159048    -0.056095    -0.176620    -0.103187   \n",
       "form_field19    -0.256100    -0.060212    -0.255678    -0.054786   \n",
       "form_field20    -0.252150    -0.048688    -0.245191    -0.039365   \n",
       "form_field21    -0.413309    -0.173720    -0.525767    -0.350495   \n",
       "form_field22    -0.319040    -0.132694    -0.379563    -0.295012   \n",
       "form_field23    -0.316810    -0.124450    -0.364346    -0.287201   \n",
       "form_field24    -0.067937    -0.029375    -0.101772    -0.072711   \n",
       "form_field25     0.319588     0.223234     0.379838     0.295131   \n",
       "form_field26     0.240703     0.232219     0.394885     0.499269   \n",
       "form_field27     0.255656     0.233136     0.416757     0.501187   \n",
       "form_field28     0.297190     0.134676     0.391247     0.343150   \n",
       "form_field29     0.218260     0.224416     0.355232     0.426697   \n",
       "form_field30     0.079006     0.124168     0.111110     0.168947   \n",
       "form_field31     0.085487     0.124560     0.112653     0.136794   \n",
       "form_field32     0.132497     0.238958     0.440625     0.713421   \n",
       "form_field33     0.157392     0.181887     0.213913     0.263627   \n",
       "form_field34    -0.109839    -0.014851    -0.139343    -0.083826   \n",
       "form_field35    -0.098758    -0.058196    -0.136045    -0.133963   \n",
       "form_field36    -0.201247    -0.047147    -0.175025    -0.037585   \n",
       "form_field37     0.098013     0.192821     0.347770     0.694361   \n",
       "form_field38    -0.207570    -0.080978    -0.131674     0.017871   \n",
       "form_field39    -0.075067    -0.011644    -0.101075    -0.075136   \n",
       "form_field40    -0.154338    -0.153438    -0.225019    -0.278875   \n",
       "form_field41    -0.110028    -0.191399    -0.158906    -0.187234   \n",
       "form_field42    -0.202840    -0.175587    -0.357423    -0.416071   \n",
       "form_field43    -0.055535     0.108372     0.180179     0.461979   \n",
       "form_field44     0.154622     0.035129     0.091302    -0.000396   \n",
       "form_field45    -0.076431    -0.028506    -0.123355    -0.120909   \n",
       "form_field46    -0.065658    -0.063864    -0.112679    -0.134048   \n",
       "form_field48     0.051453     0.082574     0.138933     0.149994   \n",
       "form_field49    -0.235662    -0.081224    -0.238004    -0.079773   \n",
       "form_field50     0.075432     0.063129     0.139536     0.229768   \n",
       "\n",
       "              form_field10  ...  form_field40  form_field41  form_field42  \\\n",
       "form_field1       0.407465  ...     -0.353256     -0.204252     -0.769666   \n",
       "form_field2      -0.119794  ...      0.091068      0.152294      0.133388   \n",
       "form_field3      -0.142977  ...      0.206044      0.026840      0.431644   \n",
       "form_field4      -0.072819  ...      0.108336      0.000609      0.217256   \n",
       "form_field5      -0.070542  ...      0.154767      0.033270      0.232948   \n",
       "form_field6       0.230088  ...     -0.154338     -0.110028     -0.202840   \n",
       "form_field7       0.899833  ...     -0.153438     -0.191399     -0.175587   \n",
       "form_field8       0.448022  ...     -0.225019     -0.158906     -0.357423   \n",
       "form_field9       0.478816  ...     -0.278875     -0.187234     -0.416071   \n",
       "form_field10      1.000000  ...     -0.251934     -0.234042     -0.293796   \n",
       "form_field11     -0.033408  ...      0.065722      0.008401      0.125115   \n",
       "form_field12      0.182841  ...     -0.163360     -0.097632     -0.270382   \n",
       "form_field13      0.413713  ...     -0.180592     -0.076852     -0.168121   \n",
       "form_field14      0.002539  ...      0.000861     -0.021774      0.005235   \n",
       "form_field15      0.254315  ...     -0.102188     -0.118326     -0.180572   \n",
       "form_field16     -0.095177  ...      0.073742      0.042473      0.112591   \n",
       "form_field17     -0.090272  ...      0.070675      0.040688      0.085620   \n",
       "form_field18     -0.084783  ...      0.068789      0.039088      0.075673   \n",
       "form_field19     -0.052851  ...     -0.005194      0.018208     -0.184238   \n",
       "form_field20     -0.033985  ...     -0.010404      0.011695     -0.197073   \n",
       "form_field21     -0.263771  ...      0.160926      0.104338      0.338481   \n",
       "form_field22     -0.210854  ...      0.142339      0.107000      0.314328   \n",
       "form_field23     -0.223700  ...      0.123102      0.117002      0.309245   \n",
       "form_field24     -0.053038  ...      0.069394      0.002679      0.152300   \n",
       "form_field25      0.281024  ...     -0.166146     -0.212777     -0.240251   \n",
       "form_field26      0.351926  ...     -0.190459     -0.207234     -0.322817   \n",
       "form_field27      0.356840  ...     -0.195243     -0.217150     -0.315783   \n",
       "form_field28      0.231919  ...     -0.224582     -0.083286     -0.474937   \n",
       "form_field29      0.316751  ...     -0.069100     -0.169349     -0.322760   \n",
       "form_field30      0.148784  ...     -0.039174     -0.200459     -0.103186   \n",
       "form_field31      0.150598  ...      0.023306     -0.046281     -0.136697   \n",
       "form_field32      0.394093  ...     -0.216527     -0.197657     -0.364484   \n",
       "form_field33      0.238893  ...     -0.048287     -0.118916     -0.201543   \n",
       "form_field34     -0.018879  ...      0.038309     -0.004460     -0.015533   \n",
       "form_field35     -0.104341  ...      0.080708      0.027226      0.301598   \n",
       "form_field36     -0.011662  ...      0.195608      0.010355      0.078126   \n",
       "form_field37      0.325580  ...     -0.193596     -0.169051     -0.309056   \n",
       "form_field38     -0.039794  ...      0.098204      0.219409      0.002852   \n",
       "form_field39     -0.026782  ...      0.052488      0.007240      0.087424   \n",
       "form_field40     -0.251934  ...      1.000000      0.109891      0.270214   \n",
       "form_field41     -0.234042  ...      0.109891      1.000000      0.137877   \n",
       "form_field42     -0.293796  ...      0.270214      0.137877      1.000000   \n",
       "form_field43      0.298123  ...     -0.072212     -0.048591     -0.546692   \n",
       "form_field44     -0.009070  ...     -0.147974      0.030801      0.141101   \n",
       "form_field45     -0.069350  ...      0.094481     -0.008559      0.266692   \n",
       "form_field46     -0.103857  ...      0.128238      0.012906      0.344894   \n",
       "form_field48      0.120024  ...     -0.078160     -0.072163     -0.115104   \n",
       "form_field49     -0.091290  ...      0.124720      0.041891      0.004811   \n",
       "form_field50      0.102032  ...     -0.056922     -0.040799     -0.077260   \n",
       "\n",
       "              form_field43  form_field44  form_field45  form_field46  \\\n",
       "form_field1       0.436825      0.020987     -0.308952     -0.332168   \n",
       "form_field2       0.017639     -0.097404      0.059398      0.103379   \n",
       "form_field3      -0.242528     -0.019430      0.268679      0.403775   \n",
       "form_field4      -0.133150      0.002108      0.134662      0.885903   \n",
       "form_field5      -0.130958     -0.069985      0.041071      0.125941   \n",
       "form_field6      -0.055535      0.154622     -0.076431     -0.065658   \n",
       "form_field7       0.108372      0.035129     -0.028506     -0.063864   \n",
       "form_field8       0.180179      0.091302     -0.123355     -0.112679   \n",
       "form_field9       0.461979     -0.000396     -0.120909     -0.134048   \n",
       "form_field10      0.298123     -0.009070     -0.069350     -0.103857   \n",
       "form_field11     -0.093746      0.017752      0.059445      0.070037   \n",
       "form_field12      0.345490     -0.225935     -0.067205     -0.090357   \n",
       "form_field13      0.134388     -0.030517     -0.050632     -0.059227   \n",
       "form_field14     -0.004651      0.003908     -0.008100      0.001404   \n",
       "form_field15      0.044120      0.059254     -0.022655     -0.081452   \n",
       "form_field16      0.021344     -0.161217      0.075154      0.076762   \n",
       "form_field17      0.059010     -0.172914      0.064834      0.062306   \n",
       "form_field18      0.064291     -0.175809      0.062677      0.059779   \n",
       "form_field19      0.373048     -0.305469     -0.007496     -0.056943   \n",
       "form_field20      0.383648     -0.310929     -0.009705     -0.062382   \n",
       "form_field21     -0.115206     -0.178435      0.135973      0.151223   \n",
       "form_field22     -0.136611     -0.170267      0.094712      0.129307   \n",
       "form_field23     -0.152310     -0.155525      0.085135      0.120953   \n",
       "form_field24     -0.076732      0.004637      0.096116      0.077418   \n",
       "form_field25      0.053338      0.083172     -0.007185     -0.100258   \n",
       "form_field26      0.266046      0.024939     -0.031374     -0.105548   \n",
       "form_field27      0.243416      0.034701     -0.033219     -0.103917   \n",
       "form_field28      0.208499      0.048321     -0.178323     -0.171876   \n",
       "form_field29      0.234775      0.019253     -0.037443     -0.112128   \n",
       "form_field30      0.042325      0.027370      0.034529     -0.047027   \n",
       "form_field31      0.058341      0.108374      0.015701     -0.048976   \n",
       "form_field32      0.415849     -0.024539     -0.072295     -0.132041   \n",
       "form_field33      0.114376      0.055855      0.008108     -0.100172   \n",
       "form_field34     -0.009133     -0.088143      0.089707      0.037080   \n",
       "form_field35     -0.175669     -0.031036      0.107946      0.181718   \n",
       "form_field36      0.441343     -0.463833      0.069424      0.141873   \n",
       "form_field37      0.373112     -0.003891     -0.055399     -0.114736   \n",
       "form_field38      0.433839     -0.283921     -0.040934      0.070544   \n",
       "form_field39     -0.063775     -0.063279      0.169587      0.104732   \n",
       "form_field40     -0.072212     -0.147974      0.094481      0.128238   \n",
       "form_field41     -0.048591      0.030801     -0.008559      0.012906   \n",
       "form_field42     -0.546692      0.141101      0.266692      0.344894   \n",
       "form_field43      1.000000     -0.382969     -0.168621     -0.182756   \n",
       "form_field44     -0.382969      1.000000      0.039464      0.006571   \n",
       "form_field45     -0.168621      0.039464      1.000000      0.142558   \n",
       "form_field46     -0.182756      0.006571      0.142558      1.000000   \n",
       "form_field48      0.064204     -0.010821     -0.025605     -0.030958   \n",
       "form_field49      0.220256     -0.307514     -0.033068     -0.033728   \n",
       "form_field50      0.082062      0.003757     -0.020328     -0.024810   \n",
       "\n",
       "              form_field48  form_field49  form_field50  \n",
       "form_field1       0.132836     -0.238500      0.119797  \n",
       "form_field2      -0.062440      0.145432     -0.045105  \n",
       "form_field3      -0.057103      0.195454     -0.041295  \n",
       "form_field4      -0.030856     -0.021376     -0.023217  \n",
       "form_field5      -0.022956      0.470998     -0.016133  \n",
       "form_field6       0.051453     -0.235662      0.075432  \n",
       "form_field7       0.082574     -0.081224      0.063129  \n",
       "form_field8       0.138933     -0.238004      0.139536  \n",
       "form_field9       0.149994     -0.079773      0.229768  \n",
       "form_field10      0.120024     -0.091290      0.102032  \n",
       "form_field11     -0.007739      0.079152     -0.002345  \n",
       "form_field12      0.258211      0.327710      0.038248  \n",
       "form_field13      0.080897     -0.035176      0.056205  \n",
       "form_field14      0.002900     -0.005601     -0.002958  \n",
       "form_field15      0.074185     -0.081604      0.033374  \n",
       "form_field16     -0.029039      0.384264     -0.030169  \n",
       "form_field17     -0.030271      0.418276     -0.029817  \n",
       "form_field18     -0.028686      0.413885     -0.028088  \n",
       "form_field19     -0.017149      0.715119     -0.035727  \n",
       "form_field20     -0.009787      0.702845     -0.033887  \n",
       "form_field21     -0.004357      0.423848     -0.087957  \n",
       "form_field22     -0.215920      0.382571     -0.077392  \n",
       "form_field23     -0.178831      0.365287     -0.072758  \n",
       "form_field24     -0.016360      0.024706     -0.018227  \n",
       "form_field25      0.204388     -0.129771      0.057227  \n",
       "form_field26      0.170627     -0.079765      0.103944  \n",
       "form_field27      0.178330     -0.089780      0.110279  \n",
       "form_field28      0.083913     -0.116247      0.084353  \n",
       "form_field29      0.141224     -0.052425      0.097583  \n",
       "form_field30      0.066550     -0.042415      0.026506  \n",
       "form_field31      0.042191      0.002631      0.022736  \n",
       "form_field32      0.182520     -0.027412      0.155736  \n",
       "form_field33      0.084636     -0.067578      0.062776  \n",
       "form_field34     -0.022684      0.124445     -0.022527  \n",
       "form_field35     -0.038711      0.039642     -0.029057  \n",
       "form_field36     -0.027366      0.396726     -0.028064  \n",
       "form_field37      0.140386     -0.041445      0.156458  \n",
       "form_field38     -0.104512      0.224308      0.006051  \n",
       "form_field39     -0.025012      0.105952     -0.019548  \n",
       "form_field40     -0.078160      0.124720     -0.056922  \n",
       "form_field41     -0.072163      0.041891     -0.040799  \n",
       "form_field42     -0.115104      0.004811     -0.077260  \n",
       "form_field43      0.064204      0.220256      0.082062  \n",
       "form_field44     -0.010821     -0.307514      0.003757  \n",
       "form_field45     -0.025605     -0.033068     -0.020328  \n",
       "form_field46     -0.030958     -0.033728     -0.024810  \n",
       "form_field48      1.000000     -0.016077      0.026207  \n",
       "form_field49     -0.016077      1.000000     -0.037066  \n",
       "form_field50      0.026207     -0.037066      1.000000  \n",
       "\n",
       "[49 rows x 49 columns]"
      ]
     },
     "execution_count": 227,
     "metadata": {},
     "output_type": "execute_result"
    }
   ],
   "source": [
    "train.corr()"
   ]
  },
  {
   "cell_type": "code",
   "execution_count": 194,
   "metadata": {},
   "outputs": [],
   "source": [
    "#To get categorical columns\n",
    "#train.select_dtypes(object).columns"
   ]
  },
  {
   "cell_type": "code",
   "execution_count": 195,
   "metadata": {},
   "outputs": [],
   "source": [
    "#To encode categorical columns\n",
    "train['form_field47'].replace('charge',1, inplace=True)\n",
    "train['form_field47'].replace('lending',0, inplace=True)\n",
    "train['default_status'].replace('yes',1, inplace=True)\n",
    "train['default_status'].replace('no',0, inplace=True)\n",
    " \n",
    "test_given['form_field47'].replace('charge',1, inplace=True)\n",
    "test_given['form_field47'].replace('lending',0, inplace=True)\n",
    " "
   ]
  },
  {
   "cell_type": "code",
   "execution_count": 196,
   "metadata": {},
   "outputs": [
    {
     "data": {
      "text/plain": [
       "form_field19    0.000071\n",
       "form_field49    0.006339\n",
       "form_field29    0.006339\n",
       "form_field3     0.006339\n",
       "form_field4     0.006339\n",
       "form_field5     0.006339\n",
       "form_field20    0.006339\n",
       "form_field10    0.006339\n",
       "form_field28    0.006339\n",
       "form_field38    0.006339\n",
       "form_field34    0.006339\n",
       "form_field43    0.010143\n",
       "form_field33    0.022429\n",
       "form_field42    0.023625\n",
       "form_field36    0.035625\n",
       "form_field1     0.045161\n",
       "form_field2     0.068643\n",
       "form_field39    0.075196\n",
       "form_field7     0.092196\n",
       "form_field44    0.096125\n",
       "form_field32    0.097321\n",
       "form_field37    0.097321\n",
       "form_field25    0.097321\n",
       "form_field13    0.105161\n",
       "form_field26    0.132821\n",
       "form_field9     0.143000\n",
       "form_field27    0.166054\n",
       "form_field12    0.176696\n",
       "form_field18    0.185750\n",
       "form_field50    0.197429\n",
       "form_field17    0.199125\n",
       "form_field16    0.232786\n",
       "form_field24    0.237446\n",
       "form_field6     0.238571\n",
       "form_field8     0.238571\n",
       "form_field21    0.283107\n",
       "form_field46    0.284000\n",
       "form_field22    0.364286\n",
       "form_field48    0.373018\n",
       "form_field15    0.401339\n",
       "form_field35    0.413357\n",
       "form_field30    0.455518\n",
       "form_field23    0.502196\n",
       "form_field45    0.559232\n",
       "form_field11    0.561089\n",
       "form_field41    0.682661\n",
       "form_field31    0.703714\n",
       "form_field40    0.780875\n",
       "dtype: float64"
      ]
     },
     "execution_count": 196,
     "metadata": {},
     "output_type": "execute_result"
    }
   ],
   "source": [
    "#Checking the null values in the train dataset\n",
    "train_null = train.isna().sum()/len(train)\n",
    "train_null[train_null>0].sort_values()"
   ]
  },
  {
   "cell_type": "code",
   "execution_count": 197,
   "metadata": {},
   "outputs": [
    {
     "data": {
      "text/plain": [
       "form_field3     0.006083\n",
       "form_field4     0.006083\n",
       "form_field5     0.006083\n",
       "form_field49    0.006083\n",
       "form_field38    0.006125\n",
       "form_field28    0.006125\n",
       "form_field29    0.006125\n",
       "form_field20    0.006125\n",
       "form_field10    0.006125\n",
       "form_field34    0.006125\n",
       "form_field43    0.010417\n",
       "form_field33    0.020625\n",
       "form_field42    0.024083\n",
       "form_field36    0.037625\n",
       "form_field1     0.046250\n",
       "form_field2     0.071208\n",
       "form_field39    0.076208\n",
       "form_field7     0.092958\n",
       "form_field32    0.094000\n",
       "form_field37    0.094000\n",
       "form_field25    0.094000\n",
       "form_field44    0.098417\n",
       "form_field13    0.102625\n",
       "form_field26    0.132167\n",
       "form_field9     0.141667\n",
       "form_field27    0.162917\n",
       "form_field12    0.174292\n",
       "form_field18    0.182042\n",
       "form_field17    0.195625\n",
       "form_field50    0.199875\n",
       "form_field16    0.228083\n",
       "form_field6     0.233500\n",
       "form_field8     0.233500\n",
       "form_field24    0.233542\n",
       "form_field21    0.279458\n",
       "form_field46    0.286875\n",
       "form_field22    0.363500\n",
       "form_field48    0.371750\n",
       "form_field15    0.399667\n",
       "form_field35    0.411083\n",
       "form_field30    0.454500\n",
       "form_field23    0.505208\n",
       "form_field11    0.558250\n",
       "form_field45    0.564083\n",
       "form_field41    0.681208\n",
       "form_field31    0.700417\n",
       "form_field40    0.784500\n",
       "dtype: float64"
      ]
     },
     "execution_count": 197,
     "metadata": {},
     "output_type": "execute_result"
    }
   ],
   "source": [
    "#Checking the null values in the test_given dataset\n",
    "\n",
    "test_given_null = test_given.isna().sum()/len(test_given)\n",
    "test_given_null[test_given_null>0].sort_values()"
   ]
  },
  {
   "cell_type": "markdown",
   "metadata": {},
   "source": [
    "# DATA VISUALIZATIONS"
   ]
  },
  {
   "cell_type": "code",
   "execution_count": 105,
   "metadata": {},
   "outputs": [
    {
     "data": {
      "text/plain": [
       "<matplotlib.axes._subplots.AxesSubplot at 0x11f75dc8>"
      ]
     },
     "execution_count": 105,
     "metadata": {},
     "output_type": "execute_result"
    },
    {
     "data": {
      "image/png": "[encoded data removed]",
      "text/plain": [
       "<Figure size 432x288 with 1 Axes>"
      ]
     },
     "metadata": {
      "needs_background": "light"
     },
     "output_type": "display_data"
    }
   ],
   "source": [
    "train['form_field1'].hist()"
   ]
  },
  {
   "cell_type": "code",
   "execution_count": 106,
   "metadata": {},
   "outputs": [
    {
     "data": {
      "text/plain": [
       "<matplotlib.axes._subplots.AxesSubplot at 0x15a74208>"
      ]
     },
     "execution_count": 106,
     "metadata": {},
     "output_type": "execute_result"
    },
    {
     "data": {
      "image/png": "[encoded data removed]",
      "text/plain": [
       "<Figure size 432x288 with 1 Axes>"
      ]
     },
     "metadata": {
      "needs_background": "light"
     },
     "output_type": "display_data"
    }
   ],
   "source": [
    "train['form_field2'].hist()"
   ]
  },
  {
   "cell_type": "code",
   "execution_count": 107,
   "metadata": {},
   "outputs": [
    {
     "data": {
      "text/plain": [
       "<matplotlib.axes._subplots.AxesSubplot at 0x15f473c8>"
      ]
     },
     "execution_count": 107,
     "metadata": {},
     "output_type": "execute_result"
    },
    {
     "data": {
      "image/png": "[encoded data removed]",
      "text/plain": [
       "<Figure size 432x288 with 1 Axes>"
      ]
     },
     "metadata": {
      "needs_background": "light"
     },
     "output_type": "display_data"
    }
   ],
   "source": [
    "train['form_field3'].hist()"
   ]
  },
  {
   "cell_type": "code",
   "execution_count": 108,
   "metadata": {},
   "outputs": [
    {
     "data": {
      "text/plain": [
       "<matplotlib.axes._subplots.AxesSubplot at 0xbd40308>"
      ]
     },
     "execution_count": 108,
     "metadata": {},
     "output_type": "execute_result"
    },
    {
     "data": {
      "image/png": "[encoded data removed]",
      "text/plain": [
       "<Figure size 432x288 with 1 Axes>"
      ]
     },
     "metadata": {
      "needs_background": "light"
     },
     "output_type": "display_data"
    }
   ],
   "source": [
    "train['form_field4'].hist()"
   ]
  },
  {
   "cell_type": "code",
   "execution_count": 109,
   "metadata": {},
   "outputs": [
    {
     "data": {
      "text/plain": [
       "<matplotlib.axes._subplots.AxesSubplot at 0x11ea0988>"
      ]
     },
     "execution_count": 109,
     "metadata": {},
     "output_type": "execute_result"
    },
    {
     "data": {
      "image/png": "[encoded data removed]",
      "text/plain": [
       "<Figure size 432x288 with 1 Axes>"
      ]
     },
     "metadata": {
      "needs_background": "light"
     },
     "output_type": "display_data"
    }
   ],
   "source": [
    "train['form_field5'].hist()"
   ]
  },
  {
   "cell_type": "code",
   "execution_count": 110,
   "metadata": {},
   "outputs": [
    {
     "data": {
      "text/plain": [
       "<matplotlib.axes._subplots.AxesSubplot at 0x11f3e148>"
      ]
     },
     "execution_count": 110,
     "metadata": {},
     "output_type": "execute_result"
    },
    {
     "data": {
      "image/png": "[encoded data removed]",
      "text/plain": [
       "<Figure size 432x288 with 1 Axes>"
      ]
     },
     "metadata": {
      "needs_background": "light"
     },
     "output_type": "display_data"
    }
   ],
   "source": [
    "train['form_field6'].hist()"
   ]
  },
  {
   "cell_type": "code",
   "execution_count": 111,
   "metadata": {},
   "outputs": [
    {
     "data": {
      "text/plain": [
       "<matplotlib.axes._subplots.AxesSubplot at 0x148a1c08>"
      ]
     },
     "execution_count": 111,
     "metadata": {},
     "output_type": "execute_result"
    },
    {
     "data": {
      "image/png": "[encoded data removed]",
      "text/plain": [
       "<Figure size 432x288 with 1 Axes>"
      ]
     },
     "metadata": {
      "needs_background": "light"
     },
     "output_type": "display_data"
    }
   ],
   "source": [
    "train['form_field7'].hist()"
   ]
  },
  {
   "cell_type": "code",
   "execution_count": 112,
   "metadata": {},
   "outputs": [
    {
     "data": {
      "text/plain": [
       "<matplotlib.axes._subplots.AxesSubplot at 0x14c13f08>"
      ]
     },
     "execution_count": 112,
     "metadata": {},
     "output_type": "execute_result"
    },
    {
     "data": {
      "image/png": "[encoded data removed]",
      "text/plain": [
       "<Figure size 432x288 with 1 Axes>"
      ]
     },
     "metadata": {
      "needs_background": "light"
     },
     "output_type": "display_data"
    }
   ],
   "source": [
    "train['form_field8'].hist()"
   ]
  },
  {
   "cell_type": "code",
   "execution_count": 113,
   "metadata": {},
   "outputs": [
    {
     "data": {
      "text/plain": [
       "<matplotlib.axes._subplots.AxesSubplot at 0x1537c688>"
      ]
     },
     "execution_count": 113,
     "metadata": {},
     "output_type": "execute_result"
    },
    {
     "data": {
      "image/png": "[encoded data removed]",
      "text/plain": [
       "<Figure size 432x288 with 1 Axes>"
      ]
     },
     "metadata": {
      "needs_background": "light"
     },
     "output_type": "display_data"
    }
   ],
   "source": [
    "train['form_field9'].hist()"
   ]
  },
  {
   "cell_type": "code",
   "execution_count": 114,
   "metadata": {},
   "outputs": [
    {
     "data": {
      "text/plain": [
       "<matplotlib.axes._subplots.AxesSubplot at 0x153e3548>"
      ]
     },
     "execution_count": 114,
     "metadata": {},
     "output_type": "execute_result"
    },
    {
     "data": {
      "image/png": "[encoded data removed]",
      "text/plain": [
       "<Figure size 432x288 with 1 Axes>"
      ]
     },
     "metadata": {
      "needs_background": "light"
     },
     "output_type": "display_data"
    }
   ],
   "source": [
    "train['form_field10'].hist()"
   ]
  },
  {
   "cell_type": "code",
   "execution_count": 115,
   "metadata": {},
   "outputs": [
    {
     "data": {
      "text/plain": [
       "<matplotlib.axes._subplots.AxesSubplot at 0x1609f648>"
      ]
     },
     "execution_count": 115,
     "metadata": {},
     "output_type": "execute_result"
    },
    {
     "data": {
      "image/png": "[encoded data removed]",
      "text/plain": [
       "<Figure size 432x288 with 1 Axes>"
      ]
     },
     "metadata": {
      "needs_background": "light"
     },
     "output_type": "display_data"
    }
   ],
   "source": [
    "train['form_field11'].hist()"
   ]
  },
  {
   "cell_type": "code",
   "execution_count": 116,
   "metadata": {},
   "outputs": [
    {
     "data": {
      "text/plain": [
       "<matplotlib.axes._subplots.AxesSubplot at 0x160f6648>"
      ]
     },
     "execution_count": 116,
     "metadata": {},
     "output_type": "execute_result"
    },
    {
     "data": {
      "image/png": "[encoded data removed]",
      "text/plain": [
       "<Figure size 432x288 with 1 Axes>"
      ]
     },
     "metadata": {
      "needs_background": "light"
     },
     "output_type": "display_data"
    }
   ],
   "source": [
    "train['form_field12'].hist()"
   ]
  },
  {
   "cell_type": "code",
   "execution_count": 117,
   "metadata": {},
   "outputs": [
    {
     "data": {
      "text/plain": [
       "<matplotlib.axes._subplots.AxesSubplot at 0x153ed0c8>"
      ]
     },
     "execution_count": 117,
     "metadata": {},
     "output_type": "execute_result"
    },
    {
     "data": {
      "image/png": "[encoded data removed]",
      "text/plain": [
       "<Figure size 432x288 with 1 Axes>"
      ]
     },
     "metadata": {
      "needs_background": "light"
     },
     "output_type": "display_data"
    }
   ],
   "source": [
    "train['form_field13'].hist()"
   ]
  },
  {
   "cell_type": "code",
   "execution_count": 118,
   "metadata": {},
   "outputs": [
    {
     "data": {
      "text/plain": [
       "<matplotlib.axes._subplots.AxesSubplot at 0x168a8708>"
      ]
     },
     "execution_count": 118,
     "metadata": {},
     "output_type": "execute_result"
    },
    {
     "data": {
      "image/png": "[encoded data removed]",
      "text/plain": [
       "<Figure size 432x288 with 1 Axes>"
      ]
     },
     "metadata": {
      "needs_background": "light"
     },
     "output_type": "display_data"
    }
   ],
   "source": [
    "train['form_field14'].hist()"
   ]
  },
  {
   "cell_type": "code",
   "execution_count": 119,
   "metadata": {},
   "outputs": [
    {
     "data": {
      "text/plain": [
       "<matplotlib.axes._subplots.AxesSubplot at 0x1691dd48>"
      ]
     },
     "execution_count": 119,
     "metadata": {},
     "output_type": "execute_result"
    },
    {
     "data": {
      "image/png": "[encoded data removed]",
      "text/plain": [
       "<Figure size 432x288 with 1 Axes>"
      ]
     },
     "metadata": {
      "needs_background": "light"
     },
     "output_type": "display_data"
    }
   ],
   "source": [
    "train['form_field15'].hist()"
   ]
  },
  {
   "cell_type": "code",
   "execution_count": 120,
   "metadata": {},
   "outputs": [
    {
     "data": {
      "text/plain": [
       "<matplotlib.axes._subplots.AxesSubplot at 0x16980348>"
      ]
     },
     "execution_count": 120,
     "metadata": {},
     "output_type": "execute_result"
    },
    {
     "data": {
      "image/png": "[encoded data removed]",
      "text/plain": [
       "<Figure size 432x288 with 1 Axes>"
      ]
     },
     "metadata": {
      "needs_background": "light"
     },
     "output_type": "display_data"
    }
   ],
   "source": [
    "train['form_field16'].hist()"
   ]
  },
  {
   "cell_type": "code",
   "execution_count": 121,
   "metadata": {},
   "outputs": [
    {
     "data": {
      "text/plain": [
       "<matplotlib.axes._subplots.AxesSubplot at 0x16a2c9c8>"
      ]
     },
     "execution_count": 121,
     "metadata": {},
     "output_type": "execute_result"
    },
    {
     "data": {
      "image/png": "[encoded data removed]",
      "text/plain": [
       "<Figure size 432x288 with 1 Axes>"
      ]
     },
     "metadata": {
      "needs_background": "light"
     },
     "output_type": "display_data"
    }
   ],
   "source": [
    "train['form_field17'].hist()"
   ]
  },
  {
   "cell_type": "code",
   "execution_count": 122,
   "metadata": {},
   "outputs": [
    {
     "data": {
      "text/plain": [
       "<matplotlib.axes._subplots.AxesSubplot at 0x16ac8348>"
      ]
     },
     "execution_count": 122,
     "metadata": {},
     "output_type": "execute_result"
    },
    {
     "data": {
      "image/png": "[encoded data removed]",
      "text/plain": [
       "<Figure size 432x288 with 1 Axes>"
      ]
     },
     "metadata": {
      "needs_background": "light"
     },
     "output_type": "display_data"
    }
   ],
   "source": [
    "train['form_field18'].hist()"
   ]
  },
  {
   "cell_type": "code",
   "execution_count": 123,
   "metadata": {},
   "outputs": [
    {
     "data": {
      "text/plain": [
       "<matplotlib.axes._subplots.AxesSubplot at 0x16b339c8>"
      ]
     },
     "execution_count": 123,
     "metadata": {},
     "output_type": "execute_result"
    },
    {
     "data": {
      "image/png": "[encoded data removed]",
      "text/plain": [
       "<Figure size 432x288 with 1 Axes>"
      ]
     },
     "metadata": {
      "needs_background": "light"
     },
     "output_type": "display_data"
    }
   ],
   "source": [
    "train['form_field19'].hist()"
   ]
  },
  {
   "cell_type": "code",
   "execution_count": 124,
   "metadata": {},
   "outputs": [
    {
     "data": {
      "text/plain": [
       "<matplotlib.axes._subplots.AxesSubplot at 0x16bc7f08>"
      ]
     },
     "execution_count": 124,
     "metadata": {},
     "output_type": "execute_result"
    },
    {
     "data": {
      "image/png": "[encoded data removed]",
      "text/plain": [
       "<Figure size 432x288 with 1 Axes>"
      ]
     },
     "metadata": {
      "needs_background": "light"
     },
     "output_type": "display_data"
    }
   ],
   "source": [
    "train['form_field20'].hist()"
   ]
  },
  {
   "cell_type": "code",
   "execution_count": 125,
   "metadata": {},
   "outputs": [
    {
     "data": {
      "text/plain": [
       "<matplotlib.axes._subplots.AxesSubplot at 0x16b3c388>"
      ]
     },
     "execution_count": 125,
     "metadata": {},
     "output_type": "execute_result"
    },
    {
     "data": {
      "image/png": "[encoded data removed]",
      "text/plain": [
       "<Figure size 432x288 with 1 Axes>"
      ]
     },
     "metadata": {
      "needs_background": "light"
     },
     "output_type": "display_data"
    }
   ],
   "source": [
    "train['form_field21'].hist()"
   ]
  },
  {
   "cell_type": "code",
   "execution_count": 126,
   "metadata": {},
   "outputs": [
    {
     "data": {
      "text/plain": [
       "<matplotlib.axes._subplots.AxesSubplot at 0x16caf348>"
      ]
     },
     "execution_count": 126,
     "metadata": {},
     "output_type": "execute_result"
    },
    {
     "data": {
      "image/png": "[encoded data removed]",
      "text/plain": [
       "<Figure size 432x288 with 1 Axes>"
      ]
     },
     "metadata": {
      "needs_background": "light"
     },
     "output_type": "display_data"
    }
   ],
   "source": [
    "train['form_field22'].hist()"
   ]
  },
  {
   "cell_type": "code",
   "execution_count": 127,
   "metadata": {},
   "outputs": [
    {
     "data": {
      "text/plain": [
       "<matplotlib.axes._subplots.AxesSubplot at 0x16d39f48>"
      ]
     },
     "execution_count": 127,
     "metadata": {},
     "output_type": "execute_result"
    },
    {
     "data": {
      "image/png": "[encoded data removed]",
      "text/plain": [
       "<Figure size 432x288 with 1 Axes>"
      ]
     },
     "metadata": {
      "needs_background": "light"
     },
     "output_type": "display_data"
    }
   ],
   "source": [
    "train['form_field23'].hist()"
   ]
  },
  {
   "cell_type": "code",
   "execution_count": 128,
   "metadata": {},
   "outputs": [
    {
     "data": {
      "text/plain": [
       "<matplotlib.axes._subplots.AxesSubplot at 0x16d4ed48>"
      ]
     },
     "execution_count": 128,
     "metadata": {},
     "output_type": "execute_result"
    },
    {
     "data": {
      "image/png": "[encoded data removed]",
      "text/plain": [
       "<Figure size 432x288 with 1 Axes>"
      ]
     },
     "metadata": {
      "needs_background": "light"
     },
     "output_type": "display_data"
    }
   ],
   "source": [
    "train['form_field24'].hist()"
   ]
  },
  {
   "cell_type": "code",
   "execution_count": 129,
   "metadata": {},
   "outputs": [
    {
     "data": {
      "text/plain": [
       "<matplotlib.axes._subplots.AxesSubplot at 0x16e0c1c8>"
      ]
     },
     "execution_count": 129,
     "metadata": {},
     "output_type": "execute_result"
    },
    {
     "data": {
      "image/png": "[encoded data removed]",
      "text/plain": [
       "<Figure size 432x288 with 1 Axes>"
      ]
     },
     "metadata": {
      "needs_background": "light"
     },
     "output_type": "display_data"
    }
   ],
   "source": [
    "train['form_field25'].hist()"
   ]
  },
  {
   "cell_type": "code",
   "execution_count": 130,
   "metadata": {},
   "outputs": [
    {
     "data": {
      "text/plain": [
       "<matplotlib.axes._subplots.AxesSubplot at 0x16e68f88>"
      ]
     },
     "execution_count": 130,
     "metadata": {},
     "output_type": "execute_result"
    },
    {
     "data": {
      "image/png": "[encoded data removed]",
      "text/plain": [
       "<Figure size 432x288 with 1 Axes>"
      ]
     },
     "metadata": {
      "needs_background": "light"
     },
     "output_type": "display_data"
    }
   ],
   "source": [
    "train['form_field26'].hist()"
   ]
  },
  {
   "cell_type": "code",
   "execution_count": 131,
   "metadata": {},
   "outputs": [
    {
     "data": {
      "text/plain": [
       "<matplotlib.axes._subplots.AxesSubplot at 0x15e7a608>"
      ]
     },
     "execution_count": 131,
     "metadata": {},
     "output_type": "execute_result"
    },
    {
     "data": {
      "image/png": "[encoded data removed]",
      "text/plain": [
       "<Figure size 432x288 with 1 Axes>"
      ]
     },
     "metadata": {
      "needs_background": "light"
     },
     "output_type": "display_data"
    }
   ],
   "source": [
    "train['form_field27'].hist()"
   ]
  },
  {
   "cell_type": "code",
   "execution_count": 132,
   "metadata": {},
   "outputs": [
    {
     "data": {
      "text/plain": [
       "<matplotlib.axes._subplots.AxesSubplot at 0x15b34348>"
      ]
     },
     "execution_count": 132,
     "metadata": {},
     "output_type": "execute_result"
    },
    {
     "data": {
      "image/png": "[encoded data removed]",
      "text/plain": [
       "<Figure size 432x288 with 1 Axes>"
      ]
     },
     "metadata": {
      "needs_background": "light"
     },
     "output_type": "display_data"
    }
   ],
   "source": [
    "train['form_field28'].hist()"
   ]
  },
  {
   "cell_type": "code",
   "execution_count": 133,
   "metadata": {},
   "outputs": [
    {
     "data": {
      "text/plain": [
       "<matplotlib.axes._subplots.AxesSubplot at 0x15c5b688>"
      ]
     },
     "execution_count": 133,
     "metadata": {},
     "output_type": "execute_result"
    },
    {
     "data": {
      "image/png": "[encoded data removed]",
      "text/plain": [
       "<Figure size 432x288 with 1 Axes>"
      ]
     },
     "metadata": {
      "needs_background": "light"
     },
     "output_type": "display_data"
    }
   ],
   "source": [
    "train['form_field29'].hist()"
   ]
  },
  {
   "cell_type": "code",
   "execution_count": 134,
   "metadata": {},
   "outputs": [
    {
     "data": {
      "text/plain": [
       "<matplotlib.axes._subplots.AxesSubplot at 0x15c2a6c8>"
      ]
     },
     "execution_count": 134,
     "metadata": {},
     "output_type": "execute_result"
    },
    {
     "data": {
      "image/png": "[encoded data removed]",
      "text/plain": [
       "<Figure size 432x288 with 1 Axes>"
      ]
     },
     "metadata": {
      "needs_background": "light"
     },
     "output_type": "display_data"
    }
   ],
   "source": [
    "train['form_field30'].hist()"
   ]
  },
  {
   "cell_type": "code",
   "execution_count": 135,
   "metadata": {},
   "outputs": [
    {
     "data": {
      "text/plain": [
       "<matplotlib.axes._subplots.AxesSubplot at 0x15b79608>"
      ]
     },
     "execution_count": 135,
     "metadata": {},
     "output_type": "execute_result"
    },
    {
     "data": {
      "image/png": "[encoded data removed]",
      "text/plain": [
       "<Figure size 432x288 with 1 Axes>"
      ]
     },
     "metadata": {
      "needs_background": "light"
     },
     "output_type": "display_data"
    }
   ],
   "source": [
    "train['form_field31'].hist()"
   ]
  },
  {
   "cell_type": "code",
   "execution_count": 136,
   "metadata": {},
   "outputs": [
    {
     "data": {
      "text/plain": [
       "<matplotlib.axes._subplots.AxesSubplot at 0x15beea08>"
      ]
     },
     "execution_count": 136,
     "metadata": {},
     "output_type": "execute_result"
    },
    {
     "data": {
      "image/png": "[encoded data removed]",
      "text/plain": [
       "<Figure size 432x288 with 1 Axes>"
      ]
     },
     "metadata": {
      "needs_background": "light"
     },
     "output_type": "display_data"
    }
   ],
   "source": [
    "train['form_field32'].hist()"
   ]
  },
  {
   "cell_type": "code",
   "execution_count": 137,
   "metadata": {},
   "outputs": [
    {
     "data": {
      "text/plain": [
       "<matplotlib.axes._subplots.AxesSubplot at 0x15def948>"
      ]
     },
     "execution_count": 137,
     "metadata": {},
     "output_type": "execute_result"
    },
    {
     "data": {
      "image/png": "[encoded data removed]",
      "text/plain": [
       "<Figure size 432x288 with 1 Axes>"
      ]
     },
     "metadata": {
      "needs_background": "light"
     },
     "output_type": "display_data"
    }
   ],
   "source": [
    "train['form_field33'].hist()"
   ]
  },
  {
   "cell_type": "code",
   "execution_count": 138,
   "metadata": {},
   "outputs": [
    {
     "data": {
      "text/plain": [
       "<matplotlib.axes._subplots.AxesSubplot at 0x15ec6548>"
      ]
     },
     "execution_count": 138,
     "metadata": {},
     "output_type": "execute_result"
    },
    {
     "data": {
      "image/png": "[encoded data removed]",
      "text/plain": [
       "<Figure size 432x288 with 1 Axes>"
      ]
     },
     "metadata": {
      "needs_background": "light"
     },
     "output_type": "display_data"
    }
   ],
   "source": [
    "train['form_field34'].hist()"
   ]
  },
  {
   "cell_type": "code",
   "execution_count": 139,
   "metadata": {},
   "outputs": [
    {
     "data": {
      "text/plain": [
       "<matplotlib.axes._subplots.AxesSubplot at 0x15f83848>"
      ]
     },
     "execution_count": 139,
     "metadata": {},
     "output_type": "execute_result"
    },
    {
     "data": {
      "image/png": "[encoded data removed]",
      "text/plain": [
       "<Figure size 432x288 with 1 Axes>"
      ]
     },
     "metadata": {
      "needs_background": "light"
     },
     "output_type": "display_data"
    }
   ],
   "source": [
    "train['form_field35'].hist()"
   ]
  },
  {
   "cell_type": "code",
   "execution_count": 140,
   "metadata": {},
   "outputs": [
    {
     "data": {
      "text/plain": [
       "<matplotlib.axes._subplots.AxesSubplot at 0x162c5d48>"
      ]
     },
     "execution_count": 140,
     "metadata": {},
     "output_type": "execute_result"
    },
    {
     "data": {
      "image/png": "[encoded data removed]",
      "text/plain": [
       "<Figure size 432x288 with 1 Axes>"
      ]
     },
     "metadata": {
      "needs_background": "light"
     },
     "output_type": "display_data"
    }
   ],
   "source": [
    "train['form_field36'].hist()"
   ]
  },
  {
   "cell_type": "code",
   "execution_count": 141,
   "metadata": {},
   "outputs": [
    {
     "data": {
      "text/plain": [
       "<matplotlib.axes._subplots.AxesSubplot at 0x16f30108>"
      ]
     },
     "execution_count": 141,
     "metadata": {},
     "output_type": "execute_result"
    },
    {
     "data": {
      "image/png": "[encoded data removed]",
      "text/plain": [
       "<Figure size 432x288 with 1 Axes>"
      ]
     },
     "metadata": {
      "needs_background": "light"
     },
     "output_type": "display_data"
    }
   ],
   "source": [
    "train['form_field37'].hist()"
   ]
  },
  {
   "cell_type": "code",
   "execution_count": 142,
   "metadata": {},
   "outputs": [
    {
     "data": {
      "text/plain": [
       "<matplotlib.axes._subplots.AxesSubplot at 0x16f98f88>"
      ]
     },
     "execution_count": 142,
     "metadata": {},
     "output_type": "execute_result"
    },
    {
     "data": {
      "image/png": "[encoded data removed]",
      "text/plain": [
       "<Figure size 432x288 with 1 Axes>"
      ]
     },
     "metadata": {
      "needs_background": "light"
     },
     "output_type": "display_data"
    }
   ],
   "source": [
    "train['form_field38'].hist()"
   ]
  },
  {
   "cell_type": "code",
   "execution_count": 143,
   "metadata": {},
   "outputs": [
    {
     "data": {
      "text/plain": [
       "<matplotlib.axes._subplots.AxesSubplot at 0x17043748>"
      ]
     },
     "execution_count": 143,
     "metadata": {},
     "output_type": "execute_result"
    },
    {
     "data": {
      "image/png": "[encoded data removed]",
      "text/plain": [
       "<Figure size 432x288 with 1 Axes>"
      ]
     },
     "metadata": {
      "needs_background": "light"
     },
     "output_type": "display_data"
    }
   ],
   "source": [
    "train['form_field41'].hist()"
   ]
  },
  {
   "cell_type": "code",
   "execution_count": 144,
   "metadata": {},
   "outputs": [
    {
     "data": {
      "text/plain": [
       "<matplotlib.axes._subplots.AxesSubplot at 0x170b10c8>"
      ]
     },
     "execution_count": 144,
     "metadata": {},
     "output_type": "execute_result"
    },
    {
     "data": {
      "image/png": "[encoded data removed]",
      "text/plain": [
       "<Figure size 432x288 with 1 Axes>"
      ]
     },
     "metadata": {
      "needs_background": "light"
     },
     "output_type": "display_data"
    }
   ],
   "source": [
    "train['form_field42'].hist()"
   ]
  },
  {
   "cell_type": "code",
   "execution_count": 145,
   "metadata": {},
   "outputs": [
    {
     "data": {
      "text/plain": [
       "<matplotlib.axes._subplots.AxesSubplot at 0x1713a7c8>"
      ]
     },
     "execution_count": 145,
     "metadata": {},
     "output_type": "execute_result"
    },
    {
     "data": {
      "image/png": "[encoded data removed]",
      "text/plain": [
       "<Figure size 432x288 with 1 Axes>"
      ]
     },
     "metadata": {
      "needs_background": "light"
     },
     "output_type": "display_data"
    }
   ],
   "source": [
    "train['form_field43'].hist()"
   ]
  },
  {
   "cell_type": "code",
   "execution_count": 146,
   "metadata": {},
   "outputs": [
    {
     "data": {
      "text/plain": [
       "<matplotlib.axes._subplots.AxesSubplot at 0x1713af48>"
      ]
     },
     "execution_count": 146,
     "metadata": {},
     "output_type": "execute_result"
    },
    {
     "data": {
      "image/png": "[encoded data removed]",
      "text/plain": [
       "<Figure size 432x288 with 1 Axes>"
      ]
     },
     "metadata": {
      "needs_background": "light"
     },
     "output_type": "display_data"
    }
   ],
   "source": [
    "train['form_field44'].hist()"
   ]
  },
  {
   "cell_type": "code",
   "execution_count": 147,
   "metadata": {},
   "outputs": [
    {
     "data": {
      "text/plain": [
       "<matplotlib.axes._subplots.AxesSubplot at 0x17262808>"
      ]
     },
     "execution_count": 147,
     "metadata": {},
     "output_type": "execute_result"
    },
    {
     "data": {
      "image/png": "[encoded data removed]",
      "text/plain": [
       "<Figure size 432x288 with 1 Axes>"
      ]
     },
     "metadata": {
      "needs_background": "light"
     },
     "output_type": "display_data"
    }
   ],
   "source": [
    "train['form_field45'].hist()"
   ]
  },
  {
   "cell_type": "code",
   "execution_count": 148,
   "metadata": {},
   "outputs": [
    {
     "data": {
      "text/plain": [
       "<matplotlib.axes._subplots.AxesSubplot at 0x172d9d88>"
      ]
     },
     "execution_count": 148,
     "metadata": {},
     "output_type": "execute_result"
    },
    {
     "data": {
      "image/png": "[encoded data removed]",
      "text/plain": [
       "<Figure size 432x288 with 1 Axes>"
      ]
     },
     "metadata": {
      "needs_background": "light"
     },
     "output_type": "display_data"
    }
   ],
   "source": [
    "train['form_field46'].hist()"
   ]
  },
  {
   "cell_type": "code",
   "execution_count": 149,
   "metadata": {},
   "outputs": [
    {
     "data": {
      "text/plain": [
       "<matplotlib.axes._subplots.AxesSubplot at 0x1735eb08>"
      ]
     },
     "execution_count": 149,
     "metadata": {},
     "output_type": "execute_result"
    },
    {
     "data": {
      "image/png": "[encoded data removed]",
      "text/plain": [
       "<Figure size 432x288 with 1 Axes>"
      ]
     },
     "metadata": {
      "needs_background": "light"
     },
     "output_type": "display_data"
    }
   ],
   "source": [
    "train['form_field48'].hist()"
   ]
  },
  {
   "cell_type": "code",
   "execution_count": 150,
   "metadata": {},
   "outputs": [
    {
     "data": {
      "text/plain": [
       "<matplotlib.axes._subplots.AxesSubplot at 0x173c1dc8>"
      ]
     },
     "execution_count": 150,
     "metadata": {},
     "output_type": "execute_result"
    },
    {
     "data": {
      "image/png": "[encoded data removed]",
      "text/plain": [
       "<Figure size 432x288 with 1 Axes>"
      ]
     },
     "metadata": {
      "needs_background": "light"
     },
     "output_type": "display_data"
    }
   ],
   "source": [
    "train['form_field49'].hist()"
   ]
  },
  {
   "cell_type": "code",
   "execution_count": 158,
   "metadata": {},
   "outputs": [
    {
     "data": {
      "text/plain": [
       "<matplotlib.axes._subplots.AxesSubplot at 0x456c7c48>"
      ]
     },
     "execution_count": 158,
     "metadata": {},
     "output_type": "execute_result"
    },
    {
     "data": {
      "image/png": "[encoded data removed]",
      "text/plain": [
       "<Figure size 432x288 with 1 Axes>"
      ]
     },
     "metadata": {
      "needs_background": "light"
     },
     "output_type": "display_data"
    }
   ],
   "source": [
    "train['form_field50'].hist()"
   ]
  },
  {
   "cell_type": "code",
   "execution_count": 156,
   "metadata": {},
   "outputs": [],
   "source": [
    "#features = train.select_dtypes(exclude = object).columns.drop(['default_status'])\n",
    "#subplot = plt.subplots(figsize=(20,15))\n",
    "#for i,j in enumerate(features):\n",
    "#    plt.subplot(4,2,i+1)\n",
    "#    plt.subplots_adjust(hspace=0.5)\n",
    "#    sns.countplot(x=j, data=train)\n",
    "#    plt.xticks(rotation=90)"
   ]
  },
  {
   "cell_type": "code",
   "execution_count": 157,
   "metadata": {},
   "outputs": [
    {
     "data": {
      "text/plain": [
       "Index(['Applicant_ID', 'form_field1', 'form_field2', 'form_field3',\n",
       "       'form_field4', 'form_field5', 'form_field6', 'form_field7',\n",
       "       'form_field8', 'form_field9', 'form_field10', 'form_field11',\n",
       "       'form_field12', 'form_field13', 'form_field14', 'form_field15',\n",
       "       'form_field16', 'form_field17', 'form_field18', 'form_field19',\n",
       "       'form_field20', 'form_field21', 'form_field22', 'form_field23',\n",
       "       'form_field24', 'form_field25', 'form_field26', 'form_field27',\n",
       "       'form_field28', 'form_field29', 'form_field30', 'form_field31',\n",
       "       'form_field32', 'form_field33', 'form_field34', 'form_field35',\n",
       "       'form_field36', 'form_field37', 'form_field38', 'form_field39',\n",
       "       'form_field40', 'form_field41', 'form_field42', 'form_field43',\n",
       "       'form_field44', 'form_field45', 'form_field46', 'form_field47',\n",
       "       'form_field48', 'form_field49', 'form_field50', 'default_status'],\n",
       "      dtype='object')"
      ]
     },
     "execution_count": 157,
     "metadata": {},
     "output_type": "execute_result"
    }
   ],
   "source": [
    "train.columns"
   ]
  },
  {
   "cell_type": "code",
   "execution_count": 152,
   "metadata": {},
   "outputs": [
    {
     "data": {
      "text/plain": [
       "<matplotlib.axes._subplots.AxesSubplot at 0x174de248>"
      ]
     },
     "execution_count": 152,
     "metadata": {},
     "output_type": "execute_result"
    },
    {
     "data": {
      "image/png": "[encoded data removed]",
      "text/plain": [
       "<Figure size 864x720 with 2 Axes>"
      ]
     },
     "metadata": {
      "needs_background": "light"
     },
     "output_type": "display_data"
    }
   ],
   "source": [
    "corr_mat = train.corr()\n",
    "f,ax = plt.subplots(figsize = (12,10))\n",
    "sns.heatmap(corr_mat, ax=ax, linewidths = 0.1)"
   ]
  },
  {
   "cell_type": "code",
   "execution_count": 198,
   "metadata": {},
   "outputs": [],
   "source": [
    "#To fill null values\n",
    "new_features = train.select_dtypes(exclude = object).columns.drop(['default_status'])\n",
    "\n",
    "for i in new_features:\n",
    "    train[i].fillna(-999, inplace=True)\n",
    "    test_given[i].fillna(-999, inplace=True)"
   ]
  },
  {
   "cell_type": "code",
   "execution_count": 199,
   "metadata": {},
   "outputs": [],
   "source": [
    "#Performing some operations in the dataset\n",
    "\n",
    "train['form_field7-8'] = train['form_field7']-train['form_field8']\n",
    "train['form_field14-13'] = train['form_field14']-train['form_field13']\n",
    " \n",
    "test_given['form_field7-8'] = test_given['form_field7']-test_given['form_field8']\n",
    "test_given['form_field14-13'] = test_given['form_field14']-test_given['form_field13']\n"
   ]
  },
  {
   "cell_type": "code",
   "execution_count": 200,
   "metadata": {},
   "outputs": [],
   "source": [
    "#Dropping some columns\n",
    "new_features1 = train.select_dtypes(exclude = object).columns.drop(['default_status', 'form_field48','form_field49'])"
   ]
  },
  {
   "cell_type": "code",
   "execution_count": 201,
   "metadata": {},
   "outputs": [
    {
     "data": {
      "text/html": [
       "<div>\n",
       "<style scoped>\n",
       "    .dataframe tbody tr th:only-of-type {\n",
       "        vertical-align: middle;\n",
       "    }\n",
       "\n",
       "    .dataframe tbody tr th {\n",
       "        vertical-align: top;\n",
       "    }\n",
       "\n",
       "    .dataframe thead th {\n",
       "        text-align: right;\n",
       "    }\n",
       "</style>\n",
       "<table border=\"1\" class=\"dataframe\">\n",
       "  <thead>\n",
       "    <tr style=\"text-align: right;\">\n",
       "      <th></th>\n",
       "      <th>form_field1</th>\n",
       "      <th>form_field2</th>\n",
       "      <th>form_field3</th>\n",
       "      <th>form_field4</th>\n",
       "      <th>form_field5</th>\n",
       "      <th>form_field6</th>\n",
       "      <th>form_field7</th>\n",
       "      <th>form_field8</th>\n",
       "      <th>form_field9</th>\n",
       "      <th>form_field10</th>\n",
       "      <th>...</th>\n",
       "      <th>form_field41</th>\n",
       "      <th>form_field42</th>\n",
       "      <th>form_field43</th>\n",
       "      <th>form_field44</th>\n",
       "      <th>form_field45</th>\n",
       "      <th>form_field46</th>\n",
       "      <th>form_field47</th>\n",
       "      <th>form_field50</th>\n",
       "      <th>form_field7-8</th>\n",
       "      <th>form_field14-13</th>\n",
       "    </tr>\n",
       "  </thead>\n",
       "  <tbody>\n",
       "    <tr>\n",
       "      <th>0</th>\n",
       "      <td>3236.0</td>\n",
       "      <td>0.34875</td>\n",
       "      <td>10.2006</td>\n",
       "      <td>0.0000</td>\n",
       "      <td>0.0</td>\n",
       "      <td>418564.0</td>\n",
       "      <td>418564.0</td>\n",
       "      <td>418564.0</td>\n",
       "      <td>540710.0</td>\n",
       "      <td>0.0</td>\n",
       "      <td>...</td>\n",
       "      <td>-999.0000</td>\n",
       "      <td>0.825000</td>\n",
       "      <td>1.01</td>\n",
       "      <td>0.800000</td>\n",
       "      <td>-999.0</td>\n",
       "      <td>0.0</td>\n",
       "      <td>1</td>\n",
       "      <td>0.011221</td>\n",
       "      <td>0.0</td>\n",
       "      <td>48187375.0</td>\n",
       "    </tr>\n",
       "    <tr>\n",
       "      <th>1</th>\n",
       "      <td>3284.0</td>\n",
       "      <td>1.27360</td>\n",
       "      <td>2.9606</td>\n",
       "      <td>9.0198</td>\n",
       "      <td>0.0</td>\n",
       "      <td>0.0</td>\n",
       "      <td>9858816.0</td>\n",
       "      <td>49014.0</td>\n",
       "      <td>1510098.0</td>\n",
       "      <td>18308285.0</td>\n",
       "      <td>...</td>\n",
       "      <td>18.8415</td>\n",
       "      <td>0.507694</td>\n",
       "      <td>4.04</td>\n",
       "      <td>0.623248</td>\n",
       "      <td>1.0</td>\n",
       "      <td>0.0</td>\n",
       "      <td>0</td>\n",
       "      <td>0.043525</td>\n",
       "      <td>9809802.0</td>\n",
       "      <td>33298400.0</td>\n",
       "    </tr>\n",
       "    <tr>\n",
       "      <th>2</th>\n",
       "      <td>-999.0</td>\n",
       "      <td>0.27505</td>\n",
       "      <td>0.0600</td>\n",
       "      <td>0.0000</td>\n",
       "      <td>0.0</td>\n",
       "      <td>-999.0</td>\n",
       "      <td>-999.0</td>\n",
       "      <td>-999.0</td>\n",
       "      <td>-999.0</td>\n",
       "      <td>0.0</td>\n",
       "      <td>...</td>\n",
       "      <td>-999.0000</td>\n",
       "      <td>-999.000000</td>\n",
       "      <td>0.00</td>\n",
       "      <td>-999.000000</td>\n",
       "      <td>-999.0</td>\n",
       "      <td>-999.0</td>\n",
       "      <td>1</td>\n",
       "      <td>-999.000000</td>\n",
       "      <td>0.0</td>\n",
       "      <td>21974442.0</td>\n",
       "    </tr>\n",
       "    <tr>\n",
       "      <th>3</th>\n",
       "      <td>3232.0</td>\n",
       "      <td>0.28505</td>\n",
       "      <td>2.8032</td>\n",
       "      <td>0.0000</td>\n",
       "      <td>0.0</td>\n",
       "      <td>0.0</td>\n",
       "      <td>473802.0</td>\n",
       "      <td>473802.0</td>\n",
       "      <td>1724437.0</td>\n",
       "      <td>493641.0</td>\n",
       "      <td>...</td>\n",
       "      <td>-999.0000</td>\n",
       "      <td>0.916663</td>\n",
       "      <td>2.02</td>\n",
       "      <td>0.464224</td>\n",
       "      <td>-999.0</td>\n",
       "      <td>-999.0</td>\n",
       "      <td>1</td>\n",
       "      <td>0.104029</td>\n",
       "      <td>0.0</td>\n",
       "      <td>15356164.0</td>\n",
       "    </tr>\n",
       "    <tr>\n",
       "      <th>4</th>\n",
       "      <td>3466.0</td>\n",
       "      <td>2.09545</td>\n",
       "      <td>0.8318</td>\n",
       "      <td>2.5182</td>\n",
       "      <td>0.0</td>\n",
       "      <td>19839.0</td>\n",
       "      <td>1150662.0</td>\n",
       "      <td>1150662.0</td>\n",
       "      <td>7860523.0</td>\n",
       "      <td>5752921.0</td>\n",
       "      <td>...</td>\n",
       "      <td>-999.0000</td>\n",
       "      <td>0.234047</td>\n",
       "      <td>23.23</td>\n",
       "      <td>0.726688</td>\n",
       "      <td>0.0</td>\n",
       "      <td>0.0</td>\n",
       "      <td>0</td>\n",
       "      <td>0.163124</td>\n",
       "      <td>0.0</td>\n",
       "      <td>43407732.0</td>\n",
       "    </tr>\n",
       "  </tbody>\n",
       "</table>\n",
       "<p>5 rows × 50 columns</p>\n",
       "</div>"
      ],
      "text/plain": [
       "   form_field1  form_field2  form_field3  form_field4  form_field5  \\\n",
       "0       3236.0      0.34875      10.2006       0.0000          0.0   \n",
       "1       3284.0      1.27360       2.9606       9.0198          0.0   \n",
       "2       -999.0      0.27505       0.0600       0.0000          0.0   \n",
       "3       3232.0      0.28505       2.8032       0.0000          0.0   \n",
       "4       3466.0      2.09545       0.8318       2.5182          0.0   \n",
       "\n",
       "   form_field6  form_field7  form_field8  form_field9  form_field10  ...  \\\n",
       "0     418564.0     418564.0     418564.0     540710.0           0.0  ...   \n",
       "1          0.0    9858816.0      49014.0    1510098.0    18308285.0  ...   \n",
       "2       -999.0       -999.0       -999.0       -999.0           0.0  ...   \n",
       "3          0.0     473802.0     473802.0    1724437.0      493641.0  ...   \n",
       "4      19839.0    1150662.0    1150662.0    7860523.0     5752921.0  ...   \n",
       "\n",
       "   form_field41  form_field42  form_field43  form_field44  form_field45  \\\n",
       "0     -999.0000      0.825000          1.01      0.800000        -999.0   \n",
       "1       18.8415      0.507694          4.04      0.623248           1.0   \n",
       "2     -999.0000   -999.000000          0.00   -999.000000        -999.0   \n",
       "3     -999.0000      0.916663          2.02      0.464224        -999.0   \n",
       "4     -999.0000      0.234047         23.23      0.726688           0.0   \n",
       "\n",
       "   form_field46  form_field47  form_field50  form_field7-8  form_field14-13  \n",
       "0           0.0             1      0.011221            0.0       48187375.0  \n",
       "1           0.0             0      0.043525      9809802.0       33298400.0  \n",
       "2        -999.0             1   -999.000000            0.0       21974442.0  \n",
       "3        -999.0             1      0.104029            0.0       15356164.0  \n",
       "4           0.0             0      0.163124            0.0       43407732.0  \n",
       "\n",
       "[5 rows x 50 columns]"
      ]
     },
     "execution_count": 201,
     "metadata": {},
     "output_type": "execute_result"
    }
   ],
   "source": [
    "test_given_new = test_given[new_features1]\n",
    "test_given_new.head()"
   ]
  },
  {
   "cell_type": "code",
   "execution_count": 202,
   "metadata": {},
   "outputs": [
    {
     "data": {
      "text/html": [
       "<div>\n",
       "<style scoped>\n",
       "    .dataframe tbody tr th:only-of-type {\n",
       "        vertical-align: middle;\n",
       "    }\n",
       "\n",
       "    .dataframe tbody tr th {\n",
       "        vertical-align: top;\n",
       "    }\n",
       "\n",
       "    .dataframe thead th {\n",
       "        text-align: right;\n",
       "    }\n",
       "</style>\n",
       "<table border=\"1\" class=\"dataframe\">\n",
       "  <thead>\n",
       "    <tr style=\"text-align: right;\">\n",
       "      <th></th>\n",
       "      <th>form_field1</th>\n",
       "      <th>form_field2</th>\n",
       "      <th>form_field3</th>\n",
       "      <th>form_field4</th>\n",
       "      <th>form_field5</th>\n",
       "      <th>form_field6</th>\n",
       "      <th>form_field7</th>\n",
       "      <th>form_field8</th>\n",
       "      <th>form_field9</th>\n",
       "      <th>form_field10</th>\n",
       "      <th>...</th>\n",
       "      <th>form_field41</th>\n",
       "      <th>form_field42</th>\n",
       "      <th>form_field43</th>\n",
       "      <th>form_field44</th>\n",
       "      <th>form_field45</th>\n",
       "      <th>form_field46</th>\n",
       "      <th>form_field47</th>\n",
       "      <th>form_field50</th>\n",
       "      <th>form_field7-8</th>\n",
       "      <th>form_field14-13</th>\n",
       "    </tr>\n",
       "  </thead>\n",
       "  <tbody>\n",
       "    <tr>\n",
       "      <th>0</th>\n",
       "      <td>3436.0</td>\n",
       "      <td>0.28505</td>\n",
       "      <td>1.6560</td>\n",
       "      <td>0.0</td>\n",
       "      <td>0.000</td>\n",
       "      <td>0.0</td>\n",
       "      <td>10689720.0</td>\n",
       "      <td>252072.0</td>\n",
       "      <td>4272776.0</td>\n",
       "      <td>11333126.0</td>\n",
       "      <td>...</td>\n",
       "      <td>-999.0</td>\n",
       "      <td>0.392854</td>\n",
       "      <td>2.02</td>\n",
       "      <td>0.711632</td>\n",
       "      <td>0.0</td>\n",
       "      <td>0.0</td>\n",
       "      <td>1</td>\n",
       "      <td>0.044335</td>\n",
       "      <td>10437648.0</td>\n",
       "      <td>88499445.0</td>\n",
       "    </tr>\n",
       "    <tr>\n",
       "      <th>1</th>\n",
       "      <td>3456.0</td>\n",
       "      <td>0.67400</td>\n",
       "      <td>0.2342</td>\n",
       "      <td>0.0</td>\n",
       "      <td>0.000</td>\n",
       "      <td>0.0</td>\n",
       "      <td>898979.0</td>\n",
       "      <td>497531.0</td>\n",
       "      <td>9073814.0</td>\n",
       "      <td>2533168.0</td>\n",
       "      <td>...</td>\n",
       "      <td>-999.0</td>\n",
       "      <td>0.314281</td>\n",
       "      <td>8.08</td>\n",
       "      <td>0.183584</td>\n",
       "      <td>-999.0</td>\n",
       "      <td>0.0</td>\n",
       "      <td>1</td>\n",
       "      <td>0.322436</td>\n",
       "      <td>401448.0</td>\n",
       "      <td>25999982.0</td>\n",
       "    </tr>\n",
       "    <tr>\n",
       "      <th>2</th>\n",
       "      <td>3276.0</td>\n",
       "      <td>0.53845</td>\n",
       "      <td>3.1510</td>\n",
       "      <td>0.0</td>\n",
       "      <td>6.282</td>\n",
       "      <td>-999.0</td>\n",
       "      <td>956940.0</td>\n",
       "      <td>-999.0</td>\n",
       "      <td>192944.0</td>\n",
       "      <td>1079864.0</td>\n",
       "      <td>...</td>\n",
       "      <td>-999.0</td>\n",
       "      <td>0.162965</td>\n",
       "      <td>18.18</td>\n",
       "      <td>0.791136</td>\n",
       "      <td>0.0</td>\n",
       "      <td>0.0</td>\n",
       "      <td>1</td>\n",
       "      <td>0.011640</td>\n",
       "      <td>957939.0</td>\n",
       "      <td>16576457.0</td>\n",
       "    </tr>\n",
       "    <tr>\n",
       "      <th>3</th>\n",
       "      <td>3372.0</td>\n",
       "      <td>0.17005</td>\n",
       "      <td>0.5050</td>\n",
       "      <td>0.0</td>\n",
       "      <td>0.000</td>\n",
       "      <td>192166.0</td>\n",
       "      <td>3044703.0</td>\n",
       "      <td>385499.0</td>\n",
       "      <td>3986472.0</td>\n",
       "      <td>3621979.0</td>\n",
       "      <td>...</td>\n",
       "      <td>-999.0</td>\n",
       "      <td>0.488884</td>\n",
       "      <td>2.02</td>\n",
       "      <td>0.685168</td>\n",
       "      <td>-999.0</td>\n",
       "      <td>0.0</td>\n",
       "      <td>1</td>\n",
       "      <td>0.082729</td>\n",
       "      <td>2659204.0</td>\n",
       "      <td>47000536.0</td>\n",
       "    </tr>\n",
       "    <tr>\n",
       "      <th>4</th>\n",
       "      <td>3370.0</td>\n",
       "      <td>0.77270</td>\n",
       "      <td>1.1010</td>\n",
       "      <td>0.0</td>\n",
       "      <td>0.000</td>\n",
       "      <td>1556.0</td>\n",
       "      <td>214728.0</td>\n",
       "      <td>214728.0</td>\n",
       "      <td>1284089.0</td>\n",
       "      <td>361770.0</td>\n",
       "      <td>...</td>\n",
       "      <td>-999.0</td>\n",
       "      <td>0.275000</td>\n",
       "      <td>12.12</td>\n",
       "      <td>0.438168</td>\n",
       "      <td>0.0</td>\n",
       "      <td>0.0</td>\n",
       "      <td>1</td>\n",
       "      <td>0.045630</td>\n",
       "      <td>0.0</td>\n",
       "      <td>27629892.0</td>\n",
       "    </tr>\n",
       "  </tbody>\n",
       "</table>\n",
       "<p>5 rows × 50 columns</p>\n",
       "</div>"
      ],
      "text/plain": [
       "   form_field1  form_field2  form_field3  form_field4  form_field5  \\\n",
       "0       3436.0      0.28505       1.6560          0.0        0.000   \n",
       "1       3456.0      0.67400       0.2342          0.0        0.000   \n",
       "2       3276.0      0.53845       3.1510          0.0        6.282   \n",
       "3       3372.0      0.17005       0.5050          0.0        0.000   \n",
       "4       3370.0      0.77270       1.1010          0.0        0.000   \n",
       "\n",
       "   form_field6  form_field7  form_field8  form_field9  form_field10  ...  \\\n",
       "0          0.0   10689720.0     252072.0    4272776.0    11333126.0  ...   \n",
       "1          0.0     898979.0     497531.0    9073814.0     2533168.0  ...   \n",
       "2       -999.0     956940.0       -999.0     192944.0     1079864.0  ...   \n",
       "3     192166.0    3044703.0     385499.0    3986472.0     3621979.0  ...   \n",
       "4       1556.0     214728.0     214728.0    1284089.0      361770.0  ...   \n",
       "\n",
       "   form_field41  form_field42  form_field43  form_field44  form_field45  \\\n",
       "0        -999.0      0.392854          2.02      0.711632           0.0   \n",
       "1        -999.0      0.314281          8.08      0.183584        -999.0   \n",
       "2        -999.0      0.162965         18.18      0.791136           0.0   \n",
       "3        -999.0      0.488884          2.02      0.685168        -999.0   \n",
       "4        -999.0      0.275000         12.12      0.438168           0.0   \n",
       "\n",
       "   form_field46  form_field47  form_field50  form_field7-8  form_field14-13  \n",
       "0           0.0             1      0.044335     10437648.0       88499445.0  \n",
       "1           0.0             1      0.322436       401448.0       25999982.0  \n",
       "2           0.0             1      0.011640       957939.0       16576457.0  \n",
       "3           0.0             1      0.082729      2659204.0       47000536.0  \n",
       "4           0.0             1      0.045630            0.0       27629892.0  \n",
       "\n",
       "[5 rows x 50 columns]"
      ]
     },
     "execution_count": 202,
     "metadata": {},
     "output_type": "execute_result"
    }
   ],
   "source": [
    "X = train[new_features1]\n",
    "Y = train['default_status']\n",
    " \n",
    "X.head()\n"
   ]
  },
  {
   "cell_type": "markdown",
   "metadata": {},
   "source": [
    "USING CATBOOST CLASSIFIER"
   ]
  },
  {
   "cell_type": "code",
   "execution_count": 205,
   "metadata": {},
   "outputs": [],
   "source": [
    "from sklearn.model_selection import StratifiedKFold\n",
    " \n",
    "n_splits = 10\n",
    "params = {'n_estimators':4000, 'learning_rate':0.01, 'max_depth':10, 'objective':'CrossEntropy','eval_metric':'AUC',\n",
    "          'random_seed': 42,'early_stopping_rounds':200,'use_best_model':True}\n",
    "fold=StratifiedKFold(n_splits)"
   ]
  },
  {
   "cell_type": "code",
   "execution_count": 207,
   "metadata": {
    "colab": {
     "base_uri": "https://localhost:8080/",
     "height": 1000
    },
    "id": "B5riE7ZCs7qr",
    "outputId": "b24cf6f4-e701-4c31-b12f-e856182d56c0"
   },
   "outputs": [
    {
     "name": "stdout",
     "output_type": "stream",
     "text": [
      "0:\ttest: 0.7944326\tbest: 0.7944326 (0)\ttotal: 729ms\tremaining: 48m 34s\n",
      "100:\ttest: 0.8225645\tbest: 0.8225645 (100)\ttotal: 35.8s\tremaining: 23m 1s\n",
      "200:\ttest: 0.8251712\tbest: 0.8251712 (200)\ttotal: 1m 9s\tremaining: 21m 49s\n",
      "300:\ttest: 0.8267088\tbest: 0.8267088 (300)\ttotal: 1m 44s\tremaining: 21m 28s\n",
      "400:\ttest: 0.8281400\tbest: 0.8281400 (400)\ttotal: 2m 21s\tremaining: 21m 5s\n",
      "500:\ttest: 0.8292528\tbest: 0.8292653 (497)\ttotal: 2m 57s\tremaining: 20m 41s\n",
      "600:\ttest: 0.8298023\tbest: 0.8298023 (600)\ttotal: 3m 34s\tremaining: 20m 13s\n",
      "700:\ttest: 0.8305057\tbest: 0.8305273 (699)\ttotal: 4m 11s\tremaining: 19m 44s\n",
      "800:\ttest: 0.8312292\tbest: 0.8312292 (800)\ttotal: 4m 48s\tremaining: 19m 13s\n",
      "900:\ttest: 0.8316989\tbest: 0.8317179 (895)\ttotal: 5m 25s\tremaining: 18m 40s\n",
      "1000:\ttest: 0.8321799\tbest: 0.8321934 (997)\ttotal: 6m 2s\tremaining: 18m 7s\n",
      "1100:\ttest: 0.8324755\tbest: 0.8324905 (1085)\ttotal: 6m 40s\tremaining: 17m 34s\n",
      "1200:\ttest: 0.8326145\tbest: 0.8326161 (1186)\ttotal: 7m 17s\tremaining: 16m 59s\n",
      "1300:\ttest: 0.8329131\tbest: 0.8329250 (1293)\ttotal: 7m 54s\tremaining: 16m 24s\n",
      "1400:\ttest: 0.8330343\tbest: 0.8330842 (1350)\ttotal: 8m 31s\tremaining: 15m 49s\n",
      "1500:\ttest: 0.8331946\tbest: 0.8332053 (1499)\ttotal: 9m 9s\tremaining: 15m 14s\n",
      "1600:\ttest: 0.8331934\tbest: 0.8332663 (1552)\ttotal: 9m 46s\tremaining: 14m 38s\n",
      "1700:\ttest: 0.8332668\tbest: 0.8333898 (1641)\ttotal: 10m 23s\tremaining: 14m 3s\n",
      "1800:\ttest: 0.8331249\tbest: 0.8333898 (1641)\ttotal: 11m 1s\tremaining: 13m 27s\n",
      "Stopped by overfitting detector  (200 iterations wait)\n",
      "\n",
      "bestTest = 0.8333898187\n",
      "bestIteration = 1641\n",
      "\n",
      "Shrink model to first 1642 iterations.\n",
      "0:\ttest: 0.8043486\tbest: 0.8043486 (0)\ttotal: 524ms\tremaining: 34m 55s\n",
      "100:\ttest: 0.8370732\tbest: 0.8370732 (100)\ttotal: 37.9s\tremaining: 24m 24s\n",
      "200:\ttest: 0.8406434\tbest: 0.8406434 (200)\ttotal: 1m 15s\tremaining: 23m 49s\n",
      "300:\ttest: 0.8426129\tbest: 0.8426129 (300)\ttotal: 1m 52s\tremaining: 23m 7s\n",
      "400:\ttest: 0.8438823\tbest: 0.8439220 (399)\ttotal: 2m 30s\tremaining: 22m 31s\n",
      "500:\ttest: 0.8449879\tbest: 0.8450244 (495)\ttotal: 3m 7s\tremaining: 21m 50s\n",
      "600:\ttest: 0.8455244\tbest: 0.8455277 (599)\ttotal: 3m 45s\tremaining: 21m 12s\n",
      "700:\ttest: 0.8462307\tbest: 0.8462452 (697)\ttotal: 4m 22s\tremaining: 20m 34s\n",
      "800:\ttest: 0.8467823\tbest: 0.8467985 (790)\ttotal: 4m 59s\tremaining: 19m 56s\n",
      "900:\ttest: 0.8470819\tbest: 0.8471381 (892)\ttotal: 5m 38s\tremaining: 19m 23s\n",
      "1000:\ttest: 0.8474665\tbest: 0.8475006 (979)\ttotal: 6m 17s\tremaining: 18m 50s\n",
      "1100:\ttest: 0.8477761\tbest: 0.8477856 (1099)\ttotal: 6m 56s\tremaining: 18m 16s\n",
      "1200:\ttest: 0.8482183\tbest: 0.8482445 (1199)\ttotal: 7m 35s\tremaining: 17m 42s\n",
      "1300:\ttest: 0.8482228\tbest: 0.8482445 (1199)\ttotal: 8m 15s\tremaining: 17m 7s\n",
      "1400:\ttest: 0.8483235\tbest: 0.8483235 (1400)\ttotal: 8m 55s\tremaining: 16m 32s\n",
      "1500:\ttest: 0.8480743\tbest: 0.8483235 (1400)\ttotal: 9m 34s\tremaining: 15m 57s\n",
      "1600:\ttest: 0.8478861\tbest: 0.8483235 (1400)\ttotal: 10m 14s\tremaining: 15m 21s\n",
      "Stopped by overfitting detector  (200 iterations wait)\n",
      "\n",
      "bestTest = 0.8483235221\n",
      "bestIteration = 1400\n",
      "\n",
      "Shrink model to first 1401 iterations.\n",
      "0:\ttest: 0.7985669\tbest: 0.7985669 (0)\ttotal: 545ms\tremaining: 36m 19s\n",
      "100:\ttest: 0.8312750\tbest: 0.8312750 (100)\ttotal: 38.3s\tremaining: 24m 36s\n",
      "200:\ttest: 0.8353340\tbest: 0.8353340 (200)\ttotal: 1m 16s\tremaining: 24m 6s\n",
      "300:\ttest: 0.8371636\tbest: 0.8371636 (300)\ttotal: 1m 55s\tremaining: 23m 38s\n",
      "400:\ttest: 0.8382968\tbest: 0.8383034 (399)\ttotal: 2m 33s\tremaining: 22m 59s\n",
      "500:\ttest: 0.8391095\tbest: 0.8391095 (500)\ttotal: 3m 11s\tremaining: 22m 20s\n",
      "600:\ttest: 0.8396421\tbest: 0.8396430 (598)\ttotal: 3m 50s\tremaining: 21m 41s\n",
      "700:\ttest: 0.8401525\tbest: 0.8401525 (700)\ttotal: 4m 28s\tremaining: 21m 4s\n",
      "800:\ttest: 0.8403612\tbest: 0.8403753 (798)\ttotal: 5m 7s\tremaining: 20m 26s\n",
      "900:\ttest: 0.8406330\tbest: 0.8406402 (899)\ttotal: 5m 45s\tremaining: 19m 46s\n",
      "1000:\ttest: 0.8408494\tbest: 0.8408494 (1000)\ttotal: 6m 23s\tremaining: 19m 10s\n",
      "1100:\ttest: 0.8410937\tbest: 0.8411147 (1082)\ttotal: 7m 2s\tremaining: 18m 32s\n",
      "1200:\ttest: 0.8413508\tbest: 0.8413962 (1186)\ttotal: 7m 40s\tremaining: 17m 52s\n",
      "1300:\ttest: 0.8417006\tbest: 0.8417428 (1287)\ttotal: 8m 17s\tremaining: 17m 12s\n",
      "1400:\ttest: 0.8416194\tbest: 0.8417428 (1287)\ttotal: 8m 55s\tremaining: 16m 33s\n",
      "Stopped by overfitting detector  (200 iterations wait)\n",
      "\n",
      "bestTest = 0.8417428443\n",
      "bestIteration = 1287\n",
      "\n",
      "Shrink model to first 1288 iterations.\n",
      "0:\ttest: 0.7929464\tbest: 0.7929464 (0)\ttotal: 541ms\tremaining: 36m 5s\n",
      "100:\ttest: 0.8245964\tbest: 0.8245964 (100)\ttotal: 38.6s\tremaining: 24m 50s\n",
      "200:\ttest: 0.8288167\tbest: 0.8288167 (200)\ttotal: 1m 16s\tremaining: 24m 4s\n",
      "300:\ttest: 0.8310875\tbest: 0.8310875 (300)\ttotal: 1m 54s\tremaining: 23m 24s\n",
      "400:\ttest: 0.8325120\tbest: 0.8325120 (400)\ttotal: 2m 31s\tremaining: 22m 40s\n",
      "500:\ttest: 0.8333668\tbest: 0.8333747 (498)\ttotal: 3m 9s\tremaining: 22m 4s\n",
      "600:\ttest: 0.8340920\tbest: 0.8341193 (599)\ttotal: 3m 47s\tremaining: 21m 27s\n",
      "700:\ttest: 0.8348576\tbest: 0.8348595 (698)\ttotal: 4m 25s\tremaining: 20m 48s\n",
      "800:\ttest: 0.8350961\tbest: 0.8351275 (787)\ttotal: 5m 2s\tremaining: 20m 9s\n",
      "900:\ttest: 0.8352931\tbest: 0.8353039 (890)\ttotal: 5m 40s\tremaining: 19m 30s\n",
      "1000:\ttest: 0.8354095\tbest: 0.8354745 (975)\ttotal: 6m 17s\tremaining: 18m 52s\n",
      "1100:\ttest: 0.8358298\tbest: 0.8358493 (1083)\ttotal: 6m 55s\tremaining: 18m 14s\n",
      "1200:\ttest: 0.8361449\tbest: 0.8361449 (1200)\ttotal: 7m 33s\tremaining: 17m 36s\n",
      "1300:\ttest: 0.8365170\tbest: 0.8365421 (1268)\ttotal: 8m 10s\tremaining: 16m 58s\n",
      "1400:\ttest: 0.8363752\tbest: 0.8365421 (1268)\ttotal: 8m 48s\tremaining: 16m 20s\n",
      "Stopped by overfitting detector  (200 iterations wait)\n",
      "\n",
      "bestTest = 0.8365421349\n",
      "bestIteration = 1268\n",
      "\n",
      "Shrink model to first 1269 iterations.\n",
      "0:\ttest: 0.8009613\tbest: 0.8009613 (0)\ttotal: 384ms\tremaining: 25m 36s\n",
      "100:\ttest: 0.8332332\tbest: 0.8332332 (100)\ttotal: 38.8s\tremaining: 24m 58s\n",
      "200:\ttest: 0.8367172\tbest: 0.8367172 (200)\ttotal: 1m 16s\tremaining: 24m 10s\n",
      "300:\ttest: 0.8386318\tbest: 0.8386318 (300)\ttotal: 1m 54s\tremaining: 23m 30s\n",
      "400:\ttest: 0.8397993\tbest: 0.8398009 (394)\ttotal: 2m 32s\tremaining: 22m 52s\n",
      "500:\ttest: 0.8406325\tbest: 0.8406325 (500)\ttotal: 3m 10s\tremaining: 22m 11s\n",
      "600:\ttest: 0.8416324\tbest: 0.8416324 (600)\ttotal: 3m 48s\tremaining: 21m 32s\n",
      "700:\ttest: 0.8422440\tbest: 0.8422786 (698)\ttotal: 4m 26s\tremaining: 20m 53s\n",
      "800:\ttest: 0.8427714\tbest: 0.8427747 (798)\ttotal: 5m 4s\tremaining: 20m 14s\n",
      "900:\ttest: 0.8432617\tbest: 0.8432617 (900)\ttotal: 5m 41s\tremaining: 19m 34s\n",
      "1000:\ttest: 0.8436312\tbest: 0.8436412 (987)\ttotal: 6m 19s\tremaining: 18m 56s\n",
      "1100:\ttest: 0.8437576\tbest: 0.8437576 (1100)\ttotal: 6m 57s\tremaining: 18m 18s\n",
      "1200:\ttest: 0.8437319\tbest: 0.8437673 (1101)\ttotal: 7m 38s\tremaining: 17m 48s\n",
      "1300:\ttest: 0.8436317\tbest: 0.8437935 (1229)\ttotal: 8m 16s\tremaining: 17m 10s\n",
      "1400:\ttest: 0.8437191\tbest: 0.8437935 (1229)\ttotal: 8m 54s\tremaining: 16m 30s\n",
      "Stopped by overfitting detector  (200 iterations wait)\n",
      "\n",
      "bestTest = 0.8437934797\n",
      "bestIteration = 1229\n",
      "\n",
      "Shrink model to first 1230 iterations.\n",
      "0:\ttest: 0.8068337\tbest: 0.8068337 (0)\ttotal: 520ms\tremaining: 34m 39s\n",
      "100:\ttest: 0.8323548\tbest: 0.8323548 (100)\ttotal: 38.2s\tremaining: 24m 35s\n",
      "200:\ttest: 0.8350899\tbest: 0.8350899 (200)\ttotal: 1m 16s\tremaining: 24m 3s\n",
      "300:\ttest: 0.8374060\tbest: 0.8374060 (300)\ttotal: 1m 53s\tremaining: 23m 17s\n",
      "400:\ttest: 0.8389408\tbest: 0.8389408 (400)\ttotal: 2m 30s\tremaining: 22m 33s\n",
      "500:\ttest: 0.8399346\tbest: 0.8399346 (500)\ttotal: 3m 8s\tremaining: 21m 55s\n",
      "600:\ttest: 0.8405657\tbest: 0.8405657 (600)\ttotal: 3m 45s\tremaining: 21m 16s\n",
      "700:\ttest: 0.8409534\tbest: 0.8409655 (699)\ttotal: 4m 23s\tremaining: 20m 39s\n",
      "800:\ttest: 0.8413535\tbest: 0.8413535 (800)\ttotal: 5m 1s\tremaining: 20m 2s\n",
      "900:\ttest: 0.8417712\tbest: 0.8417811 (899)\ttotal: 5m 38s\tremaining: 19m 24s\n",
      "1000:\ttest: 0.8418905\tbest: 0.8419381 (993)\ttotal: 6m 15s\tremaining: 18m 46s\n",
      "1100:\ttest: 0.8420441\tbest: 0.8420617 (1099)\ttotal: 6m 53s\tremaining: 18m 7s\n",
      "1200:\ttest: 0.8420443\tbest: 0.8420684 (1199)\ttotal: 7m 31s\tremaining: 17m 31s\n",
      "1300:\ttest: 0.8421515\tbest: 0.8421881 (1294)\ttotal: 8m 8s\tremaining: 16m 53s\n",
      "1400:\ttest: 0.8421557\tbest: 0.8422041 (1369)\ttotal: 8m 45s\tremaining: 16m 15s\n",
      "1500:\ttest: 0.8421358\tbest: 0.8422041 (1369)\ttotal: 9m 23s\tremaining: 15m 37s\n",
      "Stopped by overfitting detector  (200 iterations wait)\n",
      "\n",
      "bestTest = 0.8422040968\n",
      "bestIteration = 1369\n",
      "\n",
      "Shrink model to first 1370 iterations.\n"
     ]
    },
    {
     "name": "stdout",
     "output_type": "stream",
     "text": [
      "0:\ttest: 0.7799608\tbest: 0.7799608 (0)\ttotal: 515ms\tremaining: 34m 17s\n",
      "100:\ttest: 0.8109527\tbest: 0.8109527 (100)\ttotal: 38.3s\tremaining: 24m 36s\n",
      "200:\ttest: 0.8143732\tbest: 0.8143732 (200)\ttotal: 1m 16s\tremaining: 24m 5s\n",
      "300:\ttest: 0.8162736\tbest: 0.8162736 (300)\ttotal: 1m 54s\tremaining: 23m 26s\n",
      "400:\ttest: 0.8174241\tbest: 0.8174241 (400)\ttotal: 2m 31s\tremaining: 22m 42s\n",
      "500:\ttest: 0.8181921\tbest: 0.8181982 (499)\ttotal: 3m 9s\tremaining: 22m 2s\n",
      "600:\ttest: 0.8189296\tbest: 0.8189741 (592)\ttotal: 3m 49s\tremaining: 21m 36s\n",
      "700:\ttest: 0.8193630\tbest: 0.8193730 (699)\ttotal: 4m 26s\tremaining: 20m 56s\n",
      "800:\ttest: 0.8194611\tbest: 0.8194661 (791)\ttotal: 5m 4s\tremaining: 20m 15s\n",
      "900:\ttest: 0.8197185\tbest: 0.8197288 (886)\ttotal: 5m 42s\tremaining: 19m 37s\n",
      "1000:\ttest: 0.8198965\tbest: 0.8198965 (1000)\ttotal: 6m 19s\tremaining: 18m 57s\n",
      "1100:\ttest: 0.8200408\tbest: 0.8200693 (1094)\ttotal: 6m 57s\tremaining: 18m 19s\n",
      "1200:\ttest: 0.8202955\tbest: 0.8203298 (1194)\ttotal: 7m 35s\tremaining: 17m 41s\n",
      "1300:\ttest: 0.8202443\tbest: 0.8203787 (1288)\ttotal: 8m 13s\tremaining: 17m 2s\n",
      "1400:\ttest: 0.8204132\tbest: 0.8204275 (1395)\ttotal: 8m 50s\tremaining: 16m 24s\n",
      "1500:\ttest: 0.8205009\tbest: 0.8205592 (1494)\ttotal: 9m 28s\tremaining: 15m 46s\n",
      "1600:\ttest: 0.8205234\tbest: 0.8205952 (1572)\ttotal: 10m 6s\tremaining: 15m 8s\n",
      "1700:\ttest: 0.8203220\tbest: 0.8205952 (1572)\ttotal: 10m 43s\tremaining: 14m 30s\n",
      "Stopped by overfitting detector  (200 iterations wait)\n",
      "\n",
      "bestTest = 0.8205952404\n",
      "bestIteration = 1572\n",
      "\n",
      "Shrink model to first 1573 iterations.\n",
      "0:\ttest: 0.7910345\tbest: 0.7910345 (0)\ttotal: 548ms\tremaining: 36m 32s\n",
      "100:\ttest: 0.8292838\tbest: 0.8292838 (100)\ttotal: 38.3s\tremaining: 24m 37s\n",
      "200:\ttest: 0.8338091\tbest: 0.8338091 (200)\ttotal: 1m 16s\tremaining: 23m 56s\n",
      "300:\ttest: 0.8363094\tbest: 0.8363094 (300)\ttotal: 1m 53s\tremaining: 23m 18s\n",
      "400:\ttest: 0.8379976\tbest: 0.8379976 (400)\ttotal: 2m 31s\tremaining: 22m 35s\n",
      "500:\ttest: 0.8391018\tbest: 0.8391018 (500)\ttotal: 3m 8s\tremaining: 21m 58s\n",
      "600:\ttest: 0.8398813\tbest: 0.8398813 (600)\ttotal: 3m 49s\tremaining: 21m 35s\n",
      "700:\ttest: 0.8404650\tbest: 0.8404807 (699)\ttotal: 4m 26s\tremaining: 20m 55s\n",
      "800:\ttest: 0.8410015\tbest: 0.8410015 (800)\ttotal: 5m 4s\tremaining: 20m 14s\n",
      "900:\ttest: 0.8413199\tbest: 0.8414056 (879)\ttotal: 5m 41s\tremaining: 19m 33s\n",
      "1000:\ttest: 0.8416087\tbest: 0.8416214 (999)\ttotal: 6m 18s\tremaining: 18m 54s\n",
      "1100:\ttest: 0.8418366\tbest: 0.8418776 (1070)\ttotal: 6m 56s\tremaining: 18m 15s\n",
      "1200:\ttest: 0.8418791\tbest: 0.8419665 (1153)\ttotal: 7m 33s\tremaining: 17m 36s\n",
      "1300:\ttest: 0.8419166\tbest: 0.8420427 (1258)\ttotal: 8m 10s\tremaining: 16m 57s\n",
      "1400:\ttest: 0.8421586\tbest: 0.8421641 (1398)\ttotal: 8m 47s\tremaining: 16m 18s\n",
      "1500:\ttest: 0.8421051\tbest: 0.8421884 (1419)\ttotal: 9m 25s\tremaining: 15m 40s\n",
      "1600:\ttest: 0.8421877\tbest: 0.8422163 (1592)\ttotal: 10m 2s\tremaining: 15m 2s\n",
      "1700:\ttest: 0.8421944\tbest: 0.8423339 (1649)\ttotal: 10m 39s\tremaining: 14m 24s\n",
      "1800:\ttest: 0.8419834\tbest: 0.8423339 (1649)\ttotal: 11m 17s\tremaining: 13m 47s\n",
      "Stopped by overfitting detector  (200 iterations wait)\n",
      "\n",
      "bestTest = 0.8423339061\n",
      "bestIteration = 1649\n",
      "\n",
      "Shrink model to first 1650 iterations.\n",
      "0:\ttest: 0.8253074\tbest: 0.8253074 (0)\ttotal: 436ms\tremaining: 29m 3s\n",
      "100:\ttest: 0.8493012\tbest: 0.8493012 (100)\ttotal: 38.2s\tremaining: 24m 33s\n",
      "200:\ttest: 0.8526418\tbest: 0.8526680 (199)\ttotal: 1m 15s\tremaining: 23m 51s\n",
      "300:\ttest: 0.8539650\tbest: 0.8539650 (300)\ttotal: 1m 53s\tremaining: 23m 16s\n",
      "400:\ttest: 0.8550854\tbest: 0.8550862 (399)\ttotal: 2m 31s\tremaining: 22m 39s\n",
      "500:\ttest: 0.8558206\tbest: 0.8558206 (500)\ttotal: 3m 8s\tremaining: 21m 57s\n",
      "600:\ttest: 0.8563311\tbest: 0.8563311 (600)\ttotal: 3m 45s\tremaining: 21m 17s\n",
      "700:\ttest: 0.8566229\tbest: 0.8566490 (696)\ttotal: 4m 23s\tremaining: 20m 38s\n",
      "800:\ttest: 0.8570796\tbest: 0.8571289 (784)\ttotal: 5m\tremaining: 20m\n",
      "900:\ttest: 0.8572647\tbest: 0.8573046 (889)\ttotal: 5m 37s\tremaining: 19m 20s\n",
      "1000:\ttest: 0.8572803\tbest: 0.8573206 (977)\ttotal: 6m 15s\tremaining: 18m 44s\n",
      "1100:\ttest: 0.8572627\tbest: 0.8573271 (1077)\ttotal: 6m 52s\tremaining: 18m 6s\n",
      "1200:\ttest: 0.8568481\tbest: 0.8573271 (1077)\ttotal: 7m 30s\tremaining: 17m 29s\n",
      "Stopped by overfitting detector  (200 iterations wait)\n",
      "\n",
      "bestTest = 0.8573271416\n",
      "bestIteration = 1077\n",
      "\n",
      "Shrink model to first 1078 iterations.\n",
      "0:\ttest: 0.8011402\tbest: 0.8011402 (0)\ttotal: 568ms\tremaining: 37m 52s\n",
      "100:\ttest: 0.8344650\tbest: 0.8344650 (100)\ttotal: 38.6s\tremaining: 24m 51s\n",
      "200:\ttest: 0.8384051\tbest: 0.8384133 (199)\ttotal: 1m 16s\tremaining: 24m 6s\n",
      "300:\ttest: 0.8404369\tbest: 0.8404369 (300)\ttotal: 1m 53s\tremaining: 23m 17s\n",
      "400:\ttest: 0.8417540\tbest: 0.8417543 (395)\ttotal: 2m 31s\tremaining: 22m 38s\n",
      "500:\ttest: 0.8429111\tbest: 0.8429261 (499)\ttotal: 3m 9s\tremaining: 22m\n",
      "600:\ttest: 0.8438202\tbest: 0.8438202 (600)\ttotal: 3m 47s\tremaining: 21m 23s\n",
      "700:\ttest: 0.8445372\tbest: 0.8445372 (700)\ttotal: 4m 24s\tremaining: 20m 44s\n",
      "800:\ttest: 0.8451051\tbest: 0.8451051 (800)\ttotal: 5m 1s\tremaining: 20m 5s\n",
      "900:\ttest: 0.8455928\tbest: 0.8455928 (900)\ttotal: 5m 39s\tremaining: 19m 26s\n",
      "1000:\ttest: 0.8459546\tbest: 0.8459546 (1000)\ttotal: 6m 17s\tremaining: 18m 49s\n",
      "1100:\ttest: 0.8462684\tbest: 0.8462787 (1091)\ttotal: 6m 54s\tremaining: 18m 11s\n",
      "1200:\ttest: 0.8464413\tbest: 0.8464676 (1196)\ttotal: 7m 32s\tremaining: 17m 33s\n",
      "1300:\ttest: 0.8469277\tbest: 0.8469308 (1299)\ttotal: 8m 9s\tremaining: 16m 55s\n",
      "1400:\ttest: 0.8471312\tbest: 0.8471312 (1400)\ttotal: 8m 47s\tremaining: 16m 18s\n",
      "1500:\ttest: 0.8474116\tbest: 0.8474116 (1500)\ttotal: 9m 25s\tremaining: 15m 41s\n",
      "1600:\ttest: 0.8474166\tbest: 0.8474242 (1596)\ttotal: 10m 2s\tremaining: 15m 3s\n",
      "1700:\ttest: 0.8474159\tbest: 0.8474704 (1683)\ttotal: 10m 40s\tremaining: 14m 26s\n",
      "1800:\ttest: 0.8472037\tbest: 0.8474704 (1683)\ttotal: 11m 18s\tremaining: 13m 48s\n",
      "Stopped by overfitting detector  (200 iterations wait)\n",
      "\n",
      "bestTest = 0.8474704249\n",
      "bestIteration = 1683\n",
      "\n",
      "Shrink model to first 1684 iterations.\n"
     ]
    }
   ],
   "source": [
    "from sklearn.metrics import roc_auc_score\n",
    " \n",
    "def metric(Y,predictions):\n",
    "    return roc_auc_score(Y,predictions, labels=[0,1])\n",
    "\n",
    "from catboost import CatBoostClassifier\n",
    "from sklearn.metrics import roc_auc_score\n",
    " \n",
    "scores_list = []\n",
    "test_oofs = []\n",
    "score = 0 \n",
    " \n",
    "for i, (tr_index, vr_index) in enumerate(fold.split(X,Y)):\n",
    "    X_train, Y_train = X.loc[tr_index, new_features1], Y.loc[tr_index]\n",
    "    X_valid, Y_valid = X.loc[vr_index,new_features1], Y.loc[vr_index]\n",
    "    \n",
    "    cbc= CatBoostClassifier(**params)\n",
    "    cbc.fit(X_train,Y_train,eval_set=[(X_valid,Y_valid)],verbose=100)\n",
    "    \n",
    "    predictions = cbc.predict_proba(X_valid)[:,1]\n",
    "    auc = metric(Y_valid, predictions)\n",
    "    scores_list.append(auc)\n",
    "    score += auc/n_splits\n",
    "    \n",
    "    test_prediction1 = cbc.predict_proba(test_given_new[new_features1])[:,1]\n",
    "    test_oofs.append(test_prediction1)"
   ]
  },
  {
   "cell_type": "code",
   "execution_count": 1,
   "metadata": {},
   "outputs": [],
   "source": [
    "#scores"
   ]
  },
  {
   "cell_type": "code",
   "execution_count": 208,
   "metadata": {
    "id": "7xPAMUpTwDu4"
   },
   "outputs": [
    {
     "data": {
      "text/plain": [
       "[array([0.30064969, 0.39629273, 0.34561782, ..., 0.27259501, 0.53008168,\n",
       "        0.20333594]),\n",
       " array([0.31205168, 0.37870135, 0.34996592, ..., 0.27079236, 0.56755226,\n",
       "        0.20349947]),\n",
       " array([0.32024978, 0.38571125, 0.38667258, ..., 0.24888701, 0.54661887,\n",
       "        0.1680194 ]),\n",
       " array([0.31122036, 0.44493738, 0.37852077, ..., 0.25588928, 0.5123027 ,\n",
       "        0.21498019]),\n",
       " array([0.31929262, 0.43424696, 0.38164075, ..., 0.26533628, 0.56405951,\n",
       "        0.1992833 ]),\n",
       " array([0.31567073, 0.41889806, 0.39495826, ..., 0.27314625, 0.54402306,\n",
       "        0.20183657]),\n",
       " array([0.31360262, 0.38035741, 0.40355185, ..., 0.23128475, 0.54014177,\n",
       "        0.17963178]),\n",
       " array([0.27255024, 0.353732  , 0.39118801, ..., 0.24726046, 0.55516458,\n",
       "        0.20348043]),\n",
       " array([0.28608311, 0.38907548, 0.34261088, ..., 0.25775327, 0.52758092,\n",
       "        0.16837781]),\n",
       " array([0.29685325, 0.36250858, 0.35447588, ..., 0.25554551, 0.56431049,\n",
       "        0.17796779])]"
      ]
     },
     "execution_count": 208,
     "metadata": {},
     "output_type": "execute_result"
    }
   ],
   "source": [
    "oof_prediction = pd.DataFrame(test_oofs).T\n",
    "test_oofs"
   ]
  },
  {
   "cell_type": "code",
   "execution_count": 210,
   "metadata": {},
   "outputs": [],
   "source": [
    "sub['default_status'] = np.mean(test_oofs, axis = 0)\n",
    " \n",
    "sub.to_csv('Catboost_Sub.csv', index=False)"
   ]
  },
  {
   "cell_type": "code",
   "execution_count": 211,
   "metadata": {},
   "outputs": [],
   "source": [
    "from sklearn.model_selection import StratifiedKFold\n",
    " \n",
    "n_splits = 10\n",
    "params1 = {'n_estimators':4000, 'learning_rate':0.01, 'max_depth':10,\n",
    "         'seed':42,'num_leaves':18}\n",
    "fold=StratifiedKFold(n_splits)"
   ]
  },
  {
   "cell_type": "code",
   "execution_count": 214,
   "metadata": {},
   "outputs": [
    {
     "name": "stdout",
     "output_type": "stream",
     "text": [
      "[100]\tvalid_0's binary_logloss: 0.459881\n",
      "[200]\tvalid_0's binary_logloss: 0.434329\n",
      "[300]\tvalid_0's binary_logloss: 0.424523\n",
      "[400]\tvalid_0's binary_logloss: 0.420323\n",
      "[500]\tvalid_0's binary_logloss: 0.41803\n",
      "[600]\tvalid_0's binary_logloss: 0.416915\n",
      "[700]\tvalid_0's binary_logloss: 0.416158\n",
      "[800]\tvalid_0's binary_logloss: 0.41565\n",
      "[900]\tvalid_0's binary_logloss: 0.41523\n",
      "[1000]\tvalid_0's binary_logloss: 0.415088\n",
      "[1100]\tvalid_0's binary_logloss: 0.414922\n",
      "[1200]\tvalid_0's binary_logloss: 0.414769\n",
      "[1300]\tvalid_0's binary_logloss: 0.414708\n",
      "[1400]\tvalid_0's binary_logloss: 0.414514\n",
      "[1500]\tvalid_0's binary_logloss: 0.414409\n",
      "[1600]\tvalid_0's binary_logloss: 0.414202\n",
      "[1700]\tvalid_0's binary_logloss: 0.414122\n",
      "[1800]\tvalid_0's binary_logloss: 0.414098\n",
      "[1900]\tvalid_0's binary_logloss: 0.414167\n",
      "[2000]\tvalid_0's binary_logloss: 0.414186\n",
      "[2100]\tvalid_0's binary_logloss: 0.414147\n",
      "[2200]\tvalid_0's binary_logloss: 0.414147\n",
      "[2300]\tvalid_0's binary_logloss: 0.414119\n",
      "[2400]\tvalid_0's binary_logloss: 0.414111\n",
      "[2500]\tvalid_0's binary_logloss: 0.414175\n",
      "[2600]\tvalid_0's binary_logloss: 0.414142\n",
      "[2700]\tvalid_0's binary_logloss: 0.414151\n",
      "[2800]\tvalid_0's binary_logloss: 0.41425\n",
      "[2900]\tvalid_0's binary_logloss: 0.414266\n",
      "[3000]\tvalid_0's binary_logloss: 0.414361\n",
      "[3100]\tvalid_0's binary_logloss: 0.414376\n",
      "[3200]\tvalid_0's binary_logloss: 0.414377\n",
      "[3300]\tvalid_0's binary_logloss: 0.414368\n",
      "[3400]\tvalid_0's binary_logloss: 0.414417\n",
      "[3500]\tvalid_0's binary_logloss: 0.414419\n",
      "[3600]\tvalid_0's binary_logloss: 0.41438\n",
      "[3700]\tvalid_0's binary_logloss: 0.414464\n",
      "[3800]\tvalid_0's binary_logloss: 0.414524\n",
      "[3900]\tvalid_0's binary_logloss: 0.414554\n",
      "[4000]\tvalid_0's binary_logloss: 0.414518\n",
      "[100]\tvalid_0's binary_logloss: 0.451195\n",
      "[200]\tvalid_0's binary_logloss: 0.422612\n",
      "[300]\tvalid_0's binary_logloss: 0.411671\n",
      "[400]\tvalid_0's binary_logloss: 0.406364\n",
      "[500]\tvalid_0's binary_logloss: 0.403583\n",
      "[600]\tvalid_0's binary_logloss: 0.40189\n",
      "[700]\tvalid_0's binary_logloss: 0.401122\n",
      "[800]\tvalid_0's binary_logloss: 0.400671\n",
      "[900]\tvalid_0's binary_logloss: 0.40039\n",
      "[1000]\tvalid_0's binary_logloss: 0.400219\n",
      "[1100]\tvalid_0's binary_logloss: 0.400067\n",
      "[1200]\tvalid_0's binary_logloss: 0.400055\n",
      "[1300]\tvalid_0's binary_logloss: 0.39983\n",
      "[1400]\tvalid_0's binary_logloss: 0.399749\n",
      "[1500]\tvalid_0's binary_logloss: 0.399705\n",
      "[1600]\tvalid_0's binary_logloss: 0.399717\n",
      "[1700]\tvalid_0's binary_logloss: 0.399854\n",
      "[1800]\tvalid_0's binary_logloss: 0.40004\n",
      "[1900]\tvalid_0's binary_logloss: 0.400072\n",
      "[2000]\tvalid_0's binary_logloss: 0.400096\n",
      "[2100]\tvalid_0's binary_logloss: 0.400057\n",
      "[2200]\tvalid_0's binary_logloss: 0.400146\n",
      "[2300]\tvalid_0's binary_logloss: 0.400133\n",
      "[2400]\tvalid_0's binary_logloss: 0.40022\n",
      "[2500]\tvalid_0's binary_logloss: 0.400382\n",
      "[2600]\tvalid_0's binary_logloss: 0.400471\n",
      "[2700]\tvalid_0's binary_logloss: 0.400555\n",
      "[2800]\tvalid_0's binary_logloss: 0.400683\n",
      "[2900]\tvalid_0's binary_logloss: 0.40077\n",
      "[3000]\tvalid_0's binary_logloss: 0.400863\n",
      "[3100]\tvalid_0's binary_logloss: 0.400911\n",
      "[3200]\tvalid_0's binary_logloss: 0.400906\n",
      "[3300]\tvalid_0's binary_logloss: 0.400898\n",
      "[3400]\tvalid_0's binary_logloss: 0.400946\n",
      "[3500]\tvalid_0's binary_logloss: 0.400979\n",
      "[3600]\tvalid_0's binary_logloss: 0.401005\n",
      "[3700]\tvalid_0's binary_logloss: 0.401105\n",
      "[3800]\tvalid_0's binary_logloss: 0.401168\n",
      "[3900]\tvalid_0's binary_logloss: 0.401192\n",
      "[4000]\tvalid_0's binary_logloss: 0.401297\n",
      "[100]\tvalid_0's binary_logloss: 0.453675\n",
      "[200]\tvalid_0's binary_logloss: 0.42696\n",
      "[300]\tvalid_0's binary_logloss: 0.417108\n",
      "[400]\tvalid_0's binary_logloss: 0.412543\n",
      "[500]\tvalid_0's binary_logloss: 0.410454\n",
      "[600]\tvalid_0's binary_logloss: 0.409195\n",
      "[700]\tvalid_0's binary_logloss: 0.408286\n",
      "[800]\tvalid_0's binary_logloss: 0.40778\n",
      "[900]\tvalid_0's binary_logloss: 0.407416\n",
      "[1000]\tvalid_0's binary_logloss: 0.407091\n",
      "[1100]\tvalid_0's binary_logloss: 0.406914\n",
      "[1200]\tvalid_0's binary_logloss: 0.406632\n",
      "[1300]\tvalid_0's binary_logloss: 0.406478\n",
      "[1400]\tvalid_0's binary_logloss: 0.4064\n",
      "[1500]\tvalid_0's binary_logloss: 0.406386\n",
      "[1600]\tvalid_0's binary_logloss: 0.406418\n",
      "[1700]\tvalid_0's binary_logloss: 0.40639\n",
      "[1800]\tvalid_0's binary_logloss: 0.406422\n",
      "[1900]\tvalid_0's binary_logloss: 0.40646\n",
      "[2000]\tvalid_0's binary_logloss: 0.406544\n",
      "[2100]\tvalid_0's binary_logloss: 0.406482\n",
      "[2200]\tvalid_0's binary_logloss: 0.406489\n",
      "[2300]\tvalid_0's binary_logloss: 0.406519\n",
      "[2400]\tvalid_0's binary_logloss: 0.40657\n",
      "[2500]\tvalid_0's binary_logloss: 0.406635\n",
      "[2600]\tvalid_0's binary_logloss: 0.406917\n",
      "[2700]\tvalid_0's binary_logloss: 0.40704\n",
      "[2800]\tvalid_0's binary_logloss: 0.407114\n",
      "[2900]\tvalid_0's binary_logloss: 0.40721\n",
      "[3000]\tvalid_0's binary_logloss: 0.407304\n",
      "[3100]\tvalid_0's binary_logloss: 0.407372\n",
      "[3200]\tvalid_0's binary_logloss: 0.407384\n",
      "[3300]\tvalid_0's binary_logloss: 0.407439\n",
      "[3400]\tvalid_0's binary_logloss: 0.40746\n",
      "[3500]\tvalid_0's binary_logloss: 0.407474\n",
      "[3600]\tvalid_0's binary_logloss: 0.407563\n",
      "[3700]\tvalid_0's binary_logloss: 0.407678\n",
      "[3800]\tvalid_0's binary_logloss: 0.407757\n",
      "[3900]\tvalid_0's binary_logloss: 0.407847\n",
      "[4000]\tvalid_0's binary_logloss: 0.407953\n",
      "[100]\tvalid_0's binary_logloss: 0.45935\n",
      "[200]\tvalid_0's binary_logloss: 0.433292\n",
      "[300]\tvalid_0's binary_logloss: 0.423618\n",
      "[400]\tvalid_0's binary_logloss: 0.419589\n",
      "[500]\tvalid_0's binary_logloss: 0.417488\n",
      "[600]\tvalid_0's binary_logloss: 0.416086\n",
      "[700]\tvalid_0's binary_logloss: 0.415266\n",
      "[800]\tvalid_0's binary_logloss: 0.414751\n",
      "[900]\tvalid_0's binary_logloss: 0.414309\n",
      "[1000]\tvalid_0's binary_logloss: 0.414094\n",
      "[1100]\tvalid_0's binary_logloss: 0.413896\n",
      "[1200]\tvalid_0's binary_logloss: 0.413876\n",
      "[1300]\tvalid_0's binary_logloss: 0.413659\n",
      "[1400]\tvalid_0's binary_logloss: 0.41363\n",
      "[1500]\tvalid_0's binary_logloss: 0.413674\n",
      "[1600]\tvalid_0's binary_logloss: 0.413692\n",
      "[1700]\tvalid_0's binary_logloss: 0.413685\n",
      "[1800]\tvalid_0's binary_logloss: 0.413643\n",
      "[1900]\tvalid_0's binary_logloss: 0.413512\n",
      "[2000]\tvalid_0's binary_logloss: 0.413633\n",
      "[2100]\tvalid_0's binary_logloss: 0.413732\n",
      "[2200]\tvalid_0's binary_logloss: 0.413685\n",
      "[2300]\tvalid_0's binary_logloss: 0.41384\n",
      "[2400]\tvalid_0's binary_logloss: 0.413907\n",
      "[2500]\tvalid_0's binary_logloss: 0.414057\n",
      "[2600]\tvalid_0's binary_logloss: 0.414131\n",
      "[2700]\tvalid_0's binary_logloss: 0.414146\n",
      "[2800]\tvalid_0's binary_logloss: 0.414276\n",
      "[2900]\tvalid_0's binary_logloss: 0.414267\n",
      "[3000]\tvalid_0's binary_logloss: 0.414335\n",
      "[3100]\tvalid_0's binary_logloss: 0.414358\n",
      "[3200]\tvalid_0's binary_logloss: 0.414413\n",
      "[3300]\tvalid_0's binary_logloss: 0.414539\n",
      "[3400]\tvalid_0's binary_logloss: 0.414554\n",
      "[3500]\tvalid_0's binary_logloss: 0.41462\n",
      "[3600]\tvalid_0's binary_logloss: 0.414694\n",
      "[3700]\tvalid_0's binary_logloss: 0.414733\n",
      "[3800]\tvalid_0's binary_logloss: 0.414805\n",
      "[3900]\tvalid_0's binary_logloss: 0.414869\n",
      "[4000]\tvalid_0's binary_logloss: 0.4149\n",
      "[100]\tvalid_0's binary_logloss: 0.453585\n",
      "[200]\tvalid_0's binary_logloss: 0.425201\n",
      "[300]\tvalid_0's binary_logloss: 0.414911\n",
      "[400]\tvalid_0's binary_logloss: 0.410396\n",
      "[500]\tvalid_0's binary_logloss: 0.407876\n",
      "[600]\tvalid_0's binary_logloss: 0.406284\n",
      "[700]\tvalid_0's binary_logloss: 0.40561\n",
      "[800]\tvalid_0's binary_logloss: 0.405036\n",
      "[900]\tvalid_0's binary_logloss: 0.404779\n",
      "[1000]\tvalid_0's binary_logloss: 0.404584\n",
      "[1100]\tvalid_0's binary_logloss: 0.404564\n",
      "[1200]\tvalid_0's binary_logloss: 0.404498\n",
      "[1300]\tvalid_0's binary_logloss: 0.404426\n",
      "[1400]\tvalid_0's binary_logloss: 0.404346\n",
      "[1500]\tvalid_0's binary_logloss: 0.404344\n",
      "[1600]\tvalid_0's binary_logloss: 0.404349\n",
      "[1700]\tvalid_0's binary_logloss: 0.404467\n",
      "[1800]\tvalid_0's binary_logloss: 0.404608\n",
      "[1900]\tvalid_0's binary_logloss: 0.404783\n",
      "[2000]\tvalid_0's binary_logloss: 0.404925\n",
      "[2100]\tvalid_0's binary_logloss: 0.405042\n",
      "[2200]\tvalid_0's binary_logloss: 0.405211\n",
      "[2300]\tvalid_0's binary_logloss: 0.405365\n",
      "[2400]\tvalid_0's binary_logloss: 0.405593\n",
      "[2500]\tvalid_0's binary_logloss: 0.405778\n",
      "[2600]\tvalid_0's binary_logloss: 0.405842\n",
      "[2700]\tvalid_0's binary_logloss: 0.40602\n",
      "[2800]\tvalid_0's binary_logloss: 0.406196\n",
      "[2900]\tvalid_0's binary_logloss: 0.406296\n",
      "[3000]\tvalid_0's binary_logloss: 0.406443\n",
      "[3100]\tvalid_0's binary_logloss: 0.406546\n",
      "[3200]\tvalid_0's binary_logloss: 0.406745\n",
      "[3300]\tvalid_0's binary_logloss: 0.407009\n",
      "[3400]\tvalid_0's binary_logloss: 0.407174\n",
      "[3500]\tvalid_0's binary_logloss: 0.407394\n",
      "[3600]\tvalid_0's binary_logloss: 0.407519\n",
      "[3700]\tvalid_0's binary_logloss: 0.407663\n"
     ]
    },
    {
     "name": "stdout",
     "output_type": "stream",
     "text": [
      "[3800]\tvalid_0's binary_logloss: 0.407785\n",
      "[3900]\tvalid_0's binary_logloss: 0.40794\n",
      "[4000]\tvalid_0's binary_logloss: 0.408019\n",
      "[100]\tvalid_0's binary_logloss: 0.45426\n",
      "[200]\tvalid_0's binary_logloss: 0.426365\n",
      "[300]\tvalid_0's binary_logloss: 0.415971\n",
      "[400]\tvalid_0's binary_logloss: 0.411324\n",
      "[500]\tvalid_0's binary_logloss: 0.408816\n",
      "[600]\tvalid_0's binary_logloss: 0.407186\n",
      "[700]\tvalid_0's binary_logloss: 0.406329\n",
      "[800]\tvalid_0's binary_logloss: 0.405903\n",
      "[900]\tvalid_0's binary_logloss: 0.405585\n",
      "[1000]\tvalid_0's binary_logloss: 0.405393\n",
      "[1100]\tvalid_0's binary_logloss: 0.405269\n",
      "[1200]\tvalid_0's binary_logloss: 0.405118\n",
      "[1300]\tvalid_0's binary_logloss: 0.405009\n",
      "[1400]\tvalid_0's binary_logloss: 0.404913\n",
      "[1500]\tvalid_0's binary_logloss: 0.40469\n",
      "[1600]\tvalid_0's binary_logloss: 0.404496\n",
      "[1700]\tvalid_0's binary_logloss: 0.404432\n",
      "[1800]\tvalid_0's binary_logloss: 0.404322\n",
      "[1900]\tvalid_0's binary_logloss: 0.404428\n",
      "[2000]\tvalid_0's binary_logloss: 0.404291\n",
      "[2100]\tvalid_0's binary_logloss: 0.404406\n",
      "[2200]\tvalid_0's binary_logloss: 0.404324\n",
      "[2300]\tvalid_0's binary_logloss: 0.404275\n",
      "[2400]\tvalid_0's binary_logloss: 0.404305\n",
      "[2500]\tvalid_0's binary_logloss: 0.404422\n",
      "[2600]\tvalid_0's binary_logloss: 0.404463\n",
      "[2700]\tvalid_0's binary_logloss: 0.404505\n",
      "[2800]\tvalid_0's binary_logloss: 0.404655\n",
      "[2900]\tvalid_0's binary_logloss: 0.404748\n",
      "[3000]\tvalid_0's binary_logloss: 0.404893\n",
      "[3100]\tvalid_0's binary_logloss: 0.405088\n",
      "[3200]\tvalid_0's binary_logloss: 0.405132\n",
      "[3300]\tvalid_0's binary_logloss: 0.405042\n",
      "[3400]\tvalid_0's binary_logloss: 0.405149\n",
      "[3500]\tvalid_0's binary_logloss: 0.40524\n",
      "[3600]\tvalid_0's binary_logloss: 0.405308\n",
      "[3700]\tvalid_0's binary_logloss: 0.405386\n",
      "[3800]\tvalid_0's binary_logloss: 0.405443\n",
      "[3900]\tvalid_0's binary_logloss: 0.405618\n",
      "[4000]\tvalid_0's binary_logloss: 0.405719\n",
      "[100]\tvalid_0's binary_logloss: 0.462736\n",
      "[200]\tvalid_0's binary_logloss: 0.440792\n",
      "[300]\tvalid_0's binary_logloss: 0.43356\n",
      "[400]\tvalid_0's binary_logloss: 0.430636\n",
      "[500]\tvalid_0's binary_logloss: 0.429222\n",
      "[600]\tvalid_0's binary_logloss: 0.428102\n",
      "[700]\tvalid_0's binary_logloss: 0.427488\n",
      "[800]\tvalid_0's binary_logloss: 0.427056\n",
      "[900]\tvalid_0's binary_logloss: 0.426863\n",
      "[1000]\tvalid_0's binary_logloss: 0.426829\n",
      "[1100]\tvalid_0's binary_logloss: 0.426718\n",
      "[1200]\tvalid_0's binary_logloss: 0.4266\n",
      "[1300]\tvalid_0's binary_logloss: 0.426508\n",
      "[1400]\tvalid_0's binary_logloss: 0.426428\n",
      "[1500]\tvalid_0's binary_logloss: 0.426437\n",
      "[1600]\tvalid_0's binary_logloss: 0.426505\n",
      "[1700]\tvalid_0's binary_logloss: 0.426474\n",
      "[1800]\tvalid_0's binary_logloss: 0.426493\n",
      "[1900]\tvalid_0's binary_logloss: 0.426634\n",
      "[2000]\tvalid_0's binary_logloss: 0.426752\n",
      "[2100]\tvalid_0's binary_logloss: 0.426874\n",
      "[2200]\tvalid_0's binary_logloss: 0.426955\n",
      "[2300]\tvalid_0's binary_logloss: 0.426967\n",
      "[2400]\tvalid_0's binary_logloss: 0.427047\n",
      "[2500]\tvalid_0's binary_logloss: 0.427143\n",
      "[2600]\tvalid_0's binary_logloss: 0.427107\n",
      "[2700]\tvalid_0's binary_logloss: 0.427204\n",
      "[2800]\tvalid_0's binary_logloss: 0.427353\n",
      "[2900]\tvalid_0's binary_logloss: 0.427402\n",
      "[3000]\tvalid_0's binary_logloss: 0.427488\n",
      "[3100]\tvalid_0's binary_logloss: 0.427542\n",
      "[3200]\tvalid_0's binary_logloss: 0.427643\n",
      "[3300]\tvalid_0's binary_logloss: 0.427735\n",
      "[3400]\tvalid_0's binary_logloss: 0.427792\n",
      "[3500]\tvalid_0's binary_logloss: 0.427892\n",
      "[3600]\tvalid_0's binary_logloss: 0.427877\n",
      "[3700]\tvalid_0's binary_logloss: 0.42796\n",
      "[3800]\tvalid_0's binary_logloss: 0.427929\n",
      "[3900]\tvalid_0's binary_logloss: 0.428008\n",
      "[4000]\tvalid_0's binary_logloss: 0.428029\n",
      "[100]\tvalid_0's binary_logloss: 0.453886\n",
      "[200]\tvalid_0's binary_logloss: 0.426542\n",
      "[300]\tvalid_0's binary_logloss: 0.416431\n",
      "[400]\tvalid_0's binary_logloss: 0.411615\n",
      "[500]\tvalid_0's binary_logloss: 0.409202\n",
      "[600]\tvalid_0's binary_logloss: 0.407778\n",
      "[700]\tvalid_0's binary_logloss: 0.407058\n",
      "[800]\tvalid_0's binary_logloss: 0.406619\n",
      "[900]\tvalid_0's binary_logloss: 0.406154\n",
      "[1000]\tvalid_0's binary_logloss: 0.405848\n",
      "[1100]\tvalid_0's binary_logloss: 0.405572\n",
      "[1200]\tvalid_0's binary_logloss: 0.405288\n",
      "[1300]\tvalid_0's binary_logloss: 0.405022\n",
      "[1400]\tvalid_0's binary_logloss: 0.404846\n",
      "[1500]\tvalid_0's binary_logloss: 0.404724\n",
      "[1600]\tvalid_0's binary_logloss: 0.404725\n",
      "[1700]\tvalid_0's binary_logloss: 0.404632\n",
      "[1800]\tvalid_0's binary_logloss: 0.404811\n",
      "[1900]\tvalid_0's binary_logloss: 0.404938\n",
      "[2000]\tvalid_0's binary_logloss: 0.404973\n",
      "[2100]\tvalid_0's binary_logloss: 0.404957\n",
      "[2200]\tvalid_0's binary_logloss: 0.40506\n",
      "[2300]\tvalid_0's binary_logloss: 0.405152\n",
      "[2400]\tvalid_0's binary_logloss: 0.405162\n",
      "[2500]\tvalid_0's binary_logloss: 0.405171\n",
      "[2600]\tvalid_0's binary_logloss: 0.405194\n",
      "[2700]\tvalid_0's binary_logloss: 0.405264\n",
      "[2800]\tvalid_0's binary_logloss: 0.405402\n",
      "[2900]\tvalid_0's binary_logloss: 0.405445\n",
      "[3000]\tvalid_0's binary_logloss: 0.405441\n",
      "[3100]\tvalid_0's binary_logloss: 0.405527\n",
      "[3200]\tvalid_0's binary_logloss: 0.405636\n",
      "[3300]\tvalid_0's binary_logloss: 0.405646\n",
      "[3400]\tvalid_0's binary_logloss: 0.405801\n",
      "[3500]\tvalid_0's binary_logloss: 0.405839\n",
      "[3600]\tvalid_0's binary_logloss: 0.406005\n",
      "[3700]\tvalid_0's binary_logloss: 0.406146\n",
      "[3800]\tvalid_0's binary_logloss: 0.406353\n",
      "[3900]\tvalid_0's binary_logloss: 0.406457\n",
      "[4000]\tvalid_0's binary_logloss: 0.406648\n",
      "[100]\tvalid_0's binary_logloss: 0.44741\n",
      "[200]\tvalid_0's binary_logloss: 0.416947\n",
      "[300]\tvalid_0's binary_logloss: 0.405904\n",
      "[400]\tvalid_0's binary_logloss: 0.401401\n",
      "[500]\tvalid_0's binary_logloss: 0.399838\n",
      "[600]\tvalid_0's binary_logloss: 0.398986\n",
      "[700]\tvalid_0's binary_logloss: 0.398609\n",
      "[800]\tvalid_0's binary_logloss: 0.398423\n",
      "[900]\tvalid_0's binary_logloss: 0.398257\n",
      "[1000]\tvalid_0's binary_logloss: 0.398178\n",
      "[1100]\tvalid_0's binary_logloss: 0.39817\n",
      "[1200]\tvalid_0's binary_logloss: 0.398198\n",
      "[1300]\tvalid_0's binary_logloss: 0.398339\n",
      "[1400]\tvalid_0's binary_logloss: 0.39833\n",
      "[1500]\tvalid_0's binary_logloss: 0.398387\n",
      "[1600]\tvalid_0's binary_logloss: 0.398498\n",
      "[1700]\tvalid_0's binary_logloss: 0.398649\n",
      "[1800]\tvalid_0's binary_logloss: 0.398814\n",
      "[1900]\tvalid_0's binary_logloss: 0.398913\n",
      "[2000]\tvalid_0's binary_logloss: 0.399154\n",
      "[2100]\tvalid_0's binary_logloss: 0.399204\n",
      "[2200]\tvalid_0's binary_logloss: 0.399393\n",
      "[2300]\tvalid_0's binary_logloss: 0.399396\n",
      "[2400]\tvalid_0's binary_logloss: 0.399475\n",
      "[2500]\tvalid_0's binary_logloss: 0.399606\n",
      "[2600]\tvalid_0's binary_logloss: 0.39971\n",
      "[2700]\tvalid_0's binary_logloss: 0.399819\n",
      "[2800]\tvalid_0's binary_logloss: 0.39992\n",
      "[2900]\tvalid_0's binary_logloss: 0.400061\n",
      "[3000]\tvalid_0's binary_logloss: 0.400286\n",
      "[3100]\tvalid_0's binary_logloss: 0.400491\n",
      "[3200]\tvalid_0's binary_logloss: 0.400681\n",
      "[3300]\tvalid_0's binary_logloss: 0.400882\n",
      "[3400]\tvalid_0's binary_logloss: 0.400966\n",
      "[3500]\tvalid_0's binary_logloss: 0.401155\n",
      "[3600]\tvalid_0's binary_logloss: 0.401259\n",
      "[3700]\tvalid_0's binary_logloss: 0.401562\n",
      "[3800]\tvalid_0's binary_logloss: 0.401647\n",
      "[3900]\tvalid_0's binary_logloss: 0.401745\n",
      "[4000]\tvalid_0's binary_logloss: 0.401855\n",
      "[100]\tvalid_0's binary_logloss: 0.452492\n",
      "[200]\tvalid_0's binary_logloss: 0.423915\n",
      "[300]\tvalid_0's binary_logloss: 0.413438\n",
      "[400]\tvalid_0's binary_logloss: 0.408339\n",
      "[500]\tvalid_0's binary_logloss: 0.405656\n",
      "[600]\tvalid_0's binary_logloss: 0.403891\n",
      "[700]\tvalid_0's binary_logloss: 0.402962\n",
      "[800]\tvalid_0's binary_logloss: 0.402502\n",
      "[900]\tvalid_0's binary_logloss: 0.402116\n",
      "[1000]\tvalid_0's binary_logloss: 0.401745\n",
      "[1100]\tvalid_0's binary_logloss: 0.40166\n",
      "[1200]\tvalid_0's binary_logloss: 0.401496\n",
      "[1300]\tvalid_0's binary_logloss: 0.401375\n",
      "[1400]\tvalid_0's binary_logloss: 0.401128\n",
      "[1500]\tvalid_0's binary_logloss: 0.400958\n",
      "[1600]\tvalid_0's binary_logloss: 0.40089\n",
      "[1700]\tvalid_0's binary_logloss: 0.4008\n",
      "[1800]\tvalid_0's binary_logloss: 0.400706\n",
      "[1900]\tvalid_0's binary_logloss: 0.400656\n",
      "[2000]\tvalid_0's binary_logloss: 0.400563\n",
      "[2100]\tvalid_0's binary_logloss: 0.400393\n",
      "[2200]\tvalid_0's binary_logloss: 0.400303\n",
      "[2300]\tvalid_0's binary_logloss: 0.400222\n",
      "[2400]\tvalid_0's binary_logloss: 0.400169\n",
      "[2500]\tvalid_0's binary_logloss: 0.40017\n",
      "[2600]\tvalid_0's binary_logloss: 0.400137\n",
      "[2700]\tvalid_0's binary_logloss: 0.400233\n",
      "[2800]\tvalid_0's binary_logloss: 0.400442\n",
      "[2900]\tvalid_0's binary_logloss: 0.400471\n",
      "[3000]\tvalid_0's binary_logloss: 0.400612\n",
      "[3100]\tvalid_0's binary_logloss: 0.400772\n",
      "[3200]\tvalid_0's binary_logloss: 0.40089\n",
      "[3300]\tvalid_0's binary_logloss: 0.400996\n",
      "[3400]\tvalid_0's binary_logloss: 0.401088\n"
     ]
    },
    {
     "name": "stdout",
     "output_type": "stream",
     "text": [
      "[3500]\tvalid_0's binary_logloss: 0.401115\n",
      "[3600]\tvalid_0's binary_logloss: 0.401186\n",
      "[3700]\tvalid_0's binary_logloss: 0.401294\n",
      "[3800]\tvalid_0's binary_logloss: 0.401445\n",
      "[3900]\tvalid_0's binary_logloss: 0.401477\n",
      "[4000]\tvalid_0's binary_logloss: 0.401622\n"
     ]
    }
   ],
   "source": [
    "from sklearn.metrics import roc_auc_score\n",
    "\n",
    "def metric(Y,pred1):\n",
    "    return roc_auc_score(Y,pred1, labels=[0,1])\n",
    "\n",
    "from sklearn.metrics import roc_auc_score\n",
    "import lightgbm\n",
    "scores_list = []\n",
    "test_oofs = []\n",
    "score = 0 \n",
    " \n",
    "for i, (tr_index, vr_index) in enumerate(fold.split(X,Y)):\n",
    "    X_train, Y_train = X.loc[tr_index, new_features1], Y.loc[tr_index]\n",
    "    X_valid, Y_valid = X.loc[vr_index,new_features1], Y.loc[vr_index]\n",
    "    \n",
    "    lgm= lightgbm.LGBMClassifier(**params1)\n",
    "    lgm.fit(X_train,Y_train,eval_set=[(X_valid,Y_valid)],verbose=100)\n",
    "    \n",
    "    pred1 = lgm.predict_proba(X_valid)[:,1]\n",
    "    auc = metric(Y_valid, pred1)\n",
    "    scores_list.append(auc)\n",
    "    score += auc/n_splits\n",
    "    \n",
    "    pred_test1 = lgm.predict_proba(test_given_new[new_features1])[:,1]\n",
    "    test_oofs.append(pred_test1)"
   ]
  },
  {
   "cell_type": "code",
   "execution_count": 215,
   "metadata": {},
   "outputs": [
    {
     "data": {
      "text/plain": [
       "[array([0.30469309, 0.25447681, 0.3481874 , ..., 0.24746639, 0.52314119,\n",
       "        0.17937296]),\n",
       " array([0.28708262, 0.30436785, 0.38946688, ..., 0.2154949 , 0.51350394,\n",
       "        0.14166591]),\n",
       " array([0.35096576, 0.23800835, 0.4174566 , ..., 0.24020376, 0.54250429,\n",
       "        0.20220741]),\n",
       " array([0.30620504, 0.26059375, 0.42210557, ..., 0.21022249, 0.47013571,\n",
       "        0.17564038]),\n",
       " array([0.35195616, 0.33717443, 0.45785169, ..., 0.23272943, 0.50223915,\n",
       "        0.17171385]),\n",
       " array([0.37921353, 0.24830387, 0.41576192, ..., 0.25018693, 0.5387501 ,\n",
       "        0.15351318]),\n",
       " array([0.35236506, 0.28356338, 0.39992498, ..., 0.22726671, 0.53045979,\n",
       "        0.15572922]),\n",
       " array([0.275134  , 0.25313952, 0.39561433, ..., 0.22570366, 0.55438874,\n",
       "        0.17585192]),\n",
       " array([0.28519913, 0.20056165, 0.36741162, ..., 0.21936776, 0.50512513,\n",
       "        0.15778132]),\n",
       " array([0.32532081, 0.16358596, 0.37690145, ..., 0.25431869, 0.53507163,\n",
       "        0.19013936])]"
      ]
     },
     "execution_count": 215,
     "metadata": {},
     "output_type": "execute_result"
    }
   ],
   "source": [
    "oof_prediction1 = pd.DataFrame(test_oofs).T\n",
    "test_oofs"
   ]
  },
  {
   "cell_type": "code",
   "execution_count": 217,
   "metadata": {},
   "outputs": [],
   "source": [
    "sub['default_status'] = np.mean(test_oofs, axis = 0)\n",
    " \n",
    "sub.to_csv('Lightgbm_Sub.csv', index=False)"
   ]
  },
  {
   "cell_type": "markdown",
   "metadata": {},
   "source": [
    "BLENDING OF THE TWO RESULTS"
   ]
  },
  {
   "cell_type": "code",
   "execution_count": 218,
   "metadata": {},
   "outputs": [],
   "source": [
    "pred_1= pd.read_csv('Lightgbm_Sub.csv')['default_status']\n",
    "pred_2 = pd.read_csv('Catboost_Sub.csv')['default_status']\n",
    "#pred3 = pd.read_csv('Real3.csv')['default_status']"
   ]
  },
  {
   "cell_type": "code",
   "execution_count": 220,
   "metadata": {},
   "outputs": [],
   "source": [
    "sub_pred = (pred_1*0.4) + (pred_2*0.6)\n",
    "sub['default_status'] = sub_pred\n",
    "sub.to_csv('Blended_submission.csv', index = False)"
   ]
  },
  {
   "cell_type": "code",
   "execution_count": null,
   "metadata": {},
   "outputs": [],
   "source": []
  }
 ],
 "metadata": {
  "accelerator": "GPU",
  "colab": {
   "collapsed_sections": [],
   "name": "Untitled9.ipynb",
   "provenance": []
  },
  "kernelspec": {
   "display_name": "Python 3",
   "language": "python",
   "name": "python3"
  },
  "language_info": {
   "codemirror_mode": {
    "name": "ipython",
    "version": 3
   },
   "file_extension": ".py",
   "mimetype": "text/x-python",
   "name": "python",
   "nbconvert_exporter": "python",
   "pygments_lexer": "ipython3",
   "version": "3.7.6"
  }
 },
 "nbformat": 4,
 "nbformat_minor": 1
}
