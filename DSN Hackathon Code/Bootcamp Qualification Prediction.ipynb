{
 "cells": [
  {
   "cell_type": "code",
   "execution_count": 1,
   "metadata": {},
   "outputs": [],
   "source": [
    "import numpy as np\n",
    "import pandas as pd\n",
    "import matplotlib.pyplot as plt\n",
    "import seaborn as sns"
   ]
  },
  {
   "cell_type": "code",
   "execution_count": 2,
   "metadata": {},
   "outputs": [],
   "source": [
    "train = pd.read_csv('C:/Users/USER/Desktop/DSN Hackathon/Bootcamp Qualification/Train (2).csv')\n",
    "test_given = pd.read_csv('C:/Users/USER/Desktop/DSN Hackathon/Bootcamp Qualification/Test (2).csv')\n",
    "sample_submission = pd.read_csv('C:/Users/USER/Desktop/DSN Hackathon/Bootcamp Qualification/SampleSubmission (2).csv')"
   ]
  },
  {
   "cell_type": "code",
   "execution_count": 3,
   "metadata": {},
   "outputs": [
    {
     "name": "stdout",
     "output_type": "stream",
     "text": [
      "<class 'pandas.core.frame.DataFrame'>\n",
      "RangeIndex: 56000 entries, 0 to 55999\n",
      "Data columns (total 52 columns):\n",
      " #   Column          Non-Null Count  Dtype  \n",
      "---  ------          --------------  -----  \n",
      " 0   Applicant_ID    56000 non-null  object \n",
      " 1   form_field1     53471 non-null  float64\n",
      " 2   form_field2     52156 non-null  float64\n",
      " 3   form_field3     55645 non-null  float64\n",
      " 4   form_field4     55645 non-null  float64\n",
      " 5   form_field5     55645 non-null  float64\n",
      " 6   form_field6     42640 non-null  float64\n",
      " 7   form_field7     50837 non-null  float64\n",
      " 8   form_field8     42640 non-null  float64\n",
      " 9   form_field9     47992 non-null  float64\n",
      " 10  form_field10    55645 non-null  float64\n",
      " 11  form_field11    24579 non-null  float64\n",
      " 12  form_field12    46105 non-null  float64\n",
      " 13  form_field13    50111 non-null  float64\n",
      " 14  form_field14    56000 non-null  int64  \n",
      " 15  form_field15    33525 non-null  float64\n",
      " 16  form_field16    42964 non-null  float64\n",
      " 17  form_field17    44849 non-null  float64\n",
      " 18  form_field18    45598 non-null  float64\n",
      " 19  form_field19    55996 non-null  float64\n",
      " 20  form_field20    55645 non-null  float64\n",
      " 21  form_field21    40146 non-null  float64\n",
      " 22  form_field22    35600 non-null  float64\n",
      " 23  form_field23    27877 non-null  float64\n",
      " 24  form_field24    42703 non-null  float64\n",
      " 25  form_field25    50550 non-null  float64\n",
      " 26  form_field26    48562 non-null  float64\n",
      " 27  form_field27    46701 non-null  float64\n",
      " 28  form_field28    55645 non-null  float64\n",
      " 29  form_field29    55645 non-null  float64\n",
      " 30  form_field30    30491 non-null  float64\n",
      " 31  form_field31    16592 non-null  float64\n",
      " 32  form_field32    50550 non-null  float64\n",
      " 33  form_field33    54744 non-null  float64\n",
      " 34  form_field34    55645 non-null  float64\n",
      " 35  form_field35    32852 non-null  float64\n",
      " 36  form_field36    54005 non-null  float64\n",
      " 37  form_field37    50550 non-null  float64\n",
      " 38  form_field38    55645 non-null  float64\n",
      " 39  form_field39    51789 non-null  float64\n",
      " 40  form_field40    12271 non-null  float64\n",
      " 41  form_field41    17771 non-null  float64\n",
      " 42  form_field42    54677 non-null  float64\n",
      " 43  form_field43    55432 non-null  float64\n",
      " 44  form_field44    50617 non-null  float64\n",
      " 45  form_field45    24683 non-null  float64\n",
      " 46  form_field46    40096 non-null  float64\n",
      " 47  form_field47    56000 non-null  object \n",
      " 48  form_field48    35111 non-null  float64\n",
      " 49  form_field49    55645 non-null  float64\n",
      " 50  form_field50    44944 non-null  float64\n",
      " 51  default_status  56000 non-null  object \n",
      "dtypes: float64(48), int64(1), object(3)\n",
      "memory usage: 22.2+ MB\n"
     ]
    }
   ],
   "source": [
    "train.info()"
   ]
  },
  {
   "cell_type": "code",
   "execution_count": 4,
   "metadata": {},
   "outputs": [
    {
     "name": "stdout",
     "output_type": "stream",
     "text": [
      "<class 'pandas.core.frame.DataFrame'>\n",
      "RangeIndex: 24000 entries, 0 to 23999\n",
      "Data columns (total 51 columns):\n",
      " #   Column        Non-Null Count  Dtype  \n",
      "---  ------        --------------  -----  \n",
      " 0   Applicant_ID  24000 non-null  object \n",
      " 1   form_field1   22890 non-null  float64\n",
      " 2   form_field2   22291 non-null  float64\n",
      " 3   form_field3   23854 non-null  float64\n",
      " 4   form_field4   23854 non-null  float64\n",
      " 5   form_field5   23854 non-null  float64\n",
      " 6   form_field6   18396 non-null  float64\n",
      " 7   form_field7   21769 non-null  float64\n",
      " 8   form_field8   18396 non-null  float64\n",
      " 9   form_field9   20600 non-null  float64\n",
      " 10  form_field10  23853 non-null  float64\n",
      " 11  form_field11  10602 non-null  float64\n",
      " 12  form_field12  19817 non-null  float64\n",
      " 13  form_field13  21537 non-null  float64\n",
      " 14  form_field14  24000 non-null  int64  \n",
      " 15  form_field15  14408 non-null  float64\n",
      " 16  form_field16  18526 non-null  float64\n",
      " 17  form_field17  19305 non-null  float64\n",
      " 18  form_field18  19631 non-null  float64\n",
      " 19  form_field19  24000 non-null  float64\n",
      " 20  form_field20  23853 non-null  float64\n",
      " 21  form_field21  17293 non-null  float64\n",
      " 22  form_field22  15276 non-null  float64\n",
      " 23  form_field23  11875 non-null  float64\n",
      " 24  form_field24  18395 non-null  float64\n",
      " 25  form_field25  21744 non-null  float64\n",
      " 26  form_field26  20828 non-null  float64\n",
      " 27  form_field27  20090 non-null  float64\n",
      " 28  form_field28  23853 non-null  float64\n",
      " 29  form_field29  23853 non-null  float64\n",
      " 30  form_field30  13092 non-null  float64\n",
      " 31  form_field31  7190 non-null   float64\n",
      " 32  form_field32  21744 non-null  float64\n",
      " 33  form_field33  23505 non-null  float64\n",
      " 34  form_field34  23853 non-null  float64\n",
      " 35  form_field35  14134 non-null  float64\n",
      " 36  form_field36  23097 non-null  float64\n",
      " 37  form_field37  21744 non-null  float64\n",
      " 38  form_field38  23853 non-null  float64\n",
      " 39  form_field39  22171 non-null  float64\n",
      " 40  form_field40  5172 non-null   float64\n",
      " 41  form_field41  7651 non-null   float64\n",
      " 42  form_field42  23422 non-null  float64\n",
      " 43  form_field43  23750 non-null  float64\n",
      " 44  form_field44  21638 non-null  float64\n",
      " 45  form_field45  10462 non-null  float64\n",
      " 46  form_field46  17115 non-null  float64\n",
      " 47  form_field47  24000 non-null  object \n",
      " 48  form_field48  15078 non-null  float64\n",
      " 49  form_field49  23854 non-null  float64\n",
      " 50  form_field50  19203 non-null  float64\n",
      "dtypes: float64(48), int64(1), object(2)\n",
      "memory usage: 9.3+ MB\n"
     ]
    }
   ],
   "source": [
    "test_given.info()"
   ]
  },
  {
   "cell_type": "code",
   "execution_count": 5,
   "metadata": {},
   "outputs": [],
   "source": [
    "# Encoding categorical variables\n",
    "train['form_field47'].replace('charge',1, inplace=True)\n",
    "train['form_field47'].replace('lending',0, inplace=True)\n",
    "train['default_status'].replace('yes',1, inplace=True)\n",
    "train['default_status'].replace('no',0, inplace=True)\n",
    "\n",
    "test_given['form_field47'].replace('charge',1, inplace=True)\n",
    "test_given['form_field47'].replace('lending',0, inplace=True)\n"
   ]
  },
  {
   "cell_type": "code",
   "execution_count": 6,
   "metadata": {},
   "outputs": [],
   "source": [
    "X = train.drop(['Applicant_ID','form_field23','form_field45','form_field11','form_field41','form_field40', 'form_field4','form_field17','form_field18','form_field30','form_field31','form_field35','form_field39','default_status'], axis=1)\n",
    "Y = train.iloc[:,-1]\n",
    "\n",
    "test_given_new = test_given.drop(['Applicant_ID','form_field23','form_field45','form_field11','form_field41','form_field40', 'form_field4','form_field17','form_field18','form_field30','form_field31','form_field35','form_field39'], axis=1)"
   ]
  },
  {
   "cell_type": "code",
   "execution_count": 7,
   "metadata": {},
   "outputs": [],
   "source": [
    "X[\"form_field1\"].replace(np.nan, X[\"form_field1\"].mean(), inplace=True)\n",
    "X[\"form_field2\"].replace(np.nan, X[\"form_field2\"].mean(), inplace=True)\n",
    "X[\"form_field3\"].replace(np.nan, X[\"form_field3\"].mean(), inplace=True)\n",
    "#X[\"form_field4\"].replace(np.nan, X[\"form_field4\"].mean(), inplace=True)\n",
    "X[\"form_field5\"].replace(np.nan, X[\"form_field5\"].mean(), inplace=True)\n",
    "X[\"form_field6\"].replace(np.nan, X[\"form_field6\"].mean(), inplace=True)\n",
    "X[\"form_field7\"].replace(np.nan, X[\"form_field7\"].mean(), inplace=True)\n",
    "X[\"form_field8\"].replace(np.nan, X[\"form_field8\"].mean(), inplace=True)\n",
    "X[\"form_field9\"].replace(np.nan, X[\"form_field9\"].mean(), inplace=True)\n",
    "X[\"form_field10\"].replace(np.nan, X[\"form_field10\"].mean(), inplace=True)\n",
    "X[\"form_field12\"].replace(np.nan, X[\"form_field12\"].mean(), inplace=True)\n",
    "X[\"form_field13\"].replace(np.nan, X[\"form_field13\"].mean(), inplace=True)\n",
    "X[\"form_field15\"].replace(np.nan, X[\"form_field15\"].mean(), inplace=True)\n",
    "X[\"form_field16\"].replace(np.nan, X[\"form_field16\"].mean(), inplace=True)\n",
    "#X[\"form_field17\"].replace(np.nan, X[\"form_field17\"].mean(), inplace=True)\n",
    "#X[\"form_field18\"].replace(np.nan, X[\"form_field18\"].mean(), inplace=True)\n",
    "X[\"form_field19\"].replace(np.nan, X[\"form_field19\"].mean(), inplace=True)\n",
    "X[\"form_field20\"].replace(np.nan, X[\"form_field20\"].mean(), inplace=True)\n",
    "X[\"form_field21\"].replace(np.nan, X[\"form_field21\"].mean(), inplace=True)\n",
    "X[\"form_field22\"].replace(np.nan, X[\"form_field22\"].mean(), inplace=True)\n",
    "X[\"form_field24\"].replace(np.nan, X[\"form_field24\"].mean(), inplace=True)\n",
    "X[\"form_field25\"].replace(np.nan, X[\"form_field25\"].mean(), inplace=True)\n",
    "X[\"form_field26\"].replace(np.nan, X[\"form_field26\"].mean(), inplace=True)\n",
    "X[\"form_field27\"].replace(np.nan, X[\"form_field27\"].mean(), inplace=True)\n",
    "X[\"form_field28\"].replace(np.nan, X[\"form_field28\"].mean(), inplace=True)\n",
    "X[\"form_field29\"].replace(np.nan, X[\"form_field29\"].mean(), inplace=True)\n",
    "#X[\"form_field30\"].replace(np.nan, X[\"form_field30\"].mean(), inplace=True)\n",
    "X[\"form_field32\"].replace(np.nan, X[\"form_field32\"].mean(), inplace=True)\n",
    "X[\"form_field33\"].replace(np.nan, X[\"form_field33\"].mean(), inplace=True)\n",
    "X[\"form_field34\"].replace(np.nan, X[\"form_field34\"].mean(), inplace=True)\n",
    "#X[\"form_field35\"].replace(np.nan, X[\"form_field35\"].mean(), inplace=True)\n",
    "X[\"form_field36\"].replace(np.nan, X[\"form_field36\"].mean(), inplace=True)\n",
    "X[\"form_field37\"].replace(np.nan, X[\"form_field37\"].mean(), inplace=True)\n",
    "X[\"form_field38\"].replace(np.nan, X[\"form_field38\"].mean(), inplace=True)\n",
    "#X[\"form_field39\"].replace(np.nan, X[\"form_field39\"].mean(), inplace=True)\n",
    "X[\"form_field42\"].replace(np.nan, X[\"form_field42\"].mean(), inplace=True)\n",
    "X[\"form_field43\"].replace(np.nan, X[\"form_field43\"].mean(), inplace=True)\n",
    "X[\"form_field44\"].replace(np.nan, X[\"form_field44\"].mean(), inplace=True)\n",
    "X[\"form_field46\"].replace(np.nan, X[\"form_field46\"].mean(), inplace=True)\n",
    "X[\"form_field48\"].replace(np.nan, X[\"form_field48\"].mean(), inplace=True)\n",
    "X[\"form_field49\"].replace(np.nan, X[\"form_field49\"].mean(), inplace=True)\n",
    "X[\"form_field50\"].replace(np.nan, X[\"form_field50\"].mean(), inplace=True)"
   ]
  },
  {
   "cell_type": "code",
   "execution_count": 8,
   "metadata": {},
   "outputs": [
    {
     "data": {
      "text/plain": [
       "(56000,)"
      ]
     },
     "execution_count": 8,
     "metadata": {},
     "output_type": "execute_result"
    }
   ],
   "source": [
    "Y.shape"
   ]
  },
  {
   "cell_type": "code",
   "execution_count": 9,
   "metadata": {},
   "outputs": [],
   "source": [
    "test_given_new[\"form_field1\"].replace(np.nan, test_given_new[\"form_field1\"].mean(), inplace=True)\n",
    "test_given_new[\"form_field2\"].replace(np.nan, test_given_new[\"form_field2\"].mean(), inplace=True)\n",
    "test_given_new[\"form_field3\"].replace(np.nan, test_given_new[\"form_field3\"].mean(), inplace=True)\n",
    "#X[\"form_field4\"].replace(np.nan, X[\"form_field4\"].mean(), inplace=True)\n",
    "test_given_new[\"form_field5\"].replace(np.nan, test_given_new[\"form_field5\"].mean(), inplace=True)\n",
    "test_given_new[\"form_field6\"].replace(np.nan, test_given_new[\"form_field6\"].mean(), inplace=True)\n",
    "test_given_new[\"form_field7\"].replace(np.nan, test_given_new[\"form_field7\"].mean(), inplace=True)\n",
    "test_given_new[\"form_field8\"].replace(np.nan, test_given_new[\"form_field8\"].mean(), inplace=True)\n",
    "test_given_new[\"form_field9\"].replace(np.nan, test_given_new[\"form_field9\"].mean(), inplace=True)\n",
    "test_given_new[\"form_field10\"].replace(np.nan, test_given_new[\"form_field10\"].mean(), inplace=True)\n",
    "test_given_new[\"form_field12\"].replace(np.nan, test_given_new[\"form_field12\"].mean(), inplace=True)\n",
    "test_given_new[\"form_field13\"].replace(np.nan, test_given_new[\"form_field13\"].mean(), inplace=True)\n",
    "test_given_new[\"form_field15\"].replace(np.nan, test_given_new[\"form_field15\"].mean(), inplace=True)\n",
    "test_given_new[\"form_field16\"].replace(np.nan, test_given_new[\"form_field16\"].mean(), inplace=True)\n",
    "#X[\"form_field17\"].replace(np.nan, X[\"form_field17\"].mean(), inplace=True)\n",
    "#X[\"form_field18\"].replace(np.nan, X[\"form_field18\"].mean(), inplace=True)\n",
    "test_given_new[\"form_field19\"].replace(np.nan, test_given_new[\"form_field19\"].mean(), inplace=True)\n",
    "test_given_new[\"form_field20\"].replace(np.nan, test_given_new[\"form_field20\"].mean(), inplace=True)\n",
    "test_given_new[\"form_field21\"].replace(np.nan, test_given_new[\"form_field21\"].mean(), inplace=True)\n",
    "test_given_new[\"form_field22\"].replace(np.nan, test_given_new[\"form_field22\"].mean(), inplace=True)\n",
    "test_given_new[\"form_field24\"].replace(np.nan, test_given_new[\"form_field24\"].mean(), inplace=True)\n",
    "test_given_new[\"form_field25\"].replace(np.nan, test_given_new[\"form_field25\"].mean(), inplace=True)\n",
    "test_given_new[\"form_field26\"].replace(np.nan, test_given_new[\"form_field26\"].mean(), inplace=True)\n",
    "test_given_new[\"form_field27\"].replace(np.nan, test_given_new[\"form_field27\"].mean(), inplace=True)\n",
    "test_given_new[\"form_field28\"].replace(np.nan, test_given_new[\"form_field28\"].mean(), inplace=True)\n",
    "test_given_new[\"form_field29\"].replace(np.nan, test_given_new[\"form_field29\"].mean(), inplace=True)\n",
    "#X[\"form_field30\"].replace(np.nan, X[\"form_field30\"].mean(), inplace=True)\n",
    "test_given_new[\"form_field32\"].replace(np.nan, test_given_new[\"form_field32\"].mean(), inplace=True)\n",
    "test_given_new[\"form_field33\"].replace(np.nan, test_given_new[\"form_field33\"].mean(), inplace=True)\n",
    "test_given_new[\"form_field34\"].replace(np.nan, test_given_new[\"form_field34\"].mean(), inplace=True)\n",
    "#X[\"form_field35\"].replace(np.nan, X[\"form_field35\"].mean(), inplace=True)\n",
    "test_given_new[\"form_field36\"].replace(np.nan, test_given_new[\"form_field36\"].mean(), inplace=True)\n",
    "test_given_new[\"form_field37\"].replace(np.nan, test_given_new[\"form_field37\"].mean(), inplace=True)\n",
    "test_given_new[\"form_field38\"].replace(np.nan, test_given_new[\"form_field38\"].mean(), inplace=True)\n",
    "#X[\"form_field39\"].replace(np.nan, X[\"form_field39\"].mean(), inplace=True)\n",
    "test_given_new[\"form_field42\"].replace(np.nan, test_given_new[\"form_field42\"].mean(), inplace=True)\n",
    "test_given_new[\"form_field43\"].replace(np.nan, test_given_new[\"form_field43\"].mean(), inplace=True)\n",
    "test_given_new[\"form_field44\"].replace(np.nan, test_given_new[\"form_field44\"].mean(), inplace=True)\n",
    "test_given_new[\"form_field46\"].replace(np.nan, test_given_new[\"form_field46\"].mean(), inplace=True)\n",
    "test_given_new[\"form_field48\"].replace(np.nan, test_given_new[\"form_field48\"].mean(), inplace=True)\n",
    "test_given_new[\"form_field49\"].replace(np.nan, test_given_new[\"form_field49\"].mean(), inplace=True)\n",
    "test_given_new[\"form_field50\"].replace(np.nan, test_given_new[\"form_field50\"].mean(), inplace=True)"
   ]
  },
  {
   "cell_type": "code",
   "execution_count": 10,
   "metadata": {},
   "outputs": [],
   "source": [
    "#Splitting into test and train set\n",
    "from sklearn.model_selection import train_test_split\n",
    "X_train, X_test, Y_train, Y_test = train_test_split(X,Y,test_size=0.3, random_state = 0)"
   ]
  },
  {
   "cell_type": "code",
   "execution_count": 11,
   "metadata": {},
   "outputs": [
    {
     "data": {
      "text/plain": [
       "AdaBoostClassifier(algorithm='SAMME.R',\n",
       "                   base_estimator=DecisionTreeClassifier(ccp_alpha=0.0,\n",
       "                                                         class_weight=None,\n",
       "                                                         criterion='gini',\n",
       "                                                         max_depth=1,\n",
       "                                                         max_features=None,\n",
       "                                                         max_leaf_nodes=None,\n",
       "                                                         min_impurity_decrease=0.0,\n",
       "                                                         min_impurity_split=None,\n",
       "                                                         min_samples_leaf=1,\n",
       "                                                         min_samples_split=2,\n",
       "                                                         min_weight_fraction_leaf=0.0,\n",
       "                                                         presort='deprecated',\n",
       "                                                         random_state=None,\n",
       "                                                         splitter='best'),\n",
       "                   learning_rate=1.0, n_estimators=200, random_state=None)"
      ]
     },
     "execution_count": 11,
     "metadata": {},
     "output_type": "execute_result"
    }
   ],
   "source": [
    "#Using Adaboost\n",
    "from sklearn.ensemble import AdaBoostClassifier\n",
    "from sklearn.metrics import confusion_matrix\n",
    "from sklearn.tree import DecisionTreeClassifier\n",
    "\n",
    "classifier_ada = AdaBoostClassifier(DecisionTreeClassifier(max_depth=1), n_estimators = 200)\n",
    "classifier_ada.fit(X_train, Y_train)"
   ]
  },
  {
   "cell_type": "code",
   "execution_count": 13,
   "metadata": {},
   "outputs": [
    {
     "data": {
      "text/plain": [
       "array([0.49813094, 0.49947502, 0.49910823, ..., 0.50010644, 0.49937311,\n",
       "       0.49896049])"
      ]
     },
     "execution_count": 13,
     "metadata": {},
     "output_type": "execute_result"
    }
   ],
   "source": [
    "Y_pred_ada = classifier_ada.predict(X_test)\n",
    "Y_pred_proba_ada = classifier_ada.predict_proba(X_test)[:,1]\n",
    "Y_pred_proba_ada"
   ]
  },
  {
   "cell_type": "code",
   "execution_count": 14,
   "metadata": {},
   "outputs": [],
   "source": [
    "#from sklearn.metrics import confusion_matrix\n",
    "#cm = confusion_matrix(Y_test, Y_pred)\n",
    "#cm"
   ]
  },
  {
   "cell_type": "code",
   "execution_count": 15,
   "metadata": {},
   "outputs": [
    {
     "data": {
      "text/plain": [
       "0.8255761173619687"
      ]
     },
     "execution_count": 15,
     "metadata": {},
     "output_type": "execute_result"
    }
   ],
   "source": [
    "from sklearn.metrics import roc_curve\n",
    "from sklearn.metrics import roc_auc_score\n",
    "\n",
    "auc_ada = roc_auc_score(Y_test,Y_pred_proba_ada)\n",
    "auc_ada"
   ]
  },
  {
   "cell_type": "code",
   "execution_count": 16,
   "metadata": {},
   "outputs": [],
   "source": [
    "#Y_pred_proba1 = classifier.predict_proba(test_given_new)[:,1]\n",
    "#Y_pred_proba1"
   ]
  },
  {
   "cell_type": "code",
   "execution_count": 17,
   "metadata": {},
   "outputs": [],
   "source": [
    "identifier = test_given['Applicant_ID']\n",
    "#identifier\n",
    "\n",
    "sub = pd.DataFrame(identifier, columns=['Applicant_ID'])\n",
    "#sub['default_status'] = Y_pred_proba1\n",
    "#sub\n",
    "\n",
    "#sub.to_csv('Comp_submission.csv', index=False)"
   ]
  },
  {
   "cell_type": "code",
   "execution_count": 19,
   "metadata": {},
   "outputs": [
    {
     "data": {
      "text/plain": [
       "GradientBoostingClassifier(ccp_alpha=0.0, criterion='friedman_mse', init=None,\n",
       "                           learning_rate=0.1, loss='deviance', max_depth=3,\n",
       "                           max_features=None, max_leaf_nodes=None,\n",
       "                           min_impurity_decrease=0.0, min_impurity_split=None,\n",
       "                           min_samples_leaf=1, min_samples_split=2,\n",
       "                           min_weight_fraction_leaf=0.0, n_estimators=200,\n",
       "                           n_iter_no_change=None, presort='deprecated',\n",
       "                           random_state=None, subsample=1.0, tol=0.0001,\n",
       "                           validation_fraction=0.1, verbose=0,\n",
       "                           warm_start=False)"
      ]
     },
     "execution_count": 19,
     "metadata": {},
     "output_type": "execute_result"
    }
   ],
   "source": [
    "#Using gradientboosting\n",
    "from sklearn.ensemble import AdaBoostClassifier, RandomForestClassifier,GradientBoostingClassifier\n",
    "from sklearn.metrics import confusion_matrix\n",
    "\n",
    "classifier_grad = GradientBoostingClassifier(n_estimators = 200)\n",
    "classifier_grad.fit(X_train, Y_train)"
   ]
  },
  {
   "cell_type": "code",
   "execution_count": 20,
   "metadata": {},
   "outputs": [
    {
     "data": {
      "text/plain": [
       "array([0.13091588, 0.4629386 , 0.33162861, ..., 0.55547163, 0.28692166,\n",
       "       0.24293952])"
      ]
     },
     "execution_count": 20,
     "metadata": {},
     "output_type": "execute_result"
    }
   ],
   "source": [
    "Y_pred_grad = classifier_grad.predict(X_test)\n",
    "Y_pred_proba_grad = classifier_grad.predict_proba(X_test)[:,1]\n",
    "Y_pred_proba_grad"
   ]
  },
  {
   "cell_type": "code",
   "execution_count": 21,
   "metadata": {},
   "outputs": [
    {
     "data": {
      "text/plain": [
       "0.8323611088371523"
      ]
     },
     "execution_count": 21,
     "metadata": {},
     "output_type": "execute_result"
    }
   ],
   "source": [
    "from sklearn.metrics import roc_curve\n",
    "from sklearn.metrics import roc_auc_score\n",
    "\n",
    "auc_grad = roc_auc_score(Y_test,Y_pred_proba_grad)\n",
    "auc_grad"
   ]
  },
  {
   "cell_type": "code",
   "execution_count": 22,
   "metadata": {},
   "outputs": [
    {
     "data": {
      "text/plain": [
       "array([0.4968716 , 0.322986  , 0.2679334 , ..., 0.25852925, 0.49109466,\n",
       "       0.19316128])"
      ]
     },
     "execution_count": 22,
     "metadata": {},
     "output_type": "execute_result"
    }
   ],
   "source": [
    "Y_pred_proba2_grad = classifier_grad.predict_proba(test_given_new)[:,1]\n",
    "Y_pred_proba2_grad"
   ]
  },
  {
   "cell_type": "code",
   "execution_count": 23,
   "metadata": {},
   "outputs": [],
   "source": [
    "identifier = test_given['Applicant_ID']\n",
    "#identifier\n",
    "\n",
    "#sub = pd.DataFrame(identifier, columns=['Applicant_ID'])\n",
    "#sub['default_status'] = Y_pred_proba2\n",
    "#sub\n",
    "\n",
    "#sub.to_csv('Comp_submission1.csv', index=False)"
   ]
  },
  {
   "cell_type": "code",
   "execution_count": 24,
   "metadata": {},
   "outputs": [
    {
     "data": {
      "text/plain": [
       "RandomForestClassifier(bootstrap=True, ccp_alpha=0.0, class_weight=None,\n",
       "                       criterion='gini', max_depth=None, max_features='auto',\n",
       "                       max_leaf_nodes=None, max_samples=None,\n",
       "                       min_impurity_decrease=0.0, min_impurity_split=None,\n",
       "                       min_samples_leaf=1, min_samples_split=2,\n",
       "                       min_weight_fraction_leaf=0.0, n_estimators=200,\n",
       "                       n_jobs=None, oob_score=False, random_state=None,\n",
       "                       verbose=0, warm_start=False)"
      ]
     },
     "execution_count": 24,
     "metadata": {},
     "output_type": "execute_result"
    }
   ],
   "source": [
    "#Using randomforest\n",
    "from sklearn.ensemble import AdaBoostClassifier, RandomForestClassifier,GradientBoostingClassifier\n",
    "from sklearn.metrics import confusion_matrix\n",
    "\n",
    "classifier_rand = RandomForestClassifier(n_estimators = 200)\n",
    "classifier_rand.fit(X_train, Y_train)"
   ]
  },
  {
   "cell_type": "code",
   "execution_count": 26,
   "metadata": {},
   "outputs": [
    {
     "data": {
      "text/plain": [
       "array([0.31 , 0.425, 0.46 , ..., 0.52 , 0.295, 0.29 ])"
      ]
     },
     "execution_count": 26,
     "metadata": {},
     "output_type": "execute_result"
    }
   ],
   "source": [
    "Y_pred_rand = classifier_rand.predict(X_test)\n",
    "Y_pred_proba_rand = classifier_rand.predict_proba(X_test)[:,1]\n",
    "Y_pred_proba_rand"
   ]
  },
  {
   "cell_type": "code",
   "execution_count": 27,
   "metadata": {},
   "outputs": [
    {
     "data": {
      "text/plain": [
       "0.8278128197241073"
      ]
     },
     "execution_count": 27,
     "metadata": {},
     "output_type": "execute_result"
    }
   ],
   "source": [
    "from sklearn.metrics import roc_curve\n",
    "from sklearn.metrics import roc_auc_score\n",
    "\n",
    "auc_rand = roc_auc_score(Y_test,Y_pred_proba_rand)\n",
    "auc_rand"
   ]
  },
  {
   "cell_type": "code",
   "execution_count": null,
   "metadata": {},
   "outputs": [],
   "source": [
    "from catboost import CatBoostClassifier\n",
    "\n",
    "classifier_cat = CatBoostClassifier(max_depth =1.0, iterations = 400, learning_rate = 0.5)\n",
    "classifier_cat.fit(X_train, Y_train)"
   ]
  },
  {
   "cell_type": "code",
   "execution_count": null,
   "metadata": {},
   "outputs": [],
   "source": [
    "Y_pred_cat = classifier_cat.predict(X_test)\n",
    "Y_pred_proba3_cat = classifier_cat.predict_proba(X_test)[:,1]\n",
    "Y_pred_proba3_cat"
   ]
  },
  {
   "cell_type": "code",
   "execution_count": null,
   "metadata": {},
   "outputs": [],
   "source": [
    "from sklearn.metrics import roc_curve\n",
    "from sklearn.metrics import roc_auc_score\n",
    "\n",
    "auc2_cat = roc_auc_score(Y_test,Y_pred_proba3_cat)\n",
    "auc2_cat"
   ]
  },
  {
   "cell_type": "code",
   "execution_count": null,
   "metadata": {},
   "outputs": [],
   "source": [
    "#Stacking Models\n",
    "from sklearn.tree import DecisionTreeClassifier\n",
    "from sklearn.ensemble import StackingClassifier\n",
    "from sklearn.linear_model import LogisticRegression\n",
    "\n",
    "estimators = [\n",
    "    ('classifier_rand', RandomForestClassifier()),\n",
    "    ('classifier_cat', CatBoostClassifier()),\n",
    "    ('classifier_grad', GradientBoostingClassifier)\n",
    "]\n",
    "\n",
    "\n",
    "sta = StackingClassifier(estimators=estimators, final_estimator=LogisticRegression())\n",
    "\n",
    "clf.fit(X_train, Y_train)"
   ]
  },
  {
   "cell_type": "code",
   "execution_count": null,
   "metadata": {},
   "outputs": [],
   "source": [
    "Y_pred_sta = clf.predict(X_test)\n",
    "Y_pred_proba_sta = clf.predict_proba(X_test)[:,1]\n",
    "Y_pred_proba_sta"
   ]
  },
  {
   "cell_type": "code",
   "execution_count": null,
   "metadata": {},
   "outputs": [],
   "source": [
    "from sklearn.metrics import roc_curve\n",
    "from sklearn.metrics import roc_auc_score\n",
    "\n",
    "auc_sta = roc_auc_score(Y_test,Y_pred_proba_sta)\n",
    "auc_sta"
   ]
  },
  {
   "cell_type": "code",
   "execution_count": null,
   "metadata": {},
   "outputs": [],
   "source": [
    "Y_pred_proba_sta = classifier_grad.predict_proba(test_given_new)[:,1]\n",
    "Y_pred_proba_sta"
   ]
  },
  {
   "cell_type": "code",
   "execution_count": null,
   "metadata": {},
   "outputs": [],
   "source": [
    "identifier = test_given['Applicant_ID']\n",
    "#identifier\n",
    "\n",
    "sub = pd.DataFrame(identifier, columns=['Applicant_ID'])\n",
    "sub['default_status'] = Y_pred_proba_sta\n",
    "sub\n",
    "\n",
    "sub.to_csv('Comp_submission2.csv', index=False)"
   ]
  }
 ],
 "metadata": {
  "kernelspec": {
   "display_name": "Python 3",
   "language": "python",
   "name": "python3"
  },
  "language_info": {
   "codemirror_mode": {
    "name": "ipython",
    "version": 3
   },
   "file_extension": ".py",
   "mimetype": "text/x-python",
   "name": "python",
   "nbconvert_exporter": "python",
   "pygments_lexer": "ipython3",
   "version": "3.7.6"
  }
 },
 "nbformat": 4,
 "nbformat_minor": 4
}
